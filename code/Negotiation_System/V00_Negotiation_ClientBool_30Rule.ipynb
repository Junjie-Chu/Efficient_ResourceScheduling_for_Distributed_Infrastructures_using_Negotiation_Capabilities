{
 "cells": [
  {
   "cell_type": "code",
   "execution_count": 88,
   "metadata": {},
   "outputs": [
    {
     "name": "stdout",
     "output_type": "stream",
     "text": [
      "Defaulting to user installation because normal site-packages is not writeable\n",
      "Collecting scikit-fuzzy\n",
      "  Downloading scikit-fuzzy-0.4.2.tar.gz (993 kB)\n",
      "\u001b[2K     \u001b[38;2;114;156;31m━━━━━━━━━━━━━━━━━━━━━━━━━━━━━━━━━━━━━━━\u001b[0m \u001b[32m994.0/994.0 KB\u001b[0m \u001b[31m6.9 MB/s\u001b[0m eta \u001b[36m0:00:00\u001b[0mm eta \u001b[36m0:00:01\u001b[0m[36m0:00:01\u001b[0m\n",
      "\u001b[?25h  Preparing metadata (setup.py) ... \u001b[?25ldone\n",
      "\u001b[?25hRequirement already satisfied: networkx>=1.9.0 in /home/junjie_chu/.local/lib/python3.9/site-packages (from scikit-fuzzy) (2.6.3)\n",
      "Requirement already satisfied: numpy>=1.6.0 in /home/junjie_chu/.local/lib/python3.9/site-packages (from scikit-fuzzy) (1.21.5)\n",
      "Requirement already satisfied: scipy>=0.9.0 in /home/junjie_chu/.local/lib/python3.9/site-packages (from scikit-fuzzy) (1.7.3)\n",
      "Building wheels for collected packages: scikit-fuzzy\n",
      "  Building wheel for scikit-fuzzy (setup.py) ... \u001b[?25ldone\n",
      "\u001b[?25h  Created wheel for scikit-fuzzy: filename=scikit_fuzzy-0.4.2-py3-none-any.whl size=894068 sha256=89ce3da5a2a61862abbde947ee16118ae62821b0b8755cc6de0ffbbe9d463f5c\n",
      "  Stored in directory: /home/junjie_chu/.cache/pip/wheels/32/2c/a1/a90a7d7dd8448ec029f298a61f3490275e99b17aa348be675c\n",
      "Successfully built scikit-fuzzy\n",
      "Installing collected packages: scikit-fuzzy\n",
      "Successfully installed scikit-fuzzy-0.4.2\n"
     ]
    }
   ],
   "source": [
    "!pip3 install -U scikit-fuzzy"
   ]
  },
  {
   "cell_type": "code",
   "execution_count": 1,
   "metadata": {},
   "outputs": [],
   "source": [
    "import random\n",
    "import time\n",
    "from tqdm import tqdm\n",
    "import numpy as np\n",
    "import pandas as pd\n",
    "import skfuzzy as fuzz\n",
    "from skfuzzy import control as ctrl\n",
    "import matplotlib.pyplot as plt"
   ]
  },
  {
   "cell_type": "code",
   "execution_count": 2,
   "metadata": {},
   "outputs": [],
   "source": [
    "# the simulated price table\n",
    "# VCPU \n",
    "# 0-10: 0.2€/st 1 month\n",
    "# 11-30: 0.1\n",
    "# 31-90: 0.05\n",
    "# RAM \n",
    "# 0-20: 0.1€/per GB month\n",
    "# 21-60: 0.05\n",
    "# 61-180: 0.025\n",
    "# VOLUME：\n",
    "# 0-100：0.02€/per GB 1 month\n",
    "# 101-300：0.01€/per GB 1 month\n",
    "# 301-900：0.005€/per GB 1 month"
   ]
  },
  {
   "cell_type": "code",
   "execution_count": 3,
   "metadata": {},
   "outputs": [],
   "source": [
    "def visualize_parameter(x_range,y_range,requirement,ylabel):\n",
    "    plt.figure()\n",
    "    x = x_range\n",
    "    y = y_range\n",
    "    l1 = plt.plot(x, y, color='b',marker='o',linestyle='dashed',label='Provider proposal')\n",
    "    #plt.axis([-5, x_range[-1]+5, requirement-10,  y_range[0]+10])\n",
    "    plt.xlabel('round')\n",
    "    plt.ylabel(ylabel)\n",
    "    y_requirement = [requirement]*len(x_range)\n",
    "    l2 = plt.plot(x, y_requirement, color='r',linestyle='dashed',label='Client requirement')\n",
    "    plt.annotate('Last offer', xy=(x_range[-1],y_range[-1]), xytext=(x_range[-1],y_range[-1]-3),\n",
    "            arrowprops=dict(facecolor='black',width=0.5, headwidth=7, shrink=0.005),\n",
    "            )\n",
    "    plt.legend()\n",
    "    plt.show()"
   ]
  },
  {
   "cell_type": "code",
   "execution_count": 4,
   "metadata": {},
   "outputs": [],
   "source": [
    "# Class for provider\n",
    "class provider_base:\n",
    "    min_change = [1, 1, 10]\n",
    "    # input the initial number of vcpu,ram,volume\n",
    "    def __init__(self, n_vcpu0 = 0, n_ram0 = 0, n_volume0 = 0):\n",
    "        self.n_vcpu0 = n_vcpu0\n",
    "        self.n_ram0 = n_ram0\n",
    "        self.n_volume0 = n_volume0\n",
    "        \n",
    "    # Functions for controlling the value range of issues\n",
    "    def vcpu_range(self,n):\n",
    "        n_initial = 0\n",
    "        if 0 < n <= 10:\n",
    "            n_initial = 10+n\n",
    "        elif 11 <= n <= 30:\n",
    "            n_initial = 30+n\n",
    "        elif 31 <= n <= 90:\n",
    "            n_initial = n\n",
    "        else:\n",
    "            print('Out of Range!')\n",
    "            return -1\n",
    "        return n_initial\n",
    "\n",
    "    def ram_range(self,n):\n",
    "        n_initial = 0\n",
    "        if 0 < n <= 20:\n",
    "            n_initial = 20+n\n",
    "        elif 21 <= n <= 60:\n",
    "            n_initial = 60+n\n",
    "        elif 61 <= n <= 180:\n",
    "            n_initial = n\n",
    "        else:\n",
    "            print('Out of Range!')\n",
    "            return -1\n",
    "        return n_initial\n",
    "\n",
    "    def volume_range(self,n):\n",
    "        n_initial = 0\n",
    "        if 0 < n <= 100:\n",
    "            n_initial = 100+n\n",
    "        elif 101 <= n <= 300:\n",
    "            n_initial = 300+n\n",
    "        elif 301 <= n <= 900:\n",
    "            n_initial = n\n",
    "        else:\n",
    "            print('Out of Range!')\n",
    "            return -1\n",
    "        return n_initial\n",
    "\n",
    "    def initial_offer(self,client_requirement):\n",
    "        n_vcpu0 = self.vcpu_range(client_requirement[0])\n",
    "        n_ram0 = self.ram_range(client_requirement[1])\n",
    "        n_volume0 = self.volume_range(client_requirement[2])\n",
    "        return n_vcpu0,n_ram0,n_volume0\n",
    "    \n",
    "    def compute_ratio(self,client_requirement):\n",
    "        ratio = [int(i/client_requirement[0]) for i in client_requirement]\n",
    "        times1round_vcpu = int(ratio[0]/provider_base.min_change[0])\n",
    "        times1round_ram = int(ratio[1]/provider_base.min_change[1])\n",
    "        times1round_volume = int(ratio[2]/provider_base.min_change[2])\n",
    "        times1round = times1round_vcpu+times1round_ram+times1round_volume\n",
    "        \n",
    "        return times1round_vcpu,times1round_ram,times1round_volume,times1round\n",
    "               \n",
    "    def update_offer(self,times1round_vcpu,times1round_ram,times1round_volume,times1round,\n",
    "                     n_vcpu0,n_ram0,n_volume0,\n",
    "                     client_requirement):\n",
    "        # like random gradient decent\n",
    "        rand_int = random.randint(1,times1round)\n",
    "        t1 = times1round_vcpu\n",
    "        t2 = t1+times1round_ram\n",
    "        t3 = t2+times1round_volume\n",
    "        \n",
    "        if 1<=rand_int<=t1:\n",
    "            if n_vcpu0 > client_requirement[0]:\n",
    "                n_vcpu0=n_vcpu0-provider_base.min_change[0]\n",
    "            elif n_ram0 > client_requirement[1]:\n",
    "                n_ram0=n_ram0-provider_base.min_change[1]\n",
    "            elif n_volume0 > client_requirement[2]:\n",
    "                n_volume0=n_volume0-provider_base.min_change[2]\n",
    "                \n",
    "        elif t1+1<=rand_int<=t2:\n",
    "            if n_ram0 > client_requirement[1]:\n",
    "                n_ram0=n_ram0-provider_base.min_change[1]\n",
    "            elif n_volume0 > client_requirement[2]:\n",
    "                n_volume0=n_volume0-provider_base.min_change[2]\n",
    "            elif n_vcpu0 > client_requirement[0]:\n",
    "                n_vcpu0=n_vcpu0-provider_base.min_change[0]\n",
    "            \n",
    "        elif t2+1<=rand_int<=t3:\n",
    "            if n_volume0 > client_requirement[2]:\n",
    "                n_volume0=n_volume0-provider_base.min_change[2]\n",
    "            elif n_vcpu0 > client_requirement[0]:\n",
    "                n_vcpu0=n_vcpu0-provider_base.min_change[0]\n",
    "            elif n_ram0 > client_requirement[1]:\n",
    "                n_ram0=n_ram0-provider_base.min_change[1]            \n",
    "            \n",
    "        return n_vcpu0,n_ram0,n_volume0        "
   ]
  },
  {
   "cell_type": "code",
   "execution_count": 5,
   "metadata": {},
   "outputs": [],
   "source": [
    "# Class for client\n",
    "class client_base:\n",
    "    def __init__(self, client_requirement):\n",
    "        self.requirement = client_requirement\n",
    "              \n",
    "    def compute_fee(self, p1, p2, p3, t1, t2, n):\n",
    "        fee = 0\n",
    "        if 0 < n <= t1:\n",
    "            fee = p1*n\n",
    "        elif t1 < n <= t2:\n",
    "            fee = p1*t1+p2*(n-t1)\n",
    "        elif t2 < n :\n",
    "            fee = p1*t1+p2*(t2-t1)+p3*(n-t2)\n",
    "        else:\n",
    "            print('Out of Range!')\n",
    "            return -1\n",
    "        return fee\n",
    "    \n",
    "    def compute_avg_price(self, fee, num):\n",
    "        return fee/num\n",
    "    \n",
    "    def compute_total_fee(self, f1, f2, f3):\n",
    "        return f1+f2+f3\n",
    "    \n",
    "    def scale2one_avg(self, obj, old, new):\n",
    "        ratio = new/old\n",
    "        # the avg price ratio\n",
    "        # new/old: the cheaper, the better\n",
    "        # ratio: close to 0 is better, close to 1 is worse\n",
    "        if obj == 'avg':\n",
    "            return ratio\n",
    "        # the total fee ratio\n",
    "        # new total fee is always larger than old total fee\n",
    "        # ratio is larger than 1, the larger the worse\n",
    "        # the reciproval is between o and 1. the closer to 0, the worse\n",
    "        # the closer to 1, the better\n",
    "        elif obj == 'total':\n",
    "            return 1/ratio\n",
    "    \n",
    "    def related_fee(self, client_requirement = None):\n",
    "        \n",
    "        if client_requirement == None:\n",
    "            client_requirement = self.requirement\n",
    "            \n",
    "        vcpu_fee_r = self.compute_fee(0.2,0.1,0.05,10,30,client_requirement[0])\n",
    "        vcpu_avg_r = self.compute_avg_price(vcpu_fee_r,client_requirement[0])\n",
    "        ram_fee_r = self.compute_fee(0.1,0.05,0.025,20,60,client_requirement[1])\n",
    "        ram_avg_r = self.compute_avg_price(ram_fee_r,client_requirement[1])\n",
    "        volume_fee_r = self.compute_fee(0.02,0.01,0.005,100,300,client_requirement[2])\n",
    "        volume_avg_r = self.compute_avg_price(volume_fee_r,client_requirement[2])\n",
    "        total_fee_r = vcpu_fee_r+ram_fee_r+volume_fee_r\n",
    "        return vcpu_avg_r,ram_avg_r,volume_avg_r,total_fee_r\n",
    "    \n",
    "    def fuzzy_decision(self):\n",
    "        # Fuzzy logic\n",
    "\n",
    "        # New Antecedent/Consequent objects hold universe variables and membership functions\n",
    "        avg_vcpu = ctrl.Antecedent(np.arange(0, 101, 1), 'avg_vcpu')\n",
    "        avg_ram = ctrl.Antecedent(np.arange(0, 101, 1), 'avg_ram')\n",
    "        avg_volume = ctrl.Antecedent(np.arange(0, 101, 1), 'avg_volume')\n",
    "        total_fee = ctrl.Antecedent(np.arange(0, 101, 1), 'total_fee')\n",
    "\n",
    "        tendency = ctrl.Consequent(np.arange(0, 101, 1), 'tendency')\n",
    "\n",
    "        # Auto-membership function population is possible with .automf(3, 5, or 7)\n",
    "        # poor average good, automatically\n",
    "        #names_avg = ['cheap','medium','expensive']\n",
    "        #avg_vcpu.automf(names = names_avg)\n",
    "        #avg_ram.automf(names = names_avg)\n",
    "        #avg_volume.automf(names = names_avg)\n",
    "        avg_vcpu['cheap'] = fuzz.gaussmf(avg_vcpu.universe, 0, 50.0/3)\n",
    "        avg_vcpu['medium'] = fuzz.gaussmf(avg_vcpu.universe, 50, 50.0/3)\n",
    "        avg_vcpu['expensive'] = fuzz.gaussmf(avg_vcpu.universe, 100, 50.0/3)\n",
    "\n",
    "        avg_ram['cheap'] = fuzz.gaussmf(avg_ram.universe, 0, 50.0/3)\n",
    "        avg_ram['medium'] = fuzz.gaussmf(avg_ram.universe, 50, 50.0/3)\n",
    "        avg_ram['expensive'] = fuzz.gaussmf(avg_ram.universe, 100, 50.0/3)\n",
    "\n",
    "        avg_volume['cheap'] = fuzz.gaussmf(avg_volume.universe, 0, 50.0/3)\n",
    "        avg_volume['medium'] = fuzz.gaussmf(avg_volume.universe, 50, 50.0/3)\n",
    "        avg_volume['expensive'] = fuzz.gaussmf(avg_volume.universe, 100, 50.0/3)\n",
    "\n",
    "        #names_total = ['high','medium','low']\n",
    "        #total_fee.automf(names = names_total)\n",
    "        total_fee['high'] = fuzz.gaussmf(total_fee.universe, 0, 50.0/3)\n",
    "        total_fee['medium'] = fuzz.gaussmf(total_fee.universe, 50, 50.0/3)\n",
    "        total_fee['low'] = fuzz.gaussmf(total_fee.universe, 100, 50.0/3)\n",
    "\n",
    "        # Custom membership functions can be built interactively with a familiar,\n",
    "        # Pythonic API\n",
    "        tendency['low'] = fuzz.gaussmf(tendency.universe, 0, 50.0/3)\n",
    "        tendency['medium'] = fuzz.gaussmf(tendency.universe, 50, 50.0/3)\n",
    "        tendency['high'] = fuzz.gaussmf(tendency.universe, 100, 50.0/3)\n",
    "        \n",
    "        # Rules\n",
    "        # cheap:1,medium:2,expensive:3\n",
    "        # sum: 3, 4, 5, 6, 7, 8, 9\n",
    "        # tendency: 3, 4 high / 5, 6 ,7 medium / 8, 9 low\n",
    "        # could be adjusted\n",
    "        rule01 = ctrl.Rule(total_fee['high'], tendency['low'])\n",
    "        rule02 = ctrl.Rule(total_fee['medium'], tendency['medium'])\n",
    "        rule03 = ctrl.Rule(total_fee['low'], tendency['high'])\n",
    "        \n",
    "        rule11 = ctrl.Rule(avg_vcpu['cheap']&avg_volume['cheap']&avg_ram['cheap'], tendency['high'])#3\n",
    "        rule12 = ctrl.Rule(avg_vcpu['cheap']&avg_volume['cheap']&avg_ram['medium'], tendency['high'])#4\n",
    "        rule13 = ctrl.Rule(avg_vcpu['cheap']&avg_volume['cheap']&avg_ram['expensive'], tendency['medium'])#5\n",
    "        rule14 = ctrl.Rule(avg_vcpu['cheap']&avg_volume['medium']&avg_ram['cheap'], tendency['high'])#4\n",
    "        rule15 = ctrl.Rule(avg_vcpu['cheap']&avg_volume['medium']&avg_ram['medium'], tendency['medium'])#5\n",
    "        rule16 = ctrl.Rule(avg_vcpu['cheap']&avg_volume['medium']&avg_ram['expensive'], tendency['medium'])#6\n",
    "        rule17 = ctrl.Rule(avg_vcpu['cheap']&avg_volume['expensive']&avg_ram['cheap'], tendency['medium'])#5\n",
    "        rule18 = ctrl.Rule(avg_vcpu['cheap']&avg_volume['expensive']&avg_ram['medium'], tendency['medium'])#6\n",
    "        rule19 = ctrl.Rule(avg_vcpu['cheap']&avg_volume['expensive']&avg_ram['expensive'], tendency['medium'])#7\n",
    "        \n",
    "        rule21 = ctrl.Rule(avg_vcpu['medium']&avg_volume['cheap']&avg_ram['cheap'], tendency['high'])#4\n",
    "        rule22 = ctrl.Rule(avg_vcpu['medium']&avg_volume['cheap']&avg_ram['medium'], tendency['medium'])#5\n",
    "        rule23 = ctrl.Rule(avg_vcpu['medium']&avg_volume['cheap']&avg_ram['expensive'], tendency['medium'])#6\n",
    "        rule24 = ctrl.Rule(avg_vcpu['medium']&avg_volume['medium']&avg_ram['cheap'], tendency['medium'])#5\n",
    "        rule25 = ctrl.Rule(avg_vcpu['medium']&avg_volume['medium']&avg_ram['medium'], tendency['medium'])#6\n",
    "        rule26 = ctrl.Rule(avg_vcpu['medium']&avg_volume['medium']&avg_ram['expensive'], tendency['medium'])#7\n",
    "        rule27 = ctrl.Rule(avg_vcpu['medium']&avg_volume['expensive']&avg_ram['cheap'], tendency['medium'])#6\n",
    "        rule28 = ctrl.Rule(avg_vcpu['medium']&avg_volume['expensive']&avg_ram['medium'], tendency['medium'])#7\n",
    "        rule29 = ctrl.Rule(avg_vcpu['medium']&avg_volume['expensive']&avg_ram['expensive'], tendency['low'])#8\n",
    "        \n",
    "        rule31 = ctrl.Rule(avg_vcpu['expensive']&avg_volume['cheap']&avg_ram['cheap'], tendency['medium'])#5\n",
    "        rule32 = ctrl.Rule(avg_vcpu['expensive']&avg_volume['cheap']&avg_ram['medium'], tendency['medium'])#6\n",
    "        rule33 = ctrl.Rule(avg_vcpu['expensive']&avg_volume['cheap']&avg_ram['expensive'], tendency['medium'])#7\n",
    "        rule34 = ctrl.Rule(avg_vcpu['expensive']&avg_volume['medium']&avg_ram['cheap'], tendency['medium'])#6\n",
    "        rule35 = ctrl.Rule(avg_vcpu['expensive']&avg_volume['medium']&avg_ram['medium'], tendency['medium'])#7\n",
    "        rule36 = ctrl.Rule(avg_vcpu['expensive']&avg_volume['medium']&avg_ram['expensive'], tendency['low'])#8\n",
    "        rule37 = ctrl.Rule(avg_vcpu['expensive']&avg_volume['expensive']&avg_ram['cheap'], tendency['medium'])#7\n",
    "        rule38 = ctrl.Rule(avg_vcpu['expensive']&avg_volume['expensive']&avg_ram['medium'], tendency['low'])#8\n",
    "        rule39 = ctrl.Rule(avg_vcpu['expensive']&avg_volume['expensive']&avg_ram['expensive'], tendency['low'])#9\n",
    "\n",
    "        \n",
    "        # Fuzzy decision simulation\n",
    "        decision_ctrl = ctrl.ControlSystem([rule01, rule02, rule03, \\\n",
    "                                            rule11, rule12, rule13, rule14, rule15, rule16, rule17, rule18, rule19, \\\n",
    "                                            rule21, rule22, rule23, rule24, rule25, rule26, rule27, rule28, rule29, \\\n",
    "                                            rule31, rule32, rule33, rule34, rule35, rule36, rule37, rule38, rule39, \\\n",
    "                                           ])\n",
    "        decision = ctrl.ControlSystemSimulation(decision_ctrl)\n",
    "        \n",
    "        return decision,tendency\n",
    "        "
   ]
  },
  {
   "cell_type": "markdown",
   "metadata": {},
   "source": [
    "# The simulated price table\n",
    "## VCPU \n",
    "0-10: 0.2€/st 1 day  \n",
    "11-30: 0.1  \n",
    "31-90: 0.05  \n",
    "## RAM \n",
    "0-20: 0.1€/per GB day  \n",
    "21-60: 0.05  \n",
    "61-180: 0.025  \n",
    "## VOLUME：\n",
    "0-100：0.02€/per GB 1 day  \n",
    "101-300：0.01€/per GB 1 day  \n",
    "301-900：0.005€/per GB 1 day  "
   ]
  },
  {
   "cell_type": "code",
   "execution_count": 6,
   "metadata": {},
   "outputs": [],
   "source": [
    "def negotiation_client_bool(client_requirements):\n",
    "    max_rounds = 150\n",
    "    \n",
    "    # Client\n",
    "    # order: CPU-st, RAM-GB, VOLUME-GB\n",
    "    #client_requirement = [10, 20, 200] \n",
    "    client = client_base(client_requirement)\n",
    "    client_decision,tendency = client.fuzzy_decision()\n",
    "    # Provider\n",
    "    provider = provider_base()\n",
    "    offer = provider.initial_offer(client_requirement)\n",
    "    times1round_vcpu,times1round_ram,times1round_volume,times1round = provider.compute_ratio(client_requirement)\n",
    "\n",
    "    # Original price, i.e. baseline\n",
    "    vcpu_avg_old,ram_avg_old,volume_avg_old,total_fee_old = client.related_fee()\n",
    "    #print('*********************************************************************')\n",
    "    #print('Client requirement: ', client_requirement)\n",
    "    #print('vcpu_avg_price: %f, ram_avg_price: %f, volume_avg_price: %f'%(vcpu_avg_old,ram_avg_old,volume_avg_old))\n",
    "    #print('total_fee: %f'%total_fee_old)\n",
    "    #print('*********************************************************************')\n",
    "    # For plotting\n",
    "    steps = [];vcpu = [];ram = [];volume = [];avg_vcpu = [];avg_ram = [];avg_volume = [];total_fee = []\n",
    "    #print('Provider first offer: ',offer)\n",
    "    i = 0\n",
    "    while True:\n",
    "        # New fees\n",
    "        vcpu_avg_new,ram_avg_new,volume_avg_new,total_fee_new = client.related_fee(offer)\n",
    "        # Store offer and fee\n",
    "        steps.append(i);vcpu.append(offer[0]);ram.append(offer[1]);volume.append(offer[2])\n",
    "        avg_vcpu.append(vcpu_avg_new);avg_ram.append(ram_avg_new);avg_volume.append(volume_avg_new);total_fee.append(total_fee_new)\n",
    "        # input of fuzzy system\n",
    "        input_avg_vcpu = 100*client.scale2one_avg('avg', vcpu_avg_old, vcpu_avg_new)\n",
    "        input_avg_ram = 100*client.scale2one_avg('avg', ram_avg_old, ram_avg_new)\n",
    "        input_avg_volume = 100*client.scale2one_avg('avg', volume_avg_old, volume_avg_new)\n",
    "        input_total_fee = 100*client.scale2one_avg('total', total_fee_old, total_fee_new)\n",
    "        dict_of_data = {'avg_vcpu':input_avg_vcpu,'avg_ram':input_avg_ram,'avg_volume':input_avg_volume,'total_fee':input_total_fee}\n",
    "        #dict_of_data = {'avg_vcpu':5,'avg_ram':5,'avg_volume':5,'total_fee':2}\n",
    "        #print(dict_of_data)\n",
    "\n",
    "        # Client makes decision\n",
    "        client_decision.inputs(dict_of_data)\n",
    "        # Crunch the numbers\n",
    "        client_decision.compute()\n",
    "        decision_score = client_decision.output['tendency']\n",
    "        #print('---------------------------------------------------------------')\n",
    "        #print('offer %d: '%i , offer, ' its score: ',decision_score)\n",
    "        #print('vcpu_avg_price: %f, ram_avg_price: %f, volume_avg_price: %f'%(vcpu_avg_new,ram_avg_new,volume_avg_new))\n",
    "        #print('total_fee: %f'%total_fee_new)\n",
    "        #print('---------------------------------------------------------------')\n",
    "\n",
    "        # if accepet\n",
    "        if decision_score >= 50:\n",
    "            final_offer = offer\n",
    "            #print('This final offer is ',final_offer)\n",
    "            break\n",
    "        # if reject  \n",
    "        else:\n",
    "            if offer[0]>=client_requirement[0] and offer[1]>=client_requirement[1] and offer[2]>=client_requirement[2]:\n",
    "                if offer[0]==client_requirement[0] and offer[1]==client_requirement[1] and offer[2]==client_requirement[2]:\n",
    "                    final_offer = offer\n",
    "                    break\n",
    "                else:\n",
    "                    #offer = (10, 23, 230)\n",
    "                    offer = provider.update_offer(times1round_vcpu,times1round_ram,times1round_volume,times1round,\n",
    "                                              offer[0],offer[1],offer[2],\n",
    "                                             client_requirement)\n",
    "                #print(offer)\n",
    "            else:\n",
    "                final_offer = offer\n",
    "                #print('Round:',i,'break!')\n",
    "                #print('The final offer is the last offer!')\n",
    "                break\n",
    "        \n",
    "        i = i+1\n",
    "        if i > max_rounds:\n",
    "            final_offer = offer\n",
    "            #print('Round %d'%i,' . Reach the MAX round!')\n",
    "            #print('Last offer (also the final offer): ' , final_offer, ' its score: ',decision_score)\n",
    "            #print('vcpu_avg_price: %f, ram_avg_price: %f, volume_avg_price: %f'%(vcpu_avg_new,ram_avg_new,volume_avg_new))\n",
    "            #print('total_fee: %f'%total_fee_new)       \n",
    "            break\n",
    "        \n",
    "    #print(i,' rounds')\n",
    "                \n",
    "    return steps,vcpu,ram,volume,vcpu_avg_old,ram_avg_old,volume_avg_old,total_fee_old,avg_vcpu,avg_ram,avg_volume,total_fee,final_offer"
   ]
  },
  {
   "cell_type": "markdown",
   "metadata": {},
   "source": [
    "# Single test"
   ]
  },
  {
   "cell_type": "code",
   "execution_count": 7,
   "metadata": {},
   "outputs": [
    {
     "name": "stdout",
     "output_type": "stream",
     "text": [
      "time cost 0.29624509811401367 s\n"
     ]
    }
   ],
   "source": [
    "random.seed(19260817)\n",
    "vcpu = 10\n",
    "ram = 20\n",
    "volume = 200\n",
    "client_requirement = [vcpu, ram, volume]\n",
    "time_start=time.time()\n",
    "steps,vcpu,ram,volume,\\\n",
    "vcpu_avg_old,ram_avg_old,volume_avg_old,total_fee_old,\\\n",
    "avg_vcpu,avg_ram,avg_volume,total_fee,\\\n",
    "final_offer = negotiation_client_bool(client_requirement)\n",
    "time_end=time.time()\n",
    "print('time cost',time_end-time_start,'s')"
   ]
  },
  {
   "cell_type": "code",
   "execution_count": 8,
   "metadata": {},
   "outputs": [
    {
     "data": {
      "text/plain": [
       "27"
      ]
     },
     "execution_count": 8,
     "metadata": {},
     "output_type": "execute_result"
    }
   ],
   "source": [
    "len(steps)"
   ]
  },
  {
   "cell_type": "code",
   "execution_count": 9,
   "metadata": {},
   "outputs": [
    {
     "data": {
      "text/plain": [
       "(10, 34, 400)"
      ]
     },
     "execution_count": 9,
     "metadata": {},
     "output_type": "execute_result"
    }
   ],
   "source": [
    "final_offer"
   ]
  },
  {
   "cell_type": "markdown",
   "metadata": {},
   "source": [
    "# Generate test data set"
   ]
  },
  {
   "cell_type": "code",
   "execution_count": 17,
   "metadata": {},
   "outputs": [],
   "source": [
    "random.seed(19260817)\n",
    "x_test = pd.read_csv('./data/offer_ML/x_test_200_v1.csv',index_col=0).reset_index(drop=True)"
   ]
  },
  {
   "cell_type": "code",
   "execution_count": 18,
   "metadata": {},
   "outputs": [
    {
     "name": "stderr",
     "output_type": "stream",
     "text": [
      "100%|████████████████████████████████████████████████████████████████████████████████| 200/200 [00:40<00:00,  4.89it/s]\n"
     ]
    }
   ],
   "source": [
    "test_final_offer_list = []\n",
    "for index,row in tqdm(x_test.iterrows(),total=x_test.shape[0]):\n",
    "    vcpu=row['vcpu']\n",
    "    ram=row['ram']\n",
    "    volume=row['volume']    \n",
    "    client_requirement = [vcpu, ram, volume]\n",
    "    steps,vcpu,ram,volume,\\\n",
    "    vcpu_avg_old,ram_avg_old,volume_avg_old,total_fee_old,\\\n",
    "    avg_vcpu,avg_ram,avg_volume,total_fee,\\\n",
    "    final_offer = negotiation_client_bool(client_requirement)\n",
    "    final_offer_dict = {'final_vcpu':final_offer[0], 'final_ram':final_offer[1], 'final_volume':final_offer[2]}\n",
    "    test_final_offer_list.append(final_offer_dict)\n",
    "y_test = pd.DataFrame(test_final_offer_list)"
   ]
  },
  {
   "cell_type": "code",
   "execution_count": 19,
   "metadata": {},
   "outputs": [],
   "source": [
    "y_test.to_csv('./data/offer_ML/v00_y_test_200_v1.csv')"
   ]
  },
  {
   "cell_type": "code",
   "execution_count": 20,
   "metadata": {
    "scrolled": true
   },
   "outputs": [],
   "source": [
    "y_test.columns=['Name','Age','Roll_no']\n",
    "x_test.columns=['Name','Age','Roll_no']"
   ]
  },
  {
   "cell_type": "code",
   "execution_count": null,
   "metadata": {},
   "outputs": [],
   "source": [
    "from pandas.testing import assert_frame_equal\n",
    "assert_frame_equal(x_test,y_test)"
   ]
  },
  {
   "cell_type": "code",
   "execution_count": 156,
   "metadata": {},
   "outputs": [
    {
     "data": {
      "text/html": [
       "<div>\n",
       "<style scoped>\n",
       "    .dataframe tbody tr th:only-of-type {\n",
       "        vertical-align: middle;\n",
       "    }\n",
       "\n",
       "    .dataframe tbody tr th {\n",
       "        vertical-align: top;\n",
       "    }\n",
       "\n",
       "    .dataframe thead th {\n",
       "        text-align: right;\n",
       "    }\n",
       "</style>\n",
       "<table border=\"1\" class=\"dataframe\">\n",
       "  <thead>\n",
       "    <tr style=\"text-align: right;\">\n",
       "      <th></th>\n",
       "      <th>Name</th>\n",
       "      <th>Age</th>\n",
       "      <th>Roll_no</th>\n",
       "    </tr>\n",
       "  </thead>\n",
       "  <tbody>\n",
       "    <tr>\n",
       "      <th>0</th>\n",
       "      <td>5</td>\n",
       "      <td>25</td>\n",
       "      <td>400</td>\n",
       "    </tr>\n",
       "    <tr>\n",
       "      <th>1</th>\n",
       "      <td>7</td>\n",
       "      <td>35</td>\n",
       "      <td>220</td>\n",
       "    </tr>\n",
       "    <tr>\n",
       "      <th>2</th>\n",
       "      <td>7</td>\n",
       "      <td>54</td>\n",
       "      <td>400</td>\n",
       "    </tr>\n",
       "    <tr>\n",
       "      <th>3</th>\n",
       "      <td>7</td>\n",
       "      <td>56</td>\n",
       "      <td>320</td>\n",
       "    </tr>\n",
       "    <tr>\n",
       "      <th>4</th>\n",
       "      <td>7</td>\n",
       "      <td>56</td>\n",
       "      <td>520</td>\n",
       "    </tr>\n",
       "    <tr>\n",
       "      <th>...</th>\n",
       "      <td>...</td>\n",
       "      <td>...</td>\n",
       "      <td>...</td>\n",
       "    </tr>\n",
       "    <tr>\n",
       "      <th>195</th>\n",
       "      <td>47</td>\n",
       "      <td>122</td>\n",
       "      <td>660</td>\n",
       "    </tr>\n",
       "    <tr>\n",
       "      <th>196</th>\n",
       "      <td>47</td>\n",
       "      <td>138</td>\n",
       "      <td>700</td>\n",
       "    </tr>\n",
       "    <tr>\n",
       "      <th>197</th>\n",
       "      <td>47</td>\n",
       "      <td>164</td>\n",
       "      <td>720</td>\n",
       "    </tr>\n",
       "    <tr>\n",
       "      <th>198</th>\n",
       "      <td>48</td>\n",
       "      <td>111</td>\n",
       "      <td>820</td>\n",
       "    </tr>\n",
       "    <tr>\n",
       "      <th>199</th>\n",
       "      <td>48</td>\n",
       "      <td>144</td>\n",
       "      <td>690</td>\n",
       "    </tr>\n",
       "  </tbody>\n",
       "</table>\n",
       "<p>200 rows × 3 columns</p>\n",
       "</div>"
      ],
      "text/plain": [
       "     Name  Age  Roll_no\n",
       "0       5   25      400\n",
       "1       7   35      220\n",
       "2       7   54      400\n",
       "3       7   56      320\n",
       "4       7   56      520\n",
       "..    ...  ...      ...\n",
       "195    47  122      660\n",
       "196    47  138      700\n",
       "197    47  164      720\n",
       "198    48  111      820\n",
       "199    48  144      690\n",
       "\n",
       "[200 rows x 3 columns]"
      ]
     },
     "execution_count": 156,
     "metadata": {},
     "output_type": "execute_result"
    }
   ],
   "source": [
    "x_test"
   ]
  },
  {
   "cell_type": "code",
   "execution_count": 157,
   "metadata": {},
   "outputs": [
    {
     "data": {
      "text/html": [
       "<div>\n",
       "<style scoped>\n",
       "    .dataframe tbody tr th:only-of-type {\n",
       "        vertical-align: middle;\n",
       "    }\n",
       "\n",
       "    .dataframe tbody tr th {\n",
       "        vertical-align: top;\n",
       "    }\n",
       "\n",
       "    .dataframe thead th {\n",
       "        text-align: right;\n",
       "    }\n",
       "</style>\n",
       "<table border=\"1\" class=\"dataframe\">\n",
       "  <thead>\n",
       "    <tr style=\"text-align: right;\">\n",
       "      <th></th>\n",
       "      <th>Name</th>\n",
       "      <th>Age</th>\n",
       "      <th>Roll_no</th>\n",
       "    </tr>\n",
       "  </thead>\n",
       "  <tbody>\n",
       "    <tr>\n",
       "      <th>0</th>\n",
       "      <td>5</td>\n",
       "      <td>25</td>\n",
       "      <td>400</td>\n",
       "    </tr>\n",
       "    <tr>\n",
       "      <th>1</th>\n",
       "      <td>7</td>\n",
       "      <td>35</td>\n",
       "      <td>220</td>\n",
       "    </tr>\n",
       "    <tr>\n",
       "      <th>2</th>\n",
       "      <td>7</td>\n",
       "      <td>54</td>\n",
       "      <td>400</td>\n",
       "    </tr>\n",
       "    <tr>\n",
       "      <th>3</th>\n",
       "      <td>7</td>\n",
       "      <td>56</td>\n",
       "      <td>320</td>\n",
       "    </tr>\n",
       "    <tr>\n",
       "      <th>4</th>\n",
       "      <td>7</td>\n",
       "      <td>56</td>\n",
       "      <td>520</td>\n",
       "    </tr>\n",
       "    <tr>\n",
       "      <th>...</th>\n",
       "      <td>...</td>\n",
       "      <td>...</td>\n",
       "      <td>...</td>\n",
       "    </tr>\n",
       "    <tr>\n",
       "      <th>195</th>\n",
       "      <td>47</td>\n",
       "      <td>122</td>\n",
       "      <td>660</td>\n",
       "    </tr>\n",
       "    <tr>\n",
       "      <th>196</th>\n",
       "      <td>47</td>\n",
       "      <td>138</td>\n",
       "      <td>700</td>\n",
       "    </tr>\n",
       "    <tr>\n",
       "      <th>197</th>\n",
       "      <td>47</td>\n",
       "      <td>164</td>\n",
       "      <td>720</td>\n",
       "    </tr>\n",
       "    <tr>\n",
       "      <th>198</th>\n",
       "      <td>48</td>\n",
       "      <td>111</td>\n",
       "      <td>820</td>\n",
       "    </tr>\n",
       "    <tr>\n",
       "      <th>199</th>\n",
       "      <td>48</td>\n",
       "      <td>144</td>\n",
       "      <td>690</td>\n",
       "    </tr>\n",
       "  </tbody>\n",
       "</table>\n",
       "<p>200 rows × 3 columns</p>\n",
       "</div>"
      ],
      "text/plain": [
       "     Name  Age  Roll_no\n",
       "0       5   25      400\n",
       "1       7   35      220\n",
       "2       7   54      400\n",
       "3       7   56      320\n",
       "4       7   56      520\n",
       "..    ...  ...      ...\n",
       "195    47  122      660\n",
       "196    47  138      700\n",
       "197    47  164      720\n",
       "198    48  111      820\n",
       "199    48  144      690\n",
       "\n",
       "[200 rows x 3 columns]"
      ]
     },
     "execution_count": 157,
     "metadata": {},
     "output_type": "execute_result"
    }
   ],
   "source": [
    "y_test"
   ]
  },
  {
   "cell_type": "markdown",
   "metadata": {},
   "source": [
    "## Train size = 10000"
   ]
  },
  {
   "cell_type": "code",
   "execution_count": 10,
   "metadata": {},
   "outputs": [],
   "source": [
    "x_train_104 = pd.read_csv('./data/offer_ML/x_train_104_v1.csv',index_col=0).reset_index(drop=True)"
   ]
  },
  {
   "cell_type": "code",
   "execution_count": 11,
   "metadata": {},
   "outputs": [
    {
     "name": "stderr",
     "output_type": "stream",
     "text": [
      "100%|████████████████████████████████████████████████████████████████████████████| 10000/10000 [35:52<00:00,  4.64it/s]\n"
     ]
    }
   ],
   "source": [
    "train_final_offer_list = []\n",
    "for index,row in tqdm(x_train_104.iterrows(),total=x_train_104.shape[0]):\n",
    "    vcpu=row['vcpu']\n",
    "    ram=row['ram']\n",
    "    volume=row['volume']    \n",
    "    client_requirement = [vcpu, ram, volume]\n",
    "    steps,vcpu,ram,volume,\\\n",
    "    vcpu_avg_old,ram_avg_old,volume_avg_old,total_fee_old,\\\n",
    "    avg_vcpu,avg_ram,avg_volume,total_fee,\\\n",
    "    final_offer = negotiation_client_bool(client_requirement)\n",
    "    final_offer_dict = {'final_vcpu':final_offer[0], 'final_ram':final_offer[1], 'final_volume':final_offer[2]}\n",
    "    train_final_offer_list.append(final_offer_dict)\n",
    "y_train_104 = pd.DataFrame(train_final_offer_list)"
   ]
  },
  {
   "cell_type": "code",
   "execution_count": 12,
   "metadata": {},
   "outputs": [],
   "source": [
    "y_train_104.to_csv('./data/offer_ML/v00_y_train_104_v1.csv')"
   ]
  },
  {
   "cell_type": "code",
   "execution_count": 79,
   "metadata": {},
   "outputs": [
    {
     "data": {
      "image/png": "[encoded data removed]",
      "text/plain": [
       "<Figure size 432x288 with 1 Axes>"
      ]
     },
     "metadata": {
      "needs_background": "light"
     },
     "output_type": "display_data"
    }
   ],
   "source": [
    "visualize_parameter(steps,vcpu,client_requirement[0],'vcpu')"
   ]
  },
  {
   "cell_type": "code",
   "execution_count": 80,
   "metadata": {},
   "outputs": [
    {
     "data": {
      "image/png": "[encoded data removed]",
      "text/plain": [
       "<Figure size 432x288 with 1 Axes>"
      ]
     },
     "metadata": {
      "needs_background": "light"
     },
     "output_type": "display_data"
    }
   ],
   "source": [
    "visualize_parameter(steps,ram,client_requirement[1],'ram')"
   ]
  },
  {
   "cell_type": "code",
   "execution_count": 81,
   "metadata": {},
   "outputs": [
    {
     "data": {
      "image/png": "[encoded data removed]",
      "text/plain": [
       "<Figure size 432x288 with 1 Axes>"
      ]
     },
     "metadata": {
      "needs_background": "light"
     },
     "output_type": "display_data"
    }
   ],
   "source": [
    "visualize_parameter(steps,volume,client_requirement[2],'volume')"
   ]
  }
 ],
 "metadata": {
  "kernelspec": {
   "display_name": "Python 3",
   "language": "python",
   "name": "python3"
  },
  "language_info": {
   "codemirror_mode": {
    "name": "ipython",
    "version": 3
   },
   "file_extension": ".py",
   "mimetype": "text/x-python",
   "name": "python",
   "nbconvert_exporter": "python",
   "pygments_lexer": "ipython3",
   "version": "3.8.3"
  }
 },
 "nbformat": 4,
 "nbformat_minor": 5
}
