{
 "cells": [
  {
   "cell_type": "code",
   "execution_count": 1,
   "metadata": {},
   "outputs": [
    {
     "name": "stdout",
     "output_type": "stream",
     "text": [
      "Collecting scikit-fuzzy\n",
      "  Downloading scikit-fuzzy-0.4.2.tar.gz (993 kB)\n",
      "Requirement already satisfied, skipping upgrade: numpy>=1.6.0 in f:\\anaconda\\lib\\site-packages (from scikit-fuzzy) (1.18.5)\n",
      "Requirement already satisfied, skipping upgrade: scipy>=0.9.0 in f:\\anaconda\\lib\\site-packages (from scikit-fuzzy) (1.7.1)\n",
      "Requirement already satisfied, skipping upgrade: networkx>=1.9.0 in f:\\anaconda\\lib\\site-packages (from scikit-fuzzy) (2.4)\n",
      "Requirement already satisfied, skipping upgrade: decorator>=4.3.0 in f:\\anaconda\\lib\\site-packages (from networkx>=1.9.0->scikit-fuzzy) (4.4.2)\n",
      "Building wheels for collected packages: scikit-fuzzy\n",
      "  Building wheel for scikit-fuzzy (setup.py): started\n",
      "  Building wheel for scikit-fuzzy (setup.py): finished with status 'done'\n",
      "  Created wheel for scikit-fuzzy: filename=scikit_fuzzy-0.4.2-py3-none-any.whl size=894074 sha256=eb2d56baf74c374422cead3c61b107c91a3385f2281003abdb4216211c16a3b3\n",
      "  Stored in directory: c:\\users\\administrator\\appdata\\local\\pip\\cache\\wheels\\2c\\04\\80\\7eefb1a2de7d36aefd06432fab2a1486caf0a0596a7067391a\n",
      "Successfully built scikit-fuzzy\n",
      "Installing collected packages: scikit-fuzzy\n",
      "Successfully installed scikit-fuzzy-0.4.2\n"
     ]
    }
   ],
   "source": [
    "!pip3 install -U scikit-fuzzy"
   ]
  },
  {
   "cell_type": "code",
   "execution_count": 2,
   "metadata": {},
   "outputs": [
    {
     "name": "stdout",
     "output_type": "stream",
     "text": [
      "Requirement already satisfied: sympy in f:\\anaconda\\lib\\site-packages (1.6.1)\n",
      "Requirement already satisfied: mpmath>=0.19 in f:\\anaconda\\lib\\site-packages (from sympy) (1.1.0)\n"
     ]
    }
   ],
   "source": [
    "!pip3 install sympy"
   ]
  },
  {
   "cell_type": "code",
   "execution_count": 1,
   "metadata": {},
   "outputs": [],
   "source": [
    "import random\n",
    "import time\n",
    "from tqdm import tqdm\n",
    "import numpy as np\n",
    "import pandas as pd\n",
    "import sympy as sp\n",
    "import skfuzzy as fuzz\n",
    "from skfuzzy import control as ctrl\n",
    "import matplotlib.pyplot as plt\n",
    "from copy import deepcopy\n",
    "#import os\n",
    "#os.environ[\"KMP_DUPLICATE_LIB_OK\"]=\"TRUE\""
   ]
  },
  {
   "cell_type": "code",
   "execution_count": 2,
   "metadata": {},
   "outputs": [],
   "source": [
    "# the simulated price table\n",
    "# VCPU \n",
    "# 0-10: 0.2€/st 1 month\n",
    "# 11-30: 0.1\n",
    "# 31-90: 0.05\n",
    "# RAM \n",
    "# 0-20: 0.1€/per GB month\n",
    "# 21-60: 0.05\n",
    "# 61-180: 0.025\n",
    "# VOLUME：\n",
    "# 0-100：0.02€/per GB 1 month\n",
    "# 101-300：0.01€/per GB 1 month\n",
    "# 301-900：0.005€/per GB 1 month"
   ]
  },
  {
   "cell_type": "code",
   "execution_count": 27,
   "metadata": {},
   "outputs": [],
   "source": [
    "def visualize_parameter(x_range,y_range,requirement,ylabel):\n",
    "    if len(x_range)==1:\n",
    "        print('only one round!')\n",
    "        return 0\n",
    "    plt.figure(figsize=[15, 5])\n",
    "    x = x_range\n",
    "    y = y_range\n",
    "    x_diff = x_range[-1] - x_range[0]\n",
    "    plt.xlim((x_range[0]-0.1*x_diff, x_range[-1]+0.1*x_diff))\n",
    "    plt.ylim((10, 45))\n",
    "    l1 = plt.plot(x, y, color='b',marker='o',linestyle='dashed',label='Provider proposal')\n",
    "    #plt.axis([-5, x_range[-1]+5, requirement-10,  y_range[0]+10])\n",
    "    plt.xlabel('round')\n",
    "    plt.ylabel(ylabel)\n",
    "    y_requirement = [requirement]*len(x_range)\n",
    "    l2 = plt.plot(x, y_requirement, color='r',linestyle='dashed',label='Client requirement')\n",
    "    plt.annotate('  Last Offer', xy=(x_range[-1],y_range[-1]), xytext=(x_range[-1],y_range[-1]-(y_range[0]-y_range[-1])*0.2),\n",
    "            arrowprops=dict(facecolor='red',width=0.5, headwidth=7, shrink=0.005),\n",
    "            )\n",
    "    plt.legend(prop={'size': 15})\n",
    "    plt.show()"
   ]
  },
  {
   "cell_type": "code",
   "execution_count": 4,
   "metadata": {},
   "outputs": [],
   "source": [
    "def visualize_gain(parameter,offer_list,offer,requirement,total_fee,total_fee_old,avg,avg_old):  \n",
    "    fig = plt.figure(figsize=[12, 8])\n",
    "    ax1 = fig.add_subplot()\n",
    "    ax2 = ax1.twinx()\n",
    "    option = -1\n",
    "    if parameter == 'vcpu':\n",
    "        option = 0\n",
    "    elif parameter == 'ram':\n",
    "        option = 1\n",
    "    elif parameter == 'storage':\n",
    "        option = 2\n",
    "    name_list = deepcopy(offer_list)\n",
    "    name_list[-1] = 'final'\n",
    "    amount_ratio = []\n",
    "    fee_ratio = []\n",
    "    total_fee_ax2 = []\n",
    "    total_fee_ratio = []\n",
    "    for i in offer_list:\n",
    "        print(i)\n",
    "        amount_ratio.append(offer[i]/requirement[option])\n",
    "        fee_ratio.append((offer[i]*avg[i])/(requirement[option]*avg_old))\n",
    "        total_fee_ratio.append(total_fee[i]/total_fee_old)\n",
    "        total_fee_ax2.append(total_fee[i])\n",
    "       \n",
    "    x1 = list(range(len(name_list)))\n",
    "    x2 = list(range(len(name_list)))\n",
    "    x3 = list(range(len(name_list)))\n",
    "    total_width, n = 1.1, 4\n",
    "    width = total_width / n\n",
    "    \n",
    "    x0 = list(range(-1,len(name_list)+1))\n",
    "    y_requirement = [1.0]*len(x0)\n",
    "    ax1.plot(x0, y_requirement, color='r',linestyle='dashed',label='Ratio: Baseline = 1.0')\n",
    "    \n",
    "    for i in range(len(x1)):\n",
    "        x1[i] = x1[i] - width\n",
    "    ax1.bar(x1, amount_ratio, width=width, label='Ratio: Amount of '+parameter, fc='c')\n",
    "    ax1.bar(x2, fee_ratio, width=width, label='Ratio: Fee of '+parameter, tick_label=name_list, fc='y')\n",
    "    for i in range(len(x3)):\n",
    "        x3[i] = x3[i] + width\n",
    "    ax1.bar(x3, total_fee_ratio, width=width, label='Ratio: Total fee', fc='g')\n",
    "    \n",
    "    for a,b in zip(x1,amount_ratio):  \n",
    "        ax1.text(a, b+0.02, '%.3f' % b, ha='center', va= 'bottom',fontsize=8) \n",
    "    for a,b in zip(x2,fee_ratio):  \n",
    "        ax1.text(a, b+0.02, '%.3f' % b, ha='center', va= 'bottom',fontsize=8)     \n",
    "    for a,b in zip(x3,total_fee_ratio):  \n",
    "        ax1.text(a, b+0.02, '%.3f' % b, ha='center', va= 'bottom',fontsize=8) \n",
    "    \n",
    "    \n",
    "    ax2.plot(x2, total_fee_ax2, color='b',marker='o',linestyle='dashed',label='Total fee')\n",
    "    ax2.set_ylim(0, 1.1*max(total_fee_ax2))\n",
    "    ax1.set_xlabel('Round')\n",
    "    ax1.set_ylabel('Ratio')\n",
    "    ax2.set_ylabel('Total fee')\n",
    "    fig.legend(loc=1, bbox_to_anchor=(1,1), bbox_transform=ax2.transAxes)\n",
    "    plt.title(label='Related ratios of '+parameter,fontsize=20)\n",
    "    print('Saving fig...')\n",
    "    plt.savefig('ratio_'+parameter+'.jpg')\n",
    "    print('Complete!')\n",
    "    plt.show()"
   ]
  },
  {
   "cell_type": "code",
   "execution_count": 5,
   "metadata": {},
   "outputs": [],
   "source": [
    "# Class for provider\n",
    "class provider_base:\n",
    "    min_change = [1, 1, 10]\n",
    "    # input the initial number of vcpu,ram,volume\n",
    "    def __init__(self, n_vcpu0 = 0, n_ram0 = 0, n_volume0 = 0):\n",
    "        self.n_vcpu0 = n_vcpu0\n",
    "        self.n_ram0 = n_ram0\n",
    "        self.n_volume0 = n_volume0\n",
    "        \n",
    "    # Functions for controlling the value range of issues\n",
    "    def vcpu_range(self,n):\n",
    "        n_initial = 0\n",
    "        if 0 < n <= 10:\n",
    "            n_initial = 10+n\n",
    "        elif 11 <= n <= 30:\n",
    "            n_initial = 30+n\n",
    "        elif 31 <= n <= 90:\n",
    "            n_initial = n\n",
    "        else:\n",
    "            print('Out of Range!')\n",
    "            return -1\n",
    "        return n_initial\n",
    "\n",
    "    def ram_range(self,n):\n",
    "        n_initial = 0\n",
    "        if 0 < n <= 20:\n",
    "            n_initial = 20+n\n",
    "        elif 21 <= n <= 60:\n",
    "            n_initial = 60+n\n",
    "        elif 61 <= n <= 180:\n",
    "            n_initial = n\n",
    "        else:\n",
    "            print('Out of Range!')\n",
    "            return -1\n",
    "        return n_initial\n",
    "\n",
    "    def volume_range(self,n):\n",
    "        n_initial = 0\n",
    "        if 0 < n <= 100:\n",
    "            n_initial = 100+n\n",
    "        elif 101 <= n <= 300:\n",
    "            n_initial = 300+n\n",
    "        elif 301 <= n <= 900:\n",
    "            n_initial = n\n",
    "        else:\n",
    "            print('Out of Range!')\n",
    "            return -1\n",
    "        return n_initial\n",
    "\n",
    "    def initial_offer(self,client_requirement):\n",
    "        n_vcpu0 = self.vcpu_range(client_requirement[0])\n",
    "        n_ram0 = self.ram_range(client_requirement[1])\n",
    "        n_volume0 = self.volume_range(client_requirement[2])\n",
    "        return n_vcpu0,n_ram0,n_volume0\n",
    "    \n",
    "    def compute_ratio(self,client_requirement,client_priorities):\n",
    "        # 10/20/200, 1.5/1.1/1.0\n",
    "        # ratio = i/client_requirement[0]: 1/2/20\n",
    "        # Original is 10*ratio\n",
    "        # To keep the ratio means N*ratio\n",
    "        # From 10/20/200 to 9/18/180.\n",
    "        # 1 round for vcpu, 2 rounds for ram, 2 rounds for storage.\n",
    "        # 5 rounds are needed\n",
    "        # Probability is 1/5 for vcpu, 2/5 for ram, 2/5 for storage.\n",
    "        # Modify the probability according to priority\n",
    "        # 1/1.5 round for vcpu, 2/1.1 rounds for ram, 2/1 rounds for storage.\n",
    "        # 1/1.5+2/1.1+2/1 rounds are needed\n",
    "        ratio = [i/client_requirement[0] for i in client_requirement]\n",
    "        times1round_vcpu = ratio[0]/provider_base.min_change[0]/client_priorities['vcpu']\n",
    "        times1round_ram = ratio[1]/provider_base.min_change[1]/client_priorities['ram']\n",
    "        times1round_volume = ratio[2]/provider_base.min_change[2]/client_priorities['volume']\n",
    "        times1round = times1round_vcpu+times1round_ram+times1round_volume\n",
    "        #print(times1round_vcpu,times1round_ram,times1round_volume,times1round)\n",
    "        \n",
    "        return times1round_vcpu,times1round_ram,times1round_volume,times1round\n",
    "               \n",
    "    def update_offer(self,times1round_vcpu,times1round_ram,times1round_volume,times1round,\n",
    "                     n_vcpu0,n_ram0,n_volume0,\n",
    "                     client_requirement,client_advice):\n",
    "        if client_advice == 'random':\n",
    "            # like random gradient decent\n",
    "            rand_int = random.uniform(0, times1round)\n",
    "            t1 = 0+times1round_vcpu\n",
    "            t2 = t1+times1round_ram\n",
    "            t3 = t2+times1round_volume\n",
    "\n",
    "            if 0<=rand_int<=t1:\n",
    "                if n_vcpu0 > client_requirement[0]:\n",
    "                    n_vcpu0=n_vcpu0-provider_base.min_change[0]\n",
    "                elif n_ram0 > client_requirement[1]:\n",
    "                    n_ram0=n_ram0-provider_base.min_change[1]\n",
    "                elif n_volume0 > client_requirement[2]:\n",
    "                    n_volume0=n_volume0-provider_base.min_change[2]\n",
    "\n",
    "            elif t1<rand_int<=t2:\n",
    "                if n_ram0 > client_requirement[1]:\n",
    "                    n_ram0=n_ram0-provider_base.min_change[1]\n",
    "                elif n_volume0 > client_requirement[2]:\n",
    "                    n_volume0=n_volume0-provider_base.min_change[2]\n",
    "                elif n_vcpu0 > client_requirement[0]:\n",
    "                    n_vcpu0=n_vcpu0-provider_base.min_change[0]\n",
    "\n",
    "            elif t2<rand_int<=t3:\n",
    "                if n_volume0 > client_requirement[2]:\n",
    "                    n_volume0=n_volume0-provider_base.min_change[2]\n",
    "                elif n_vcpu0 > client_requirement[0]:\n",
    "                    n_vcpu0=n_vcpu0-provider_base.min_change[0]\n",
    "                elif n_ram0 > client_requirement[1]:\n",
    "                    n_ram0=n_ram0-provider_base.min_change[1]\n",
    "        else:\n",
    "            if client_advice == 'vcpu':\n",
    "                n_vcpu0=n_vcpu0-provider_base.min_change[0]\n",
    "                #print('reduce vcpu')\n",
    "            elif client_advice == 'ram':\n",
    "                n_ram0=n_ram0-provider_base.min_change[1]\n",
    "                #print('reduce ram')\n",
    "            elif client_advice == 'volume':\n",
    "                n_volume0=n_volume0-provider_base.min_change[2]\n",
    "                #print('reduce volume')\n",
    "            else:\n",
    "                print('Wrong!')\n",
    "                return -1\n",
    "            \n",
    "        return n_vcpu0,n_ram0,n_volume0        "
   ]
  },
  {
   "cell_type": "code",
   "execution_count": 6,
   "metadata": {},
   "outputs": [],
   "source": [
    "# Class for client\n",
    "class client_base:\n",
    "    def __init__(self, client_requirement=[0,0,0]):\n",
    "        self.requirement = client_requirement\n",
    "              \n",
    "    def compute_fee(self, p1, p2, p3, t1, t2, n):\n",
    "        fee = 0\n",
    "        if 0 < n <= t1:\n",
    "            fee = p1*n\n",
    "        elif t1 < n <= t2:\n",
    "            fee = p1*t1+p2*(n-t1)\n",
    "        elif t2 < n :\n",
    "            fee = p1*t1+p2*(t2-t1)+p3*(n-t2)\n",
    "        else:\n",
    "            print('Out of Range!')\n",
    "            return -1\n",
    "        return fee\n",
    "    \n",
    "    def compute_avg_price(self, fee, num):\n",
    "        return fee/num\n",
    "    \n",
    "    def compute_total_fee(self, f1, f2, f3):\n",
    "        return f1+f2+f3\n",
    "    \n",
    "    def scale2one_avg(self, obj, old, new):\n",
    "        ratio = new/old\n",
    "        # the avg price ratio\n",
    "        # new/old: the cheaper, the better\n",
    "        # ratio: close to 0 is better, close to 1 is worse\n",
    "        if obj == 'avg':\n",
    "            return ratio\n",
    "        # the total fee ratio\n",
    "        # new total fee is always larger than old total fee\n",
    "        # ratio is larger than 1, the larger the worse\n",
    "        # the reciproval is between o and 1. the closer to 0, the worse\n",
    "        # the closer to 1, the better\n",
    "        elif obj == 'total':\n",
    "            return 1/ratio\n",
    "    \n",
    "    def related_fee(self, client_requirement = None):\n",
    "        \n",
    "        if client_requirement == None:\n",
    "            client_requirement = self.requirement\n",
    "            \n",
    "        vcpu_fee_r = self.compute_fee(0.2,0.1,0.05,10,30,client_requirement[0])\n",
    "        vcpu_avg_r = self.compute_avg_price(vcpu_fee_r,client_requirement[0])\n",
    "        ram_fee_r = self.compute_fee(0.1,0.05,0.025,20,60,client_requirement[1])\n",
    "        ram_avg_r = self.compute_avg_price(ram_fee_r,client_requirement[1])\n",
    "        volume_fee_r = self.compute_fee(0.02,0.01,0.005,100,300,client_requirement[2])\n",
    "        volume_avg_r = self.compute_avg_price(volume_fee_r,client_requirement[2])\n",
    "        total_fee_r = vcpu_fee_r+ram_fee_r+volume_fee_r\n",
    "        return vcpu_avg_r,ram_avg_r,volume_avg_r,total_fee_r\n",
    "    \n",
    "    def fuzzy_decision(self):\n",
    "        # Fuzzy logic\n",
    "\n",
    "        # New Antecedent/Consequent objects hold universe variables and membership functions\n",
    "        avg_vcpu = ctrl.Antecedent(np.arange(0, 101, 1), 'avg_vcpu')\n",
    "        avg_ram = ctrl.Antecedent(np.arange(0, 101, 1), 'avg_ram')\n",
    "        avg_volume = ctrl.Antecedent(np.arange(0, 101, 1), 'avg_volume')\n",
    "        total_fee = ctrl.Antecedent(np.arange(0, 101, 1), 'total_fee')\n",
    "\n",
    "        tendency = ctrl.Consequent(np.arange(0, 101, 1), 'tendency')\n",
    "\n",
    "        # Auto-membership function population is possible with .automf(3, 5, or 7)\n",
    "        # poor average good, automatically\n",
    "        #names_avg = ['cheap','medium','expensive']\n",
    "        #avg_vcpu.automf(names = names_avg)\n",
    "        #avg_ram.automf(names = names_avg)\n",
    "        #avg_volume.automf(names = names_avg)\n",
    "        avg_vcpu['cheap'] = fuzz.gaussmf(avg_vcpu.universe, 0, 50.0/3)\n",
    "        avg_vcpu['medium'] = fuzz.gaussmf(avg_vcpu.universe, 50, 50.0/3)\n",
    "        avg_vcpu['expensive'] = fuzz.gaussmf(avg_vcpu.universe, 100, 50.0/3)\n",
    "\n",
    "        avg_ram['cheap'] = fuzz.gaussmf(avg_ram.universe, 0, 50.0/3)\n",
    "        avg_ram['medium'] = fuzz.gaussmf(avg_ram.universe, 50, 50.0/3)\n",
    "        avg_ram['expensive'] = fuzz.gaussmf(avg_ram.universe, 100, 50.0/3)\n",
    "\n",
    "        avg_volume['cheap'] = fuzz.gaussmf(avg_volume.universe, 0, 50.0/3)\n",
    "        avg_volume['medium'] = fuzz.gaussmf(avg_volume.universe, 50, 50.0/3)\n",
    "        avg_volume['expensive'] = fuzz.gaussmf(avg_volume.universe, 100, 50.0/3)\n",
    "\n",
    "        #names_total = ['high','medium','low']\n",
    "        #total_fee.automf(names = names_total)\n",
    "        # x>2 original, weak accepted --> totalfee<0.5\n",
    "        # 2>x>1.5, medium accepted --> 0.5<totalfee<0.8\n",
    "        # 1.5>x, strong accepted --> totalfee>0.8\n",
    "        total_fee['high'] = fuzz.gaussmf(total_fee.universe, 0, 38.8888888888889)\n",
    "        total_fee['medium'] = fuzz.gaussmf(total_fee.universe, 65.0, (100-65.0)/3)\n",
    "        total_fee['low'] = fuzz.gaussmf(total_fee.universe, 100, 15.5555555555555)\n",
    "        # Custom membership functions can be built interactively with a familiar,\n",
    "        # Pythonic API\n",
    "        tendency['low'] = fuzz.gaussmf(tendency.universe, 0, 50.0/3)\n",
    "        tendency['medium'] = fuzz.gaussmf(tendency.universe, 50, 50.0/3)\n",
    "        tendency['high'] = fuzz.gaussmf(tendency.universe, 100, 50.0/3)\n",
    "        \n",
    "        # Rules\n",
    "        # cheap:1,medium:2,expensive:3\n",
    "        # sum: 3, 4, 5, 6, 7, 8, 9\n",
    "        # tendency: 3, 4 high / 5, 6 ,7 medium / 8, 9 low\n",
    "        # could be adjusted\n",
    "        rule01 = ctrl.Rule(total_fee['high'], tendency['low'])\n",
    "        rule02 = ctrl.Rule(total_fee['medium'], tendency['medium'])\n",
    "        rule03 = ctrl.Rule(total_fee['low'], tendency['high'])\n",
    "        \n",
    "        rule11 = ctrl.Rule(avg_vcpu['cheap']&avg_volume['cheap']&avg_ram['cheap'], tendency['high'])#3\n",
    "        rule12 = ctrl.Rule(avg_vcpu['cheap']&avg_volume['cheap']&avg_ram['medium'], tendency['high'])#4\n",
    "        rule13 = ctrl.Rule(avg_vcpu['cheap']&avg_volume['cheap']&avg_ram['expensive'], tendency['medium'])#5\n",
    "        rule14 = ctrl.Rule(avg_vcpu['cheap']&avg_volume['medium']&avg_ram['cheap'], tendency['high'])#4\n",
    "        rule15 = ctrl.Rule(avg_vcpu['cheap']&avg_volume['medium']&avg_ram['medium'], tendency['medium'])#5\n",
    "        rule16 = ctrl.Rule(avg_vcpu['cheap']&avg_volume['medium']&avg_ram['expensive'], tendency['medium'])#6\n",
    "        rule17 = ctrl.Rule(avg_vcpu['cheap']&avg_volume['expensive']&avg_ram['cheap'], tendency['medium'])#5\n",
    "        rule18 = ctrl.Rule(avg_vcpu['cheap']&avg_volume['expensive']&avg_ram['medium'], tendency['medium'])#6\n",
    "        rule19 = ctrl.Rule(avg_vcpu['cheap']&avg_volume['expensive']&avg_ram['expensive'], tendency['medium'])#7\n",
    "        \n",
    "        rule21 = ctrl.Rule(avg_vcpu['medium']&avg_volume['cheap']&avg_ram['cheap'], tendency['high'])#4\n",
    "        rule22 = ctrl.Rule(avg_vcpu['medium']&avg_volume['cheap']&avg_ram['medium'], tendency['medium'])#5\n",
    "        rule23 = ctrl.Rule(avg_vcpu['medium']&avg_volume['cheap']&avg_ram['expensive'], tendency['medium'])#6\n",
    "        rule24 = ctrl.Rule(avg_vcpu['medium']&avg_volume['medium']&avg_ram['cheap'], tendency['medium'])#5\n",
    "        rule25 = ctrl.Rule(avg_vcpu['medium']&avg_volume['medium']&avg_ram['medium'], tendency['medium'])#6\n",
    "        rule26 = ctrl.Rule(avg_vcpu['medium']&avg_volume['medium']&avg_ram['expensive'], tendency['medium'])#7\n",
    "        rule27 = ctrl.Rule(avg_vcpu['medium']&avg_volume['expensive']&avg_ram['cheap'], tendency['medium'])#6\n",
    "        rule28 = ctrl.Rule(avg_vcpu['medium']&avg_volume['expensive']&avg_ram['medium'], tendency['medium'])#7\n",
    "        rule29 = ctrl.Rule(avg_vcpu['medium']&avg_volume['expensive']&avg_ram['expensive'], tendency['low'])#8\n",
    "        \n",
    "        rule31 = ctrl.Rule(avg_vcpu['expensive']&avg_volume['cheap']&avg_ram['cheap'], tendency['medium'])#5\n",
    "        rule32 = ctrl.Rule(avg_vcpu['expensive']&avg_volume['cheap']&avg_ram['medium'], tendency['medium'])#6\n",
    "        rule33 = ctrl.Rule(avg_vcpu['expensive']&avg_volume['cheap']&avg_ram['expensive'], tendency['medium'])#7\n",
    "        rule34 = ctrl.Rule(avg_vcpu['expensive']&avg_volume['medium']&avg_ram['cheap'], tendency['medium'])#6\n",
    "        rule35 = ctrl.Rule(avg_vcpu['expensive']&avg_volume['medium']&avg_ram['medium'], tendency['medium'])#7\n",
    "        rule36 = ctrl.Rule(avg_vcpu['expensive']&avg_volume['medium']&avg_ram['expensive'], tendency['low'])#8\n",
    "        rule37 = ctrl.Rule(avg_vcpu['expensive']&avg_volume['expensive']&avg_ram['cheap'], tendency['medium'])#7\n",
    "        rule38 = ctrl.Rule(avg_vcpu['expensive']&avg_volume['expensive']&avg_ram['medium'], tendency['low'])#8\n",
    "        rule39 = ctrl.Rule(avg_vcpu['expensive']&avg_volume['expensive']&avg_ram['expensive'], tendency['low'])#9\n",
    "\n",
    "        \n",
    "        # Fuzzy decision simulation\n",
    "        decision_ctrl = ctrl.ControlSystem([rule01, rule02, rule03, \\\n",
    "                                            rule11, rule12, rule13, rule14, rule15, rule16, rule17, rule18, rule19, \\\n",
    "                                            rule21, rule22, rule23, rule24, rule25, rule26, rule27, rule28, rule29, \\\n",
    "                                            rule31, rule32, rule33, rule34, rule35, rule36, rule37, rule38, rule39, \\\n",
    "                                           ])\n",
    "        decision = ctrl.ControlSystemSimulation(decision_ctrl)\n",
    "        \n",
    "        return decision,tendency\n",
    "    \n",
    "    def advice(self, offer, client_requirement, priority, threshold):\n",
    "        # we would like to keep the original ratio\n",
    "        # if the offer ratio is the same as the requirement\n",
    "        # the following ratio should be the same\n",
    "        vcpu_ratio = offer[0]/client_requirement[0]\n",
    "        ram_ratio = offer[1]/client_requirement[1]\n",
    "        volume_ratio = offer[2]/client_requirement[2]\n",
    "        ratio_dict ={'vcpu':vcpu_ratio, 'ram':ram_ratio, 'volume':volume_ratio}\n",
    "        max_item = max(ratio_dict, key=ratio_dict.get)\n",
    "        min_item = min(ratio_dict, key=ratio_dict.get)\n",
    "        difference_ratio = ratio_dict[max_item]/ratio_dict[min_item]\n",
    "        if priority == []:\n",
    "            #print('situation 1')\n",
    "            if difference_ratio > threshold:\n",
    "                return max_item\n",
    "            else:\n",
    "                return 'random'\n",
    "        else:\n",
    "            #print('situation 2')\n",
    "            if max_item == priority[0]:\n",
    "                #print('max item: ',max_item,' priority: ',priority[0],' threshold: ',threshold[0])\n",
    "                if difference_ratio > threshold[0]:\n",
    "                    return max_item\n",
    "                else:\n",
    "                    return 'random'\n",
    "            elif max_item == priority[1]:\n",
    "                #print('max item: ',max_item,' priority: ',priority[1],' threshold: ',threshold[1])\n",
    "                if difference_ratio > threshold[1]:\n",
    "                    return max_item\n",
    "                else:\n",
    "                    return 'random'            \n",
    "            elif max_item == priority[2]:\n",
    "                #print('max item: ',max_item,' priority: ',priority[2],' threshold: ',threshold[2])\n",
    "                if difference_ratio > threshold[2]:\n",
    "                    return max_item\n",
    "                else:\n",
    "                    return 'random'\n",
    "            else:\n",
    "                print('Error!')\n",
    "                return -1"
   ]
  },
  {
   "cell_type": "markdown",
   "metadata": {},
   "source": [
    "# The simulated price table\n",
    "## VCPU \n",
    "0-10: 0.2€/st 1 day  \n",
    "11-30: 0.1  \n",
    "31-90: 0.05  \n",
    "## RAM \n",
    "0-20: 0.1€/per GB day  \n",
    "21-60: 0.05  \n",
    "61-180: 0.025  \n",
    "## VOLUME：\n",
    "0-100：0.02€/per GB 1 day  \n",
    "101-300：0.01€/per GB 1 day  \n",
    "301-900：0.005€/per GB 1 day  "
   ]
  },
  {
   "cell_type": "code",
   "execution_count": 7,
   "metadata": {},
   "outputs": [],
   "source": [
    "# Negotiation\n",
    "\n",
    "# order: CPU-st, RAM-GB, VOLUME-GB\n",
    "# client_requirement = [15, 30, 225] \n",
    "def negotiation_client_advice(client_requirement,client_priorities):\n",
    "#def negotiation_client_advice(client_requirement,client_priorities,train_list):\n",
    "    \n",
    "    # Client\n",
    "    client = client_base(client_requirement)\n",
    "    client_decision,tendency = client.fuzzy_decision()\n",
    "    # different priority correspond to different threshold\n",
    "    client_priority = []\n",
    "    client_threshold = []\n",
    "    for key,value in client_priorities.items():\n",
    "        client_priority.append(key)\n",
    "        client_threshold.append(value)\n",
    "    #print(client_priority)\n",
    "    #print(client_threshold)\n",
    "    # Provider\n",
    "    provider = provider_base()\n",
    "    offer = provider.initial_offer(client_requirement)\n",
    "    times1round_vcpu,times1round_ram,times1round_volume,times1round = provider.compute_ratio(client_requirement,client_priorities)\n",
    "    #print('/vcpu rounds: ',times1round_vcpu,'/ram rounds: ',times1round_ram,'/volume rounds: ',times1round_volume,'/total rounds: ',times1round)\n",
    "    # Original price, i.e. baseline\n",
    "    vcpu_avg_old,ram_avg_old,volume_avg_old,total_fee_old = client.related_fee()\n",
    "    #print('*********************************************************************')\n",
    "    #print('Client requirement: ', client_requirement)\n",
    "    #print('vcpu_avg_price: %f, ram_avg_price: %f, volume_avg_price: %f'%(vcpu_avg_old,ram_avg_old,volume_avg_old))\n",
    "    #print('total_fee: %f'%total_fee_old)\n",
    "    #print('*********************************************************************')\n",
    "    # For plotting\n",
    "    steps = [];vcpu = [];ram = [];volume = [];avg_vcpu = [];avg_ram = [];avg_volume = [];total_fee = []\n",
    "    #print('Provider first offer: ',offer)\n",
    "    max_rounds = 150\n",
    "    i = 0;\n",
    "    while True:\n",
    "        # New fees\n",
    "        vcpu_avg_new,ram_avg_new,volume_avg_new,total_fee_new = client.related_fee(offer)\n",
    "        # Store offer and fee\n",
    "        steps.append(i);vcpu.append(offer[0]);ram.append(offer[1]);volume.append(offer[2])\n",
    "        avg_vcpu.append(vcpu_avg_new);avg_ram.append(ram_avg_new);avg_volume.append(volume_avg_new);total_fee.append(total_fee_new)\n",
    "        # input of fuzzy system\n",
    "        input_avg_vcpu = 100*client.scale2one_avg('avg', vcpu_avg_old, vcpu_avg_new)\n",
    "        input_avg_ram = 100*client.scale2one_avg('avg', ram_avg_old, ram_avg_new)\n",
    "        input_avg_volume = 100*client.scale2one_avg('avg', volume_avg_old, volume_avg_new)\n",
    "        input_total_fee = 100*client.scale2one_avg('total', total_fee_old, total_fee_new)\n",
    "        dict_of_data = {'avg_vcpu':input_avg_vcpu,'avg_ram':input_avg_ram,'avg_volume':input_avg_volume,'total_fee':input_total_fee}\n",
    "        #dict_of_data = {'avg_vcpu':5,'avg_ram':5,'avg_volume':5,'total_fee':2}\n",
    "        #print(dict_of_data)\n",
    "\n",
    "        # Client makes decision\n",
    "        client_decision.inputs(dict_of_data)\n",
    "        # Crunch the numbers\n",
    "        client_decision.compute()\n",
    "        decision_score = client_decision.output['tendency']\n",
    "        \n",
    "        # This part is for training scores, if no need, please comment out them.\n",
    "        #train_list_dict = {'request_vcpu':client_requirement[0], 'request_ram':client_requirement[1], 'request_volume':client_requirement[2],\\\n",
    "        #                   'offer_vcpu':offer[0], 'offer_ram':offer[1], 'offer_volume':offer[2],\\\n",
    "        #                   'offer_score':decision_score }\n",
    "        #train_list.append(train_list_dict)\n",
    "        \n",
    "        # Part for printing\n",
    "        #print('---------------------------------------------------------------')\n",
    "        #print('offer %d: '%i , offer, ' its score: ',decision_score)\n",
    "        #print('vcpu_avg_price: %f, ram_avg_price: %f, volume_avg_price: %f'%(vcpu_avg_new,ram_avg_new,volume_avg_new))\n",
    "        #print('total_fee: %f'%total_fee_new)\n",
    "        #print('---------------------------------------------------------------')\n",
    "\n",
    "        # if accepet\n",
    "        if decision_score >= 50:\n",
    "            final_offer = offer\n",
    "            print('-*-*-*-*-*-*-*-*-*-*-*-*-*-*-*-*-*-*-*-*-*-*-*-*-*-*-*-*-*-*-*-*-*-*-*-*-*-*-*-')\n",
    "            print('This final offer is ',final_offer)\n",
    "            print('Decision_score is ',decision_score)\n",
    "            print('vcpu_avg_price: %f, ram_avg_price: %f, volume_avg_price: %f'%(vcpu_avg_new,ram_avg_new,volume_avg_new))\n",
    "            print('total_fee: %f'%total_fee_new)\n",
    "            #tendency.view(sim=None)\n",
    "            #tendency.view(sim=client_decision)\n",
    "            #print(tendency)\n",
    "            #print('-*-*-*-*-*-*-*-*-*-*-*-*-*-*-*-*-*-*-*-*-*-*-*-*-*-*-*-*-*-*-*-*-*-*-*-*-*-*-*-')\n",
    "            break\n",
    "        # if reject  \n",
    "        else:\n",
    "            if offer[0]>=client_requirement[0] and offer[1]>=client_requirement[1] and offer[2]>=client_requirement[2]:\n",
    "                \n",
    "                client_advice = client.advice(offer,client_requirement,client_priority,client_threshold)\n",
    "                #print('client advice: ',client_advice)\n",
    "                #print('           ')\n",
    "                \n",
    "                offer = provider.update_offer(times1round_vcpu,times1round_ram,times1round_volume,times1round,\n",
    "                                              offer[0],offer[1],offer[2],\n",
    "                                             client_requirement,client_advice)\n",
    "                #print(offer)\n",
    "            else:\n",
    "                final_offer = offer\n",
    "                #print('Round:',i,'break!')\n",
    "                #print('Last offer (also the final offer): ' , final_offer, ' its score: ',decision_score)\n",
    "                #print('vcpu_avg_price: %f, ram_avg_price: %f, volume_avg_price: %f'%(vcpu_avg_new,ram_avg_new,volume_avg_new))\n",
    "                #print('total_fee: %f'%total_fee_new) \n",
    "                break\n",
    "        i = i+1\n",
    "        if i > max_rounds:\n",
    "            final_offer = offer\n",
    "            #print('Round %d'%i,' . Reach the MAX round!')\n",
    "            #print('Last offer (also the final offer): ' , final_offer, ' its score: ',decision_score)\n",
    "            #print('vcpu_avg_price: %f, ram_avg_price: %f, volume_avg_price: %f'%(vcpu_avg_new,ram_avg_new,volume_avg_new))\n",
    "            #print('total_fee: %f'%total_fee_new)       \n",
    "            break\n",
    "        \n",
    "    #print(i,' rounds')\n",
    "    return steps,vcpu,ram,volume,vcpu_avg_old,ram_avg_old,volume_avg_old,total_fee_old,avg_vcpu,avg_ram,avg_volume,total_fee,final_offer\n"
   ]
  },
  {
   "cell_type": "markdown",
   "metadata": {},
   "source": [
    "# Single test"
   ]
  },
  {
   "cell_type": "code",
   "execution_count": 8,
   "metadata": {},
   "outputs": [
    {
     "name": "stdout",
     "output_type": "stream",
     "text": [
      "-*-*-*-*-*-*-*-*-*-*-*-*-*-*-*-*-*-*-*-*-*-*-*-*-*-*-*-*-*-*-*-*-*-*-*-*-*-*-*-\n",
      "This final offer is  (10, 21, 210)\n",
      "Decision_score is  50.00360586349431\n",
      "vcpu_avg_price: 0.200000, ram_avg_price: 0.097619, volume_avg_price: 0.014762\n",
      "total_fee: 7.150000\n",
      "time cost 0.3182206153869629 s\n"
     ]
    }
   ],
   "source": [
    "random.seed(19260817)\n",
    "vcpu = 11\n",
    "ram = 85\n",
    "volume = 230  \n",
    "client_requirement = [vcpu, ram, volume]\n",
    "client_priorities = {'vcpu':1.0,'ram':1.0,'volume':1.0}\n",
    "time_start=time.time()\n",
    "steps,vcpu,ram,volume,\\\n",
    "vcpu_avg_old,ram_avg_old,volume_avg_old,total_fee_old,\\\n",
    "avg_vcpu,avg_ram,avg_volume,total_fee,\\\n",
    "final_offer = negotiation_client_advice(client_requirement,client_priorities)\n",
    "time_end=time.time()\n",
    "print('time cost',time_end-time_start,'s')"
   ]
  },
  {
   "cell_type": "code",
   "execution_count": 9,
   "metadata": {},
   "outputs": [
    {
     "data": {
      "text/plain": [
       "(10, 21, 210)"
      ]
     },
     "execution_count": 9,
     "metadata": {},
     "output_type": "execute_result"
    }
   ],
   "source": [
    "final_offer"
   ]
  },
  {
   "cell_type": "code",
   "execution_count": 10,
   "metadata": {},
   "outputs": [
    {
     "data": {
      "text/plain": [
       "59"
      ]
     },
     "execution_count": 10,
     "metadata": {},
     "output_type": "execute_result"
    }
   ],
   "source": [
    "len(steps)"
   ]
  },
  {
   "cell_type": "markdown",
   "metadata": {},
   "source": [
    "# Generate offer data set\n",
    "Thit part needs to modify the negotiation part."
   ]
  },
  {
   "cell_type": "markdown",
   "metadata": {},
   "source": [
    "## test"
   ]
  },
  {
   "cell_type": "code",
   "execution_count": 96,
   "metadata": {},
   "outputs": [],
   "source": [
    "random.seed(19260817)\n",
    "x_test = pd.read_csv('./data/offer_ML/x_test_200_v1.csv',index_col=0).reset_index(drop=True)"
   ]
  },
  {
   "cell_type": "code",
   "execution_count": 97,
   "metadata": {},
   "outputs": [
    {
     "name": "stderr",
     "output_type": "stream",
     "text": [
      "100%|████████████████████████████████████████████████████████████████████████████████| 200/200 [00:59<00:00,  3.36it/s]\n"
     ]
    }
   ],
   "source": [
    "test_final_offer_list = []\n",
    "for index,row in tqdm(x_test.iterrows(),total=x_test.shape[0]):\n",
    "    vcpu=row['vcpu']\n",
    "    ram=row['ram']\n",
    "    volume=row['volume']    \n",
    "    client_requirement = [vcpu, ram, volume]\n",
    "    client_priorities = {'vcpu':1.25,'ram':1.00,'volume':1.00}\n",
    "    steps,vcpu,ram,volume,\\\n",
    "    vcpu_avg_old,ram_avg_old,volume_avg_old,total_fee_old,\\\n",
    "    avg_vcpu,avg_ram,avg_volume,total_fee,\\\n",
    "    final_offer = negotiation_client_advice(client_requirement,client_priorities)\n",
    "    final_offer_dict = {'final_vcpu':final_offer[0], 'final_ram':final_offer[1], 'final_volume':final_offer[2]}\n",
    "    test_final_offer_list.append(final_offer_dict)\n",
    "y_test = pd.DataFrame(test_final_offer_list)\n",
    "y_test.to_csv('./data/offer_ML/v4_y_test_200_v1_p1.csv')"
   ]
  },
  {
   "cell_type": "code",
   "execution_count": 98,
   "metadata": {},
   "outputs": [
    {
     "name": "stderr",
     "output_type": "stream",
     "text": [
      "100%|████████████████████████████████████████████████████████████████████████████████| 200/200 [00:58<00:00,  3.42it/s]\n"
     ]
    }
   ],
   "source": [
    "test_final_offer_list = []\n",
    "for index,row in tqdm(x_test.iterrows(),total=x_test.shape[0]):\n",
    "    vcpu=row['vcpu']\n",
    "    ram=row['ram']\n",
    "    volume=row['volume']    \n",
    "    client_requirement = [vcpu, ram, volume]\n",
    "    client_priorities = {'vcpu':1.1,'ram':1.00,'volume':1.00}\n",
    "    steps,vcpu,ram,volume,\\\n",
    "    vcpu_avg_old,ram_avg_old,volume_avg_old,total_fee_old,\\\n",
    "    avg_vcpu,avg_ram,avg_volume,total_fee,\\\n",
    "    final_offer = negotiation_client_advice(client_requirement,client_priorities)\n",
    "    final_offer_dict = {'final_vcpu':final_offer[0], 'final_ram':final_offer[1], 'final_volume':final_offer[2]}\n",
    "    test_final_offer_list.append(final_offer_dict)\n",
    "y_test = pd.DataFrame(test_final_offer_list)\n",
    "y_test.to_csv('./data/offer_ML/v4_y_test_200_v1_p11.csv')"
   ]
  },
  {
   "cell_type": "code",
   "execution_count": 99,
   "metadata": {},
   "outputs": [
    {
     "name": "stderr",
     "output_type": "stream",
     "text": [
      "100%|████████████████████████████████████████████████████████████████████████████████| 200/200 [00:57<00:00,  3.49it/s]\n"
     ]
    }
   ],
   "source": [
    "test_final_offer_list = []\n",
    "for index,row in tqdm(x_test.iterrows(),total=x_test.shape[0]):\n",
    "    vcpu=row['vcpu']\n",
    "    ram=row['ram']\n",
    "    volume=row['volume']    \n",
    "    client_requirement = [vcpu, ram, volume]\n",
    "    client_priorities = {'vcpu':1.5,'ram':1.00,'volume':1.00}\n",
    "    steps,vcpu,ram,volume,\\\n",
    "    vcpu_avg_old,ram_avg_old,volume_avg_old,total_fee_old,\\\n",
    "    avg_vcpu,avg_ram,avg_volume,total_fee,\\\n",
    "    final_offer = negotiation_client_advice(client_requirement,client_priorities)\n",
    "    final_offer_dict = {'final_vcpu':final_offer[0], 'final_ram':final_offer[1], 'final_volume':final_offer[2]}\n",
    "    test_final_offer_list.append(final_offer_dict)\n",
    "y_test = pd.DataFrame(test_final_offer_list)\n",
    "y_test.to_csv('./data/offer_ML/v4_y_test_200_v1_p15.csv')"
   ]
  },
  {
   "cell_type": "code",
   "execution_count": 100,
   "metadata": {},
   "outputs": [
    {
     "name": "stderr",
     "output_type": "stream",
     "text": [
      "100%|████████████████████████████████████████████████████████████████████████████████| 200/200 [00:57<00:00,  3.49it/s]\n"
     ]
    }
   ],
   "source": [
    "test_final_offer_list = []\n",
    "for index,row in tqdm(x_test.iterrows(),total=x_test.shape[0]):\n",
    "    vcpu=row['vcpu']\n",
    "    ram=row['ram']\n",
    "    volume=row['volume']    \n",
    "    client_requirement = [vcpu, ram, volume]\n",
    "    client_priorities = {'vcpu':5,'ram':1.00,'volume':1.00}\n",
    "    steps,vcpu,ram,volume,\\\n",
    "    vcpu_avg_old,ram_avg_old,volume_avg_old,total_fee_old,\\\n",
    "    avg_vcpu,avg_ram,avg_volume,total_fee,\\\n",
    "    final_offer = negotiation_client_advice(client_requirement,client_priorities)\n",
    "    final_offer_dict = {'final_vcpu':final_offer[0], 'final_ram':final_offer[1], 'final_volume':final_offer[2]}\n",
    "    test_final_offer_list.append(final_offer_dict)\n",
    "y_test = pd.DataFrame(test_final_offer_list)\n",
    "y_test.to_csv('./data/offer_ML/v4_y_test_200_v1_p5.csv')"
   ]
  },
  {
   "cell_type": "markdown",
   "metadata": {},
   "source": [
    "## Train size = 10000"
   ]
  },
  {
   "cell_type": "code",
   "execution_count": 11,
   "metadata": {},
   "outputs": [],
   "source": [
    "x_train_104 = pd.read_csv('./data/offer_ML/x_train_104_v1.csv',index_col=0).reset_index(drop=True)"
   ]
  },
  {
   "cell_type": "code",
   "execution_count": 12,
   "metadata": {},
   "outputs": [
    {
     "name": "stderr",
     "output_type": "stream",
     "text": [
      "100%|████████████████████████████████████████████████████████████████████████████| 10000/10000 [54:06<00:00,  3.08it/s]\n"
     ]
    }
   ],
   "source": [
    "train_final_offer_list = []\n",
    "for index,row in tqdm(x_train_104.iterrows(),total=x_train_104.shape[0]):\n",
    "    vcpu=row['vcpu']\n",
    "    ram=row['ram']\n",
    "    volume=row['volume']    \n",
    "    client_requirement = [vcpu, ram, volume]\n",
    "    client_priorities = {'vcpu':1.25,'ram':1.0,'volume':1.0}\n",
    "    steps,vcpu,ram,volume,\\\n",
    "    vcpu_avg_old,ram_avg_old,volume_avg_old,total_fee_old,\\\n",
    "    avg_vcpu,avg_ram,avg_volume,total_fee,\\\n",
    "    final_offer = negotiation_client_advice(client_requirement,client_priorities)\n",
    "    final_offer_dict = {'final_vcpu':final_offer[0], 'final_ram':final_offer[1], 'final_volume':final_offer[2]}\n",
    "    train_final_offer_list.append(final_offer_dict)\n",
    "y_train_104 = pd.DataFrame(train_final_offer_list)"
   ]
  },
  {
   "cell_type": "code",
   "execution_count": 13,
   "metadata": {},
   "outputs": [],
   "source": [
    "y_train_104.to_csv('./data/offer_ML/v4_y_train_104_v1.csv')"
   ]
  },
  {
   "cell_type": "markdown",
   "metadata": {},
   "source": [
    "## size = 20000"
   ]
  },
  {
   "cell_type": "code",
   "execution_count": 8,
   "metadata": {},
   "outputs": [],
   "source": [
    "x_train_204 = pd.read_csv('./data/offer_ML/x_train_204.csv',index_col=0).reset_index(drop=True)"
   ]
  },
  {
   "cell_type": "code",
   "execution_count": 9,
   "metadata": {},
   "outputs": [
    {
     "name": "stderr",
     "output_type": "stream",
     "text": [
      "100%|██████████████████████████████████████████████████████████████████████████| 20000/20000 [1:12:39<00:00,  4.59it/s]\n"
     ]
    }
   ],
   "source": [
    "train_final_offer_list = []\n",
    "for index,row in tqdm(x_train_204.iterrows(),total=x_train_204.shape[0]):\n",
    "    vcpu=row['vcpu']\n",
    "    ram=row['ram']\n",
    "    volume=row['volume']    \n",
    "    client_requirement = [vcpu, ram, volume]\n",
    "    client_priorities = {'vcpu':1.25,'ram':1.05,'volume':1.0}\n",
    "    steps,vcpu,ram,volume,\\\n",
    "    vcpu_avg_old,ram_avg_old,volume_avg_old,total_fee_old,\\\n",
    "    avg_vcpu,avg_ram,avg_volume,total_fee,\\\n",
    "    final_offer = negotiation_client_advice(client_requirement,client_priorities)\n",
    "    final_offer_dict = {'final_vcpu':final_offer[0], 'final_ram':final_offer[1], 'final_volume':final_offer[2]}\n",
    "    train_final_offer_list.append(final_offer_dict)\n",
    "y_train_204 = pd.DataFrame(train_final_offer_list)"
   ]
  },
  {
   "cell_type": "code",
   "execution_count": 10,
   "metadata": {},
   "outputs": [],
   "source": [
    "y_train_204.to_csv('./data/offer_ML/v4_y_train_204.csv')"
   ]
  },
  {
   "cell_type": "markdown",
   "metadata": {},
   "source": [
    "## size = 40000"
   ]
  },
  {
   "cell_type": "code",
   "execution_count": 8,
   "metadata": {},
   "outputs": [],
   "source": [
    "x_train_404 = pd.read_csv('./data/offer_ML/x_train_404.csv',index_col=0).reset_index(drop=True)\n",
    "part1 = x_train_404[0:10000]\n",
    "part2 = x_train_404[10000:20000]\n",
    "part3 = x_train_404[20000:30000]\n",
    "part4 = x_train_404[30000:40000]"
   ]
  },
  {
   "cell_type": "code",
   "execution_count": 9,
   "metadata": {},
   "outputs": [
    {
     "name": "stderr",
     "output_type": "stream",
     "text": [
      "100%|████████████████████████████████████████████████████████████████████████████| 10000/10000 [44:54<00:00,  3.71it/s]\n"
     ]
    }
   ],
   "source": [
    "train_final_offer_list = []\n",
    "for index,row in tqdm(part1.iterrows(),total=part1.shape[0]):\n",
    "    vcpu=row['vcpu']\n",
    "    ram=row['ram']\n",
    "    volume=row['volume']    \n",
    "    client_requirement = [vcpu, ram, volume]\n",
    "    client_priorities = {'vcpu':1.25,'ram':1.05,'volume':1.0}\n",
    "    steps,vcpu,ram,volume,\\\n",
    "    vcpu_avg_old,ram_avg_old,volume_avg_old,total_fee_old,\\\n",
    "    avg_vcpu,avg_ram,avg_volume,total_fee,\\\n",
    "    final_offer = negotiation_client_advice(client_requirement,client_priorities)\n",
    "    final_offer_dict = {'final_vcpu':final_offer[0], 'final_ram':final_offer[1], 'final_volume':final_offer[2]}\n",
    "    train_final_offer_list.append(final_offer_dict)\n",
    "y_train_404_1 = pd.DataFrame(train_final_offer_list)\n",
    "#y_train_404_1.to_csv('./data/offer_ML/v4_y_train_404_1.csv')"
   ]
  },
  {
   "cell_type": "code",
   "execution_count": 10,
   "metadata": {},
   "outputs": [
    {
     "name": "stderr",
     "output_type": "stream",
     "text": [
      "100%|████████████████████████████████████████████████████████████████████████████| 10000/10000 [47:00<00:00,  3.55it/s]\n"
     ]
    }
   ],
   "source": [
    "train_final_offer_list = []\n",
    "for index,row in tqdm(part2.iterrows(),total=part2.shape[0]):\n",
    "    vcpu=row['vcpu']\n",
    "    ram=row['ram']\n",
    "    volume=row['volume']    \n",
    "    client_requirement = [vcpu, ram, volume]\n",
    "    client_priorities = {'vcpu':1.25,'ram':1.05,'volume':1.0}\n",
    "    steps,vcpu,ram,volume,\\\n",
    "    vcpu_avg_old,ram_avg_old,volume_avg_old,total_fee_old,\\\n",
    "    avg_vcpu,avg_ram,avg_volume,total_fee,\\\n",
    "    final_offer = negotiation_client_advice(client_requirement,client_priorities)\n",
    "    final_offer_dict = {'final_vcpu':final_offer[0], 'final_ram':final_offer[1], 'final_volume':final_offer[2]}\n",
    "    train_final_offer_list.append(final_offer_dict)\n",
    "y_train_404_2 = pd.DataFrame(train_final_offer_list)\n",
    "#y_train_404_2.to_csv('./data/offer_ML/v4_y_train_404_2.csv')"
   ]
  },
  {
   "cell_type": "code",
   "execution_count": 11,
   "metadata": {},
   "outputs": [
    {
     "name": "stderr",
     "output_type": "stream",
     "text": [
      "100%|████████████████████████████████████████████████████████████████████████████| 10000/10000 [39:58<00:00,  4.17it/s]\n"
     ]
    }
   ],
   "source": [
    "train_final_offer_list = []\n",
    "for index,row in tqdm(part3.iterrows(),total=part3.shape[0]):\n",
    "    vcpu=row['vcpu']\n",
    "    ram=row['ram']\n",
    "    volume=row['volume']    \n",
    "    client_requirement = [vcpu, ram, volume]\n",
    "    client_priorities = {'vcpu':1.25,'ram':1.05,'volume':1.0}\n",
    "    steps,vcpu,ram,volume,\\\n",
    "    vcpu_avg_old,ram_avg_old,volume_avg_old,total_fee_old,\\\n",
    "    avg_vcpu,avg_ram,avg_volume,total_fee,\\\n",
    "    final_offer = negotiation_client_advice(client_requirement,client_priorities)\n",
    "    final_offer_dict = {'final_vcpu':final_offer[0], 'final_ram':final_offer[1], 'final_volume':final_offer[2]}\n",
    "    train_final_offer_list.append(final_offer_dict)\n",
    "y_train_404_3 = pd.DataFrame(train_final_offer_list)\n",
    "#y_train_404_3.to_csv('./data/offer_ML/v4_y_train_404_3.csv')"
   ]
  },
  {
   "cell_type": "code",
   "execution_count": 12,
   "metadata": {},
   "outputs": [
    {
     "name": "stderr",
     "output_type": "stream",
     "text": [
      "100%|████████████████████████████████████████████████████████████████████████████| 10000/10000 [43:54<00:00,  3.80it/s]\n"
     ]
    }
   ],
   "source": [
    "train_final_offer_list = []\n",
    "for index,row in tqdm(part4.iterrows(),total=part4.shape[0]):\n",
    "    vcpu=row['vcpu']\n",
    "    ram=row['ram']\n",
    "    volume=row['volume']    \n",
    "    client_requirement = [vcpu, ram, volume]\n",
    "    client_priorities = {'vcpu':1.25,'ram':1.05,'volume':1.0}\n",
    "    steps,vcpu,ram,volume,\\\n",
    "    vcpu_avg_old,ram_avg_old,volume_avg_old,total_fee_old,\\\n",
    "    avg_vcpu,avg_ram,avg_volume,total_fee,\\\n",
    "    final_offer = negotiation_client_advice(client_requirement,client_priorities)\n",
    "    final_offer_dict = {'final_vcpu':final_offer[0], 'final_ram':final_offer[1], 'final_volume':final_offer[2]}\n",
    "    train_final_offer_list.append(final_offer_dict)\n",
    "y_train_404_4 = pd.DataFrame(train_final_offer_list)\n",
    "y_train_404_4.to_csv('./data/y_train_404_4.csv')"
   ]
  },
  {
   "cell_type": "code",
   "execution_count": 15,
   "metadata": {},
   "outputs": [],
   "source": [
    "y_train_404_list = [y_train_404_1,y_train_404_2,y_train_404_3,y_train_404_4]\n",
    "y_train_404 = pd.concat(y_train_404_list)"
   ]
  },
  {
   "cell_type": "code",
   "execution_count": 24,
   "metadata": {},
   "outputs": [],
   "source": [
    "y_train_404.to_csv('./data/offer_ML/v4_y_train_404.csv')"
   ]
  },
  {
   "cell_type": "markdown",
   "metadata": {},
   "source": [
    "# Generate score data set"
   ]
  },
  {
   "cell_type": "markdown",
   "metadata": {},
   "source": [
    "# test"
   ]
  },
  {
   "cell_type": "code",
   "execution_count": 43,
   "metadata": {},
   "outputs": [],
   "source": [
    "x_test = pd.read_csv('./data/offer_ML/x_test_200.csv',index_col=0).reset_index(drop=True)\n",
    "x_test_20 = x_test[0:20]\n",
    "x_test_20.to_csv('./data/score_ML/x_test_20.csv')"
   ]
  },
  {
   "cell_type": "code",
   "execution_count": 36,
   "metadata": {},
   "outputs": [
    {
     "name": "stderr",
     "output_type": "stream",
     "text": [
      "100%|██████████████████████████████████████████████████████████████████████████████████| 20/20 [00:04<00:00,  4.55it/s]\n"
     ]
    }
   ],
   "source": [
    "test_final_offer_list = []\n",
    "test_list = []\n",
    "for index,row in tqdm(x_test_20.iterrows(),total=x_test_20.shape[0]):\n",
    "    \n",
    "    vcpu=row['vcpu']\n",
    "    ram=row['ram']\n",
    "    volume=row['volume']    \n",
    "    client_requirement = [vcpu, ram, volume]\n",
    "    client_priorities = {'vcpu':1.25,'ram':1.05,'volume':1.0}\n",
    "    \n",
    "    steps,vcpu,ram,volume,\\\n",
    "    vcpu_avg_old,ram_avg_old,volume_avg_old,total_fee_old,\\\n",
    "    avg_vcpu,avg_ram,avg_volume,total_fee,\\\n",
    "    final_offer = negotiation_client_advice(client_requirement,client_priorities,test_list)\n",
    "    \n",
    "    final_offer_dict = {'final_vcpu':final_offer[0], 'final_ram':final_offer[1], 'final_volume':final_offer[2]}\n",
    "    test_final_offer_list.append(final_offer_dict)\n",
    "    \n",
    "y_test_20 = pd.DataFrame(test_final_offer_list)\n",
    "score_test_20 = pd.DataFrame(test_list)"
   ]
  },
  {
   "cell_type": "code",
   "execution_count": 37,
   "metadata": {},
   "outputs": [],
   "source": [
    "y_test_20.to_csv('./data/score_ML/y_test_20.csv')\n",
    "score_test_20.to_csv('./data/score_ML/score_test_20.csv')"
   ]
  },
  {
   "cell_type": "code",
   "execution_count": 38,
   "metadata": {},
   "outputs": [
    {
     "data": {
      "text/html": [
       "<div>\n",
       "<style scoped>\n",
       "    .dataframe tbody tr th:only-of-type {\n",
       "        vertical-align: middle;\n",
       "    }\n",
       "\n",
       "    .dataframe tbody tr th {\n",
       "        vertical-align: top;\n",
       "    }\n",
       "\n",
       "    .dataframe thead th {\n",
       "        text-align: right;\n",
       "    }\n",
       "</style>\n",
       "<table border=\"1\" class=\"dataframe\">\n",
       "  <thead>\n",
       "    <tr style=\"text-align: right;\">\n",
       "      <th></th>\n",
       "      <th>request_vcpu</th>\n",
       "      <th>request_ram</th>\n",
       "      <th>request_volume</th>\n",
       "      <th>offer_vcpu</th>\n",
       "      <th>offer_ram</th>\n",
       "      <th>offer_volume</th>\n",
       "      <th>offer_score</th>\n",
       "    </tr>\n",
       "  </thead>\n",
       "  <tbody>\n",
       "    <tr>\n",
       "      <th>0</th>\n",
       "      <td>7</td>\n",
       "      <td>22</td>\n",
       "      <td>870</td>\n",
       "      <td>17</td>\n",
       "      <td>82</td>\n",
       "      <td>870</td>\n",
       "      <td>45.854375</td>\n",
       "    </tr>\n",
       "    <tr>\n",
       "      <th>1</th>\n",
       "      <td>7</td>\n",
       "      <td>22</td>\n",
       "      <td>870</td>\n",
       "      <td>17</td>\n",
       "      <td>81</td>\n",
       "      <td>870</td>\n",
       "      <td>45.904431</td>\n",
       "    </tr>\n",
       "    <tr>\n",
       "      <th>2</th>\n",
       "      <td>7</td>\n",
       "      <td>22</td>\n",
       "      <td>870</td>\n",
       "      <td>17</td>\n",
       "      <td>80</td>\n",
       "      <td>870</td>\n",
       "      <td>45.954637</td>\n",
       "    </tr>\n",
       "    <tr>\n",
       "      <th>3</th>\n",
       "      <td>7</td>\n",
       "      <td>22</td>\n",
       "      <td>870</td>\n",
       "      <td>17</td>\n",
       "      <td>79</td>\n",
       "      <td>870</td>\n",
       "      <td>46.005002</td>\n",
       "    </tr>\n",
       "    <tr>\n",
       "      <th>4</th>\n",
       "      <td>7</td>\n",
       "      <td>22</td>\n",
       "      <td>870</td>\n",
       "      <td>17</td>\n",
       "      <td>78</td>\n",
       "      <td>870</td>\n",
       "      <td>46.056624</td>\n",
       "    </tr>\n",
       "    <tr>\n",
       "      <th>...</th>\n",
       "      <td>...</td>\n",
       "      <td>...</td>\n",
       "      <td>...</td>\n",
       "      <td>...</td>\n",
       "      <td>...</td>\n",
       "      <td>...</td>\n",
       "      <td>...</td>\n",
       "    </tr>\n",
       "    <tr>\n",
       "      <th>166</th>\n",
       "      <td>3</td>\n",
       "      <td>39</td>\n",
       "      <td>890</td>\n",
       "      <td>6</td>\n",
       "      <td>91</td>\n",
       "      <td>890</td>\n",
       "      <td>49.522467</td>\n",
       "    </tr>\n",
       "    <tr>\n",
       "      <th>167</th>\n",
       "      <td>3</td>\n",
       "      <td>39</td>\n",
       "      <td>890</td>\n",
       "      <td>6</td>\n",
       "      <td>90</td>\n",
       "      <td>890</td>\n",
       "      <td>49.895233</td>\n",
       "    </tr>\n",
       "    <tr>\n",
       "      <th>168</th>\n",
       "      <td>3</td>\n",
       "      <td>39</td>\n",
       "      <td>890</td>\n",
       "      <td>6</td>\n",
       "      <td>89</td>\n",
       "      <td>890</td>\n",
       "      <td>50.284120</td>\n",
       "    </tr>\n",
       "    <tr>\n",
       "      <th>169</th>\n",
       "      <td>8</td>\n",
       "      <td>50</td>\n",
       "      <td>810</td>\n",
       "      <td>18</td>\n",
       "      <td>110</td>\n",
       "      <td>810</td>\n",
       "      <td>50.382520</td>\n",
       "    </tr>\n",
       "    <tr>\n",
       "      <th>170</th>\n",
       "      <td>16</td>\n",
       "      <td>41</td>\n",
       "      <td>700</td>\n",
       "      <td>46</td>\n",
       "      <td>101</td>\n",
       "      <td>700</td>\n",
       "      <td>51.322056</td>\n",
       "    </tr>\n",
       "  </tbody>\n",
       "</table>\n",
       "<p>171 rows × 7 columns</p>\n",
       "</div>"
      ],
      "text/plain": [
       "     request_vcpu  request_ram  request_volume  offer_vcpu  offer_ram  \\\n",
       "0               7           22             870          17         82   \n",
       "1               7           22             870          17         81   \n",
       "2               7           22             870          17         80   \n",
       "3               7           22             870          17         79   \n",
       "4               7           22             870          17         78   \n",
       "..            ...          ...             ...         ...        ...   \n",
       "166             3           39             890           6         91   \n",
       "167             3           39             890           6         90   \n",
       "168             3           39             890           6         89   \n",
       "169             8           50             810          18        110   \n",
       "170            16           41             700          46        101   \n",
       "\n",
       "     offer_volume  offer_score  \n",
       "0             870    45.854375  \n",
       "1             870    45.904431  \n",
       "2             870    45.954637  \n",
       "3             870    46.005002  \n",
       "4             870    46.056624  \n",
       "..            ...          ...  \n",
       "166           890    49.522467  \n",
       "167           890    49.895233  \n",
       "168           890    50.284120  \n",
       "169           810    50.382520  \n",
       "170           700    51.322056  \n",
       "\n",
       "[171 rows x 7 columns]"
      ]
     },
     "execution_count": 38,
     "metadata": {},
     "output_type": "execute_result"
    }
   ],
   "source": [
    "score_test_20"
   ]
  },
  {
   "cell_type": "markdown",
   "metadata": {},
   "source": [
    "# use 1000 requirements"
   ]
  },
  {
   "cell_type": "code",
   "execution_count": 44,
   "metadata": {},
   "outputs": [],
   "source": [
    "x_train_104 = pd.read_csv('./data/offer_ML/x_train_404.csv',index_col=0).reset_index(drop=True)\n",
    "x_train_103 = x_train_104[0:1000]\n",
    "x_train_103.to_csv('./data/offer_ML/x_train_103.csv')"
   ]
  },
  {
   "cell_type": "code",
   "execution_count": 40,
   "metadata": {},
   "outputs": [
    {
     "name": "stderr",
     "output_type": "stream",
     "text": [
      "100%|██████████████████████████████████████████████████████████████████████████████| 1000/1000 [03:44<00:00,  4.45it/s]\n"
     ]
    }
   ],
   "source": [
    "train_final_offer_list = []\n",
    "train_list = []\n",
    "for index,row in tqdm(x_train_103.iterrows(),total=x_train_103.shape[0]):\n",
    "    vcpu=row['vcpu']\n",
    "    ram=row['ram']\n",
    "    volume=row['volume']    \n",
    "    client_requirement = [vcpu, ram, volume]\n",
    "    client_priorities = {'vcpu':1.25,'ram':1.05,'volume':1.0}\n",
    "    steps,vcpu,ram,volume,\\\n",
    "    vcpu_avg_old,ram_avg_old,volume_avg_old,total_fee_old,\\\n",
    "    avg_vcpu,avg_ram,avg_volume,total_fee,\\\n",
    "    final_offer = negotiation_client_advice(client_requirement,client_priorities,train_list)\n",
    "    final_offer_dict = {'final_vcpu':final_offer[0], 'final_ram':final_offer[1], 'final_volume':final_offer[2]}\n",
    "    train_final_offer_list.append(final_offer_dict)\n",
    "y_train_103 = pd.DataFrame(train_final_offer_list)\n",
    "score_train_103 = pd.DataFrame(train_list)"
   ]
  },
  {
   "cell_type": "code",
   "execution_count": 41,
   "metadata": {},
   "outputs": [],
   "source": [
    "y_train_103.to_csv('./data/score_ML/v4_y_train_103.csv')\n",
    "score_train_103.to_csv('./data/score_ML/score_train_103.csv')"
   ]
  },
  {
   "cell_type": "code",
   "execution_count": 42,
   "metadata": {},
   "outputs": [
    {
     "data": {
      "text/html": [
       "<div>\n",
       "<style scoped>\n",
       "    .dataframe tbody tr th:only-of-type {\n",
       "        vertical-align: middle;\n",
       "    }\n",
       "\n",
       "    .dataframe tbody tr th {\n",
       "        vertical-align: top;\n",
       "    }\n",
       "\n",
       "    .dataframe thead th {\n",
       "        text-align: right;\n",
       "    }\n",
       "</style>\n",
       "<table border=\"1\" class=\"dataframe\">\n",
       "  <thead>\n",
       "    <tr style=\"text-align: right;\">\n",
       "      <th></th>\n",
       "      <th>request_vcpu</th>\n",
       "      <th>request_ram</th>\n",
       "      <th>request_volume</th>\n",
       "      <th>offer_vcpu</th>\n",
       "      <th>offer_ram</th>\n",
       "      <th>offer_volume</th>\n",
       "      <th>offer_score</th>\n",
       "    </tr>\n",
       "  </thead>\n",
       "  <tbody>\n",
       "    <tr>\n",
       "      <th>0</th>\n",
       "      <td>42</td>\n",
       "      <td>61</td>\n",
       "      <td>660</td>\n",
       "      <td>42</td>\n",
       "      <td>61</td>\n",
       "      <td>660</td>\n",
       "      <td>50.000000</td>\n",
       "    </tr>\n",
       "    <tr>\n",
       "      <th>1</th>\n",
       "      <td>8</td>\n",
       "      <td>16</td>\n",
       "      <td>160</td>\n",
       "      <td>18</td>\n",
       "      <td>36</td>\n",
       "      <td>460</td>\n",
       "      <td>43.380275</td>\n",
       "    </tr>\n",
       "    <tr>\n",
       "      <th>2</th>\n",
       "      <td>8</td>\n",
       "      <td>16</td>\n",
       "      <td>160</td>\n",
       "      <td>18</td>\n",
       "      <td>36</td>\n",
       "      <td>450</td>\n",
       "      <td>43.434291</td>\n",
       "    </tr>\n",
       "    <tr>\n",
       "      <th>3</th>\n",
       "      <td>8</td>\n",
       "      <td>16</td>\n",
       "      <td>160</td>\n",
       "      <td>18</td>\n",
       "      <td>36</td>\n",
       "      <td>440</td>\n",
       "      <td>43.485773</td>\n",
       "    </tr>\n",
       "    <tr>\n",
       "      <th>4</th>\n",
       "      <td>8</td>\n",
       "      <td>16</td>\n",
       "      <td>160</td>\n",
       "      <td>18</td>\n",
       "      <td>36</td>\n",
       "      <td>430</td>\n",
       "      <td>43.535926</td>\n",
       "    </tr>\n",
       "    <tr>\n",
       "      <th>...</th>\n",
       "      <td>...</td>\n",
       "      <td>...</td>\n",
       "      <td>...</td>\n",
       "      <td>...</td>\n",
       "      <td>...</td>\n",
       "      <td>...</td>\n",
       "      <td>...</td>\n",
       "    </tr>\n",
       "    <tr>\n",
       "      <th>9794</th>\n",
       "      <td>1</td>\n",
       "      <td>21</td>\n",
       "      <td>270</td>\n",
       "      <td>1</td>\n",
       "      <td>21</td>\n",
       "      <td>270</td>\n",
       "      <td>50.000000</td>\n",
       "    </tr>\n",
       "    <tr>\n",
       "      <th>9795</th>\n",
       "      <td>25</td>\n",
       "      <td>53</td>\n",
       "      <td>860</td>\n",
       "      <td>55</td>\n",
       "      <td>113</td>\n",
       "      <td>860</td>\n",
       "      <td>55.925669</td>\n",
       "    </tr>\n",
       "    <tr>\n",
       "      <th>9796</th>\n",
       "      <td>46</td>\n",
       "      <td>77</td>\n",
       "      <td>820</td>\n",
       "      <td>46</td>\n",
       "      <td>77</td>\n",
       "      <td>820</td>\n",
       "      <td>50.000000</td>\n",
       "    </tr>\n",
       "    <tr>\n",
       "      <th>9797</th>\n",
       "      <td>27</td>\n",
       "      <td>44</td>\n",
       "      <td>490</td>\n",
       "      <td>57</td>\n",
       "      <td>104</td>\n",
       "      <td>490</td>\n",
       "      <td>53.528388</td>\n",
       "    </tr>\n",
       "    <tr>\n",
       "      <th>9798</th>\n",
       "      <td>56</td>\n",
       "      <td>63</td>\n",
       "      <td>680</td>\n",
       "      <td>56</td>\n",
       "      <td>63</td>\n",
       "      <td>680</td>\n",
       "      <td>50.000000</td>\n",
       "    </tr>\n",
       "  </tbody>\n",
       "</table>\n",
       "<p>9799 rows × 7 columns</p>\n",
       "</div>"
      ],
      "text/plain": [
       "      request_vcpu  request_ram  request_volume  offer_vcpu  offer_ram  \\\n",
       "0               42           61             660          42         61   \n",
       "1                8           16             160          18         36   \n",
       "2                8           16             160          18         36   \n",
       "3                8           16             160          18         36   \n",
       "4                8           16             160          18         36   \n",
       "...            ...          ...             ...         ...        ...   \n",
       "9794             1           21             270           1         21   \n",
       "9795            25           53             860          55        113   \n",
       "9796            46           77             820          46         77   \n",
       "9797            27           44             490          57        104   \n",
       "9798            56           63             680          56         63   \n",
       "\n",
       "      offer_volume  offer_score  \n",
       "0              660    50.000000  \n",
       "1              460    43.380275  \n",
       "2              450    43.434291  \n",
       "3              440    43.485773  \n",
       "4              430    43.535926  \n",
       "...            ...          ...  \n",
       "9794           270    50.000000  \n",
       "9795           860    55.925669  \n",
       "9796           820    50.000000  \n",
       "9797           490    53.528388  \n",
       "9798           680    50.000000  \n",
       "\n",
       "[9799 rows x 7 columns]"
      ]
     },
     "execution_count": 42,
     "metadata": {},
     "output_type": "execute_result"
    }
   ],
   "source": [
    "score_train_103"
   ]
  },
  {
   "cell_type": "markdown",
   "metadata": {},
   "source": [
    "# use 10000 requirements"
   ]
  },
  {
   "cell_type": "code",
   "execution_count": 47,
   "metadata": {},
   "outputs": [],
   "source": [
    "x_train_104 = pd.read_csv('./data/offer_ML/x_train_104.csv',index_col=0).reset_index(drop=True)"
   ]
  },
  {
   "cell_type": "code",
   "execution_count": 48,
   "metadata": {},
   "outputs": [
    {
     "name": "stderr",
     "output_type": "stream",
     "text": [
      "100%|████████████████████████████████████████████████████████████████████████████| 10000/10000 [40:02<00:00,  4.16it/s]\n"
     ]
    }
   ],
   "source": [
    "train_final_offer_list = []\n",
    "train_list = []\n",
    "for index,row in tqdm(x_train_104.iterrows(),total=x_train_104.shape[0]):\n",
    "    vcpu=row['vcpu']\n",
    "    ram=row['ram']\n",
    "    volume=row['volume']    \n",
    "    client_requirement = [vcpu, ram, volume]\n",
    "    client_priorities = {'vcpu':1.25,'ram':1.05,'volume':1.0}\n",
    "    steps,vcpu,ram,volume,\\\n",
    "    vcpu_avg_old,ram_avg_old,volume_avg_old,total_fee_old,\\\n",
    "    avg_vcpu,avg_ram,avg_volume,total_fee,\\\n",
    "    final_offer = negotiation_client_advice(client_requirement,client_priorities,train_list)\n",
    "    final_offer_dict = {'final_vcpu':final_offer[0], 'final_ram':final_offer[1], 'final_volume':final_offer[2]}\n",
    "    train_final_offer_list.append(final_offer_dict)\n",
    "y_train_104 = pd.DataFrame(train_final_offer_list)\n",
    "score_train_104 = pd.DataFrame(train_list)"
   ]
  },
  {
   "cell_type": "code",
   "execution_count": 49,
   "metadata": {},
   "outputs": [],
   "source": [
    "y_train_104.to_csv('./data/score_ML/v4_y_train_104.csv')\n",
    "score_train_104.to_csv('./data/score_ML/score_train_104.csv')"
   ]
  },
  {
   "cell_type": "code",
   "execution_count": 50,
   "metadata": {},
   "outputs": [
    {
     "data": {
      "text/html": [
       "<div>\n",
       "<style scoped>\n",
       "    .dataframe tbody tr th:only-of-type {\n",
       "        vertical-align: middle;\n",
       "    }\n",
       "\n",
       "    .dataframe tbody tr th {\n",
       "        vertical-align: top;\n",
       "    }\n",
       "\n",
       "    .dataframe thead th {\n",
       "        text-align: right;\n",
       "    }\n",
       "</style>\n",
       "<table border=\"1\" class=\"dataframe\">\n",
       "  <thead>\n",
       "    <tr style=\"text-align: right;\">\n",
       "      <th></th>\n",
       "      <th>request_vcpu</th>\n",
       "      <th>request_ram</th>\n",
       "      <th>request_volume</th>\n",
       "      <th>offer_vcpu</th>\n",
       "      <th>offer_ram</th>\n",
       "      <th>offer_volume</th>\n",
       "      <th>offer_score</th>\n",
       "    </tr>\n",
       "  </thead>\n",
       "  <tbody>\n",
       "    <tr>\n",
       "      <th>0</th>\n",
       "      <td>42</td>\n",
       "      <td>61</td>\n",
       "      <td>660</td>\n",
       "      <td>42</td>\n",
       "      <td>61</td>\n",
       "      <td>660</td>\n",
       "      <td>50.000000</td>\n",
       "    </tr>\n",
       "    <tr>\n",
       "      <th>1</th>\n",
       "      <td>8</td>\n",
       "      <td>16</td>\n",
       "      <td>160</td>\n",
       "      <td>18</td>\n",
       "      <td>36</td>\n",
       "      <td>460</td>\n",
       "      <td>43.380275</td>\n",
       "    </tr>\n",
       "    <tr>\n",
       "      <th>2</th>\n",
       "      <td>8</td>\n",
       "      <td>16</td>\n",
       "      <td>160</td>\n",
       "      <td>18</td>\n",
       "      <td>36</td>\n",
       "      <td>450</td>\n",
       "      <td>43.434291</td>\n",
       "    </tr>\n",
       "    <tr>\n",
       "      <th>3</th>\n",
       "      <td>8</td>\n",
       "      <td>16</td>\n",
       "      <td>160</td>\n",
       "      <td>18</td>\n",
       "      <td>36</td>\n",
       "      <td>440</td>\n",
       "      <td>43.485773</td>\n",
       "    </tr>\n",
       "    <tr>\n",
       "      <th>4</th>\n",
       "      <td>8</td>\n",
       "      <td>16</td>\n",
       "      <td>160</td>\n",
       "      <td>18</td>\n",
       "      <td>36</td>\n",
       "      <td>430</td>\n",
       "      <td>43.535926</td>\n",
       "    </tr>\n",
       "    <tr>\n",
       "      <th>...</th>\n",
       "      <td>...</td>\n",
       "      <td>...</td>\n",
       "      <td>...</td>\n",
       "      <td>...</td>\n",
       "      <td>...</td>\n",
       "      <td>...</td>\n",
       "      <td>...</td>\n",
       "    </tr>\n",
       "    <tr>\n",
       "      <th>104754</th>\n",
       "      <td>1</td>\n",
       "      <td>28</td>\n",
       "      <td>310</td>\n",
       "      <td>2</td>\n",
       "      <td>66</td>\n",
       "      <td>310</td>\n",
       "      <td>49.414187</td>\n",
       "    </tr>\n",
       "    <tr>\n",
       "      <th>104755</th>\n",
       "      <td>1</td>\n",
       "      <td>28</td>\n",
       "      <td>310</td>\n",
       "      <td>2</td>\n",
       "      <td>65</td>\n",
       "      <td>310</td>\n",
       "      <td>49.994625</td>\n",
       "    </tr>\n",
       "    <tr>\n",
       "      <th>104756</th>\n",
       "      <td>1</td>\n",
       "      <td>28</td>\n",
       "      <td>310</td>\n",
       "      <td>2</td>\n",
       "      <td>64</td>\n",
       "      <td>310</td>\n",
       "      <td>50.598685</td>\n",
       "    </tr>\n",
       "    <tr>\n",
       "      <th>104757</th>\n",
       "      <td>30</td>\n",
       "      <td>46</td>\n",
       "      <td>480</td>\n",
       "      <td>60</td>\n",
       "      <td>106</td>\n",
       "      <td>480</td>\n",
       "      <td>54.661999</td>\n",
       "    </tr>\n",
       "    <tr>\n",
       "      <th>104758</th>\n",
       "      <td>29</td>\n",
       "      <td>34</td>\n",
       "      <td>600</td>\n",
       "      <td>59</td>\n",
       "      <td>94</td>\n",
       "      <td>600</td>\n",
       "      <td>53.164050</td>\n",
       "    </tr>\n",
       "  </tbody>\n",
       "</table>\n",
       "<p>104759 rows × 7 columns</p>\n",
       "</div>"
      ],
      "text/plain": [
       "        request_vcpu  request_ram  request_volume  offer_vcpu  offer_ram  \\\n",
       "0                 42           61             660          42         61   \n",
       "1                  8           16             160          18         36   \n",
       "2                  8           16             160          18         36   \n",
       "3                  8           16             160          18         36   \n",
       "4                  8           16             160          18         36   \n",
       "...              ...          ...             ...         ...        ...   \n",
       "104754             1           28             310           2         66   \n",
       "104755             1           28             310           2         65   \n",
       "104756             1           28             310           2         64   \n",
       "104757            30           46             480          60        106   \n",
       "104758            29           34             600          59         94   \n",
       "\n",
       "        offer_volume  offer_score  \n",
       "0                660    50.000000  \n",
       "1                460    43.380275  \n",
       "2                450    43.434291  \n",
       "3                440    43.485773  \n",
       "4                430    43.535926  \n",
       "...              ...          ...  \n",
       "104754           310    49.414187  \n",
       "104755           310    49.994625  \n",
       "104756           310    50.598685  \n",
       "104757           480    54.661999  \n",
       "104758           600    53.164050  \n",
       "\n",
       "[104759 rows x 7 columns]"
      ]
     },
     "execution_count": 50,
     "metadata": {},
     "output_type": "execute_result"
    }
   ],
   "source": [
    "score_train_104"
   ]
  },
  {
   "cell_type": "markdown",
   "metadata": {},
   "source": [
    "# Single requirement test and analysis"
   ]
  },
  {
   "cell_type": "code",
   "execution_count": 10,
   "metadata": {},
   "outputs": [
    {
     "name": "stdout",
     "output_type": "stream",
     "text": [
      "-*-*-*-*-*-*-*-*-*-*-*-*-*-*-*-*-*-*-*-*-*-*-*-*-*-*-*-*-*-*-*-*-*-*-*-*-*-*-*-\n",
      "This final offer is  (35, 85, 530)\n",
      "Decision_score is  50.03090620575322\n",
      "vcpu_avg_price: 0.121429, ram_avg_price: 0.054412, volume_avg_price: 0.009717\n",
      "total_fee: 14.025000\n"
     ]
    }
   ],
   "source": [
    "random.seed(19260817)\n",
    "client_requirement = [11, 85, 230] \n",
    "client_priorities = {'vcpu':1.5,'ram':1.0,'volume':1.0}\n",
    "steps,vcpu,ram,volume,\\\n",
    "vcpu_avg_old,ram_avg_old,volume_avg_old,total_fee_old,\\\n",
    "avg_vcpu,avg_ram,avg_volume,total_fee,\\\n",
    "final_offer = negotiation_client_advice(client_requirement,client_priorities)"
   ]
  },
  {
   "cell_type": "code",
   "execution_count": 11,
   "metadata": {},
   "outputs": [
    {
     "data": {
      "text/plain": [
       "7"
      ]
     },
     "execution_count": 11,
     "metadata": {},
     "output_type": "execute_result"
    }
   ],
   "source": [
    "len(steps)"
   ]
  },
  {
   "cell_type": "code",
   "execution_count": 13,
   "metadata": {},
   "outputs": [
    {
     "data": {
      "text/plain": [
       "(15, 26, 240)"
      ]
     },
     "execution_count": 13,
     "metadata": {},
     "output_type": "execute_result"
    }
   ],
   "source": [
    "final_offer"
   ]
  },
  {
   "cell_type": "code",
   "execution_count": 28,
   "metadata": {},
   "outputs": [
    {
     "data": {
      "image/png": "[encoded data removed]",
      "text/plain": [
       "<Figure size 1080x360 with 1 Axes>"
      ]
     },
     "metadata": {
      "needs_background": "light"
     },
     "output_type": "display_data"
    }
   ],
   "source": [
    "visualize_parameter(steps,vcpu,client_requirement[0],'vcpu')"
   ]
  },
  {
   "cell_type": "code",
   "execution_count": 12,
   "metadata": {},
   "outputs": [
    {
     "data": {
      "image/png": "[encoded data removed]",
      "text/plain": [
       "<Figure size 1080x360 with 1 Axes>"
      ]
     },
     "metadata": {
      "needs_background": "light"
     },
     "output_type": "display_data"
    }
   ],
   "source": [
    "visualize_parameter(steps,ram,client_requirement[1],'ram')"
   ]
  },
  {
   "cell_type": "code",
   "execution_count": 13,
   "metadata": {},
   "outputs": [
    {
     "data": {
      "image/png": "[encoded data removed]",
      "text/plain": [
       "<Figure size 1080x360 with 1 Axes>"
      ]
     },
     "metadata": {
      "needs_background": "light"
     },
     "output_type": "display_data"
    }
   ],
   "source": [
    "visualize_parameter(steps,volume,client_requirement[2],'volume')"
   ]
  },
  {
   "cell_type": "code",
   "execution_count": 46,
   "metadata": {},
   "outputs": [
    {
     "name": "stdout",
     "output_type": "stream",
     "text": [
      "0\n",
      "10\n",
      "20\n",
      "30\n",
      "40\n",
      "-1\n",
      "Saving fig...\n",
      "Complete!\n"
     ]
    },
    {
     "data": {
      "image/png": "[encoded data removed]",
      "text/plain": [
       "<Figure size 864x576 with 2 Axes>"
      ]
     },
     "metadata": {
      "needs_background": "light"
     },
     "output_type": "display_data"
    }
   ],
   "source": [
    "parameter = 'vcpu'\n",
    "offer_list = [0,10,20,30,40,-1]\n",
    "offer = vcpu\n",
    "requirement = client_requirement\n",
    "total_fee = total_fee\n",
    "total_fee_old = total_fee_old\n",
    "avg = avg_vcpu\n",
    "avg_old = vcpu_avg_old\n",
    "visualize_gain(parameter,offer_list,offer,requirement,total_fee,total_fee_old,avg,avg_old)"
   ]
  },
  {
   "cell_type": "code",
   "execution_count": 47,
   "metadata": {},
   "outputs": [
    {
     "name": "stdout",
     "output_type": "stream",
     "text": [
      "0\n",
      "10\n",
      "20\n",
      "30\n",
      "40\n",
      "-1\n",
      "Saving fig...\n",
      "Complete!\n"
     ]
    },
    {
     "data": {
      "image/png": "[encoded data removed]",
      "text/plain": [
       "<Figure size 864x576 with 2 Axes>"
      ]
     },
     "metadata": {
      "needs_background": "light"
     },
     "output_type": "display_data"
    }
   ],
   "source": [
    "parameter = 'ram'\n",
    "offer_list = [0,10,20,30,40,-1]\n",
    "offer = ram\n",
    "requirement = client_requirement\n",
    "total_fee = total_fee\n",
    "total_fee_old = total_fee_old\n",
    "avg = avg_ram\n",
    "avg_old = ram_avg_old\n",
    "visualize_gain(parameter,offer_list,offer,requirement,total_fee,total_fee_old,avg,avg_old)"
   ]
  },
  {
   "cell_type": "code",
   "execution_count": 49,
   "metadata": {},
   "outputs": [
    {
     "name": "stdout",
     "output_type": "stream",
     "text": [
      "0\n",
      "10\n",
      "20\n",
      "30\n",
      "40\n",
      "-1\n",
      "Saving fig...\n",
      "Complete!\n"
     ]
    },
    {
     "data": {
      "image/png": "[encoded data removed]",
      "text/plain": [
       "<Figure size 864x576 with 2 Axes>"
      ]
     },
     "metadata": {
      "needs_background": "light"
     },
     "output_type": "display_data"
    }
   ],
   "source": [
    "parameter = 'storage'\n",
    "offer_list = [0,10,20,30,40,-1]\n",
    "offer = volume\n",
    "requirement = client_requirement\n",
    "total_fee = total_fee\n",
    "total_fee_old = total_fee_old\n",
    "avg = avg_volume\n",
    "avg_old = volume_avg_old\n",
    "visualize_gain(parameter,offer_list,offer,requirement,total_fee,total_fee_old,avg,avg_old)"
   ]
  },
  {
   "cell_type": "markdown",
   "metadata": {},
   "source": [
    "# Details of fuzzy settings"
   ]
  },
  {
   "cell_type": "code",
   "execution_count": 134,
   "metadata": {},
   "outputs": [],
   "source": [
    "import sympy as sp\n",
    "x,mean,std = sp.symbols('x,mean,std')\n",
    "# from skfuzzy source code\n",
    "def fuzzy_gaussmf():\n",
    "    return sp.exp(-((x - mean) ** 2.) / std ** 2.)\n",
    "g1 = fuzzy_gaussmf()\n",
    "g2 = fuzzy_gaussmf()\n",
    "r_high = sp.solve(g2.subs([(x, 80), (mean, 100)])-g1.subs([(x, 80), (mean, 65), (std, (100-65.0)/3)]), std, quick=True)\n",
    "r_low = sp.solve(g2.subs([(x, 50), (mean, 0)])-g1.subs([(x, 50), (mean, 65), (std, (100-65.0)/3)]), std, quick=True)"
   ]
  },
  {
   "cell_type": "code",
   "execution_count": 135,
   "metadata": {},
   "outputs": [
    {
     "name": "stdout",
     "output_type": "stream",
     "text": [
      "high std:  15.5555555555555\n",
      "low std:  38.8888888888889\n"
     ]
    }
   ],
   "source": [
    "print('high std: ',r_high[1])\n",
    "print('low std: ',r_low[1])"
   ]
  },
  {
   "cell_type": "code",
   "execution_count": 9,
   "metadata": {},
   "outputs": [],
   "source": [
    "# Fuzzy logic\n",
    "\n",
    "# New Antecedent/Consequent objects hold universe variables and membership functions\n",
    "avg_vcpu = ctrl.Antecedent(np.arange(0, 101, 1), 'avg_vcpu')\n",
    "avg_ram = ctrl.Antecedent(np.arange(0, 101, 1), 'avg_ram')\n",
    "avg_volume = ctrl.Antecedent(np.arange(0, 101, 1), 'avg_volume')\n",
    "total_fee = ctrl.Antecedent(np.arange(0, 101, 1), 'total_fee')\n",
    "\n",
    "tendency = ctrl.Consequent(np.arange(0, 101, 1), 'tendency')\n",
    "\n",
    "# Auto-membership function population is possible with .automf(3, 5, or 7)\n",
    "# poor average good, automatically\n",
    "#names_avg = ['cheap','medium','expensive']\n",
    "#avg_vcpu.automf(names = names_avg)\n",
    "#avg_ram.automf(names = names_avg)\n",
    "#avg_volume.automf(names = names_avg)\n",
    "#在统计学中，经验法则是在正态分布中，距平均值小于一个标准差、二个标准差、三个标准差以内的百分比，更精确的数字是68.27%、95.45%及99.73%。\n",
    "\n",
    "avg_vcpu['cheap'] = fuzz.gaussmf(avg_vcpu.universe, 0, 50.0/3)\n",
    "avg_vcpu['medium'] = fuzz.gaussmf(avg_vcpu.universe, 50, 50.0/3)\n",
    "avg_vcpu['expensive'] = fuzz.gaussmf(avg_vcpu.universe, 100, 50.0/3)\n",
    "\n",
    "avg_ram['cheap'] = fuzz.gaussmf(avg_ram.universe, 0, 50.0/3)\n",
    "avg_ram['medium'] = fuzz.gaussmf(avg_ram.universe, 50, 50.0/3)\n",
    "avg_ram['expensive'] = fuzz.gaussmf(avg_ram.universe, 100, 50.0/3)\n",
    "\n",
    "avg_volume['cheap'] = fuzz.gaussmf(avg_volume.universe, 0, 50.0/3)\n",
    "avg_volume['medium'] = fuzz.gaussmf(avg_volume.universe, 50, 50.0/3)\n",
    "avg_volume['expensive'] = fuzz.gaussmf(avg_volume.universe, 100, 50.0/3)\n",
    "\n",
    "#names_total = ['high','medium','low']\n",
    "#total_fee.automf(names = names_total)\n",
    "# x=offer/requirement\n",
    "# x>2 original, weak accepted --> totalfee<0.5\n",
    "# 2>x>1.5, medium accepted --> 0.5<totalfee<0.8\n",
    "# 1.5>x, strong accepted --> totalfee>0.8\n",
    "total_fee['high'] = fuzz.gaussmf(total_fee.universe, 0, 38.8888888888889)\n",
    "total_fee['medium'] = fuzz.gaussmf(total_fee.universe, 65.0, (100-65.0)/3)\n",
    "total_fee['low'] = fuzz.gaussmf(total_fee.universe, 100, 15.5555555555555)\n",
    "\n",
    "# Custom membership functions can be built interactively with a familiar,\n",
    "# Pythonic API\n",
    "tendency['low'] = fuzz.gaussmf(tendency.universe, 0, 50.0/3)\n",
    "tendency['medium'] = fuzz.gaussmf(tendency.universe, 50, 50.0/3)\n",
    "tendency['high'] = fuzz.gaussmf(tendency.universe, 100, 50.0/3)"
   ]
  },
  {
   "cell_type": "code",
   "execution_count": 10,
   "metadata": {},
   "outputs": [
    {
     "name": "stderr",
     "output_type": "stream",
     "text": [
      "F:\\ANACONDA\\lib\\site-packages\\skfuzzy\\control\\fuzzyvariable.py:122: UserWarning: Matplotlib is currently using module://ipykernel.pylab.backend_inline, which is a non-GUI backend, so cannot show the figure.\n",
      "  fig.show()\n",
      "F:\\ANACONDA\\lib\\site-packages\\skfuzzy\\control\\fuzzyvariable.py:122: UserWarning: Matplotlib is currently using module://ipykernel.pylab.backend_inline, which is a non-GUI backend, so cannot show the figure.\n",
      "  fig.show()\n",
      "F:\\ANACONDA\\lib\\site-packages\\skfuzzy\\control\\fuzzyvariable.py:122: UserWarning: Matplotlib is currently using module://ipykernel.pylab.backend_inline, which is a non-GUI backend, so cannot show the figure.\n",
      "  fig.show()\n",
      "F:\\ANACONDA\\lib\\site-packages\\skfuzzy\\control\\fuzzyvariable.py:122: UserWarning: Matplotlib is currently using module://ipykernel.pylab.backend_inline, which is a non-GUI backend, so cannot show the figure.\n",
      "  fig.show()\n",
      "F:\\ANACONDA\\lib\\site-packages\\skfuzzy\\control\\fuzzyvariable.py:122: UserWarning: Matplotlib is currently using module://ipykernel.pylab.backend_inline, which is a non-GUI backend, so cannot show the figure.\n",
      "  fig.show()\n"
     ]
    },
    {
     "data": {
      "image/png": "[encoded data removed]",
      "text/plain": [
       "<Figure size 432x288 with 1 Axes>"
      ]
     },
     "metadata": {
      "needs_background": "light"
     },
     "output_type": "display_data"
    },
    {
     "data": {
      "image/png": "[encoded data removed]",
      "text/plain": [
       "<Figure size 432x288 with 1 Axes>"
      ]
     },
     "metadata": {
      "needs_background": "light"
     },
     "output_type": "display_data"
    },
    {
     "data": {
      "image/png": "[encoded data removed]",
      "text/plain": [
       "<Figure size 432x288 with 1 Axes>"
      ]
     },
     "metadata": {
      "needs_background": "light"
     },
     "output_type": "display_data"
    },
    {
     "data": {
      "image/png": "[encoded data removed]",
      "text/plain": [
       "<Figure size 432x288 with 1 Axes>"
      ]
     },
     "metadata": {
      "needs_background": "light"
     },
     "output_type": "display_data"
    },
    {
     "data": {
      "image/png": "[encoded data removed]",
      "text/plain": [
       "<Figure size 432x288 with 1 Axes>"
      ]
     },
     "metadata": {
      "needs_background": "light"
     },
     "output_type": "display_data"
    }
   ],
   "source": [
    "avg_vcpu.view()\n",
    "avg_ram.view()\n",
    "avg_volume.view()\n",
    "total_fee.view()\n",
    "tendency.view()"
   ]
  },
  {
   "cell_type": "code",
   "execution_count": 11,
   "metadata": {},
   "outputs": [
    {
     "data": {
      "text/plain": [
       "(<Figure size 432x288 with 1 Axes>,\n",
       " <matplotlib.axes._subplots.AxesSubplot at 0x1cae59f2160>)"
      ]
     },
     "execution_count": 11,
     "metadata": {},
     "output_type": "execute_result"
    },
    {
     "data": {
      "image/png": "[encoded data removed]",
      "text/plain": [
       "<Figure size 432x288 with 1 Axes>"
      ]
     },
     "metadata": {},
     "output_type": "display_data"
    }
   ],
   "source": [
    "# Rules\n",
    "# cheap:1,medium:2,expensive:3\n",
    "# sum: 3, 4, 5, 6, 7, 8, 9\n",
    "# tendency: 3, 4 high / 5, 6 ,7 medium / 8, 9 low\n",
    "# could be adjusted\n",
    "rule01 = ctrl.Rule(total_fee['high'], tendency['low'])\n",
    "rule02 = ctrl.Rule(total_fee['medium'], tendency['medium'])\n",
    "rule03 = ctrl.Rule(total_fee['low'], tendency['high'])\n",
    "\n",
    "rule11 = ctrl.Rule(avg_vcpu['cheap']&avg_volume['cheap']&avg_ram['cheap'], tendency['high'])#3\n",
    "rule12 = ctrl.Rule(avg_vcpu['cheap']&avg_volume['cheap']&avg_ram['medium'], tendency['high'])#4\n",
    "rule13 = ctrl.Rule(avg_vcpu['cheap']&avg_volume['cheap']&avg_ram['expensive'], tendency['medium'])#5\n",
    "rule14 = ctrl.Rule(avg_vcpu['cheap']&avg_volume['medium']&avg_ram['cheap'], tendency['high'])#4\n",
    "rule15 = ctrl.Rule(avg_vcpu['cheap']&avg_volume['medium']&avg_ram['medium'], tendency['medium'])#5\n",
    "rule16 = ctrl.Rule(avg_vcpu['cheap']&avg_volume['medium']&avg_ram['expensive'], tendency['medium'])#6\n",
    "rule17 = ctrl.Rule(avg_vcpu['cheap']&avg_volume['expensive']&avg_ram['cheap'], tendency['medium'])#5\n",
    "rule18 = ctrl.Rule(avg_vcpu['cheap']&avg_volume['expensive']&avg_ram['medium'], tendency['medium'])#6\n",
    "rule19 = ctrl.Rule(avg_vcpu['cheap']&avg_volume['expensive']&avg_ram['expensive'], tendency['medium'])#7\n",
    "\n",
    "rule21 = ctrl.Rule(avg_vcpu['medium']&avg_volume['cheap']&avg_ram['cheap'], tendency['high'])#4\n",
    "rule22 = ctrl.Rule(avg_vcpu['medium']&avg_volume['cheap']&avg_ram['medium'], tendency['medium'])#5\n",
    "rule23 = ctrl.Rule(avg_vcpu['medium']&avg_volume['cheap']&avg_ram['expensive'], tendency['medium'])#6\n",
    "rule24 = ctrl.Rule(avg_vcpu['medium']&avg_volume['medium']&avg_ram['cheap'], tendency['medium'])#5\n",
    "rule25 = ctrl.Rule(avg_vcpu['medium']&avg_volume['medium']&avg_ram['medium'], tendency['medium'])#6\n",
    "rule26 = ctrl.Rule(avg_vcpu['medium']&avg_volume['medium']&avg_ram['expensive'], tendency['medium'])#7\n",
    "rule27 = ctrl.Rule(avg_vcpu['medium']&avg_volume['expensive']&avg_ram['cheap'], tendency['medium'])#6\n",
    "rule28 = ctrl.Rule(avg_vcpu['medium']&avg_volume['expensive']&avg_ram['medium'], tendency['medium'])#7\n",
    "rule29 = ctrl.Rule(avg_vcpu['medium']&avg_volume['expensive']&avg_ram['expensive'], tendency['low'])#8\n",
    "\n",
    "rule31 = ctrl.Rule(avg_vcpu['expensive']&avg_volume['cheap']&avg_ram['cheap'], tendency['medium'])#5\n",
    "rule32 = ctrl.Rule(avg_vcpu['expensive']&avg_volume['cheap']&avg_ram['medium'], tendency['medium'])#6\n",
    "rule33 = ctrl.Rule(avg_vcpu['expensive']&avg_volume['cheap']&avg_ram['expensive'], tendency['medium'])#7\n",
    "rule34 = ctrl.Rule(avg_vcpu['expensive']&avg_volume['medium']&avg_ram['cheap'], tendency['medium'])#6\n",
    "rule35 = ctrl.Rule(avg_vcpu['expensive']&avg_volume['medium']&avg_ram['medium'], tendency['medium'])#7\n",
    "rule36 = ctrl.Rule(avg_vcpu['expensive']&avg_volume['medium']&avg_ram['expensive'], tendency['low'])#8\n",
    "rule37 = ctrl.Rule(avg_vcpu['expensive']&avg_volume['expensive']&avg_ram['cheap'], tendency['medium'])#7\n",
    "rule38 = ctrl.Rule(avg_vcpu['expensive']&avg_volume['expensive']&avg_ram['medium'], tendency['low'])#8\n",
    "rule39 = ctrl.Rule(avg_vcpu['expensive']&avg_volume['expensive']&avg_ram['expensive'], tendency['low'])#9\n",
    "\n",
    "rule01.view()"
   ]
  },
  {
   "cell_type": "code",
   "execution_count": 12,
   "metadata": {},
   "outputs": [
    {
     "name": "stdout",
     "output_type": "stream",
     "text": [
      "61.51846705362539\n"
     ]
    },
    {
     "name": "stderr",
     "output_type": "stream",
     "text": [
      "F:\\ANACONDA\\lib\\site-packages\\skfuzzy\\control\\fuzzyvariable.py:122: UserWarning: Matplotlib is currently using module://ipykernel.pylab.backend_inline, which is a non-GUI backend, so cannot show the figure.\n",
      "  fig.show()\n"
     ]
    },
    {
     "data": {
      "image/png": "[encoded data removed]",
      "text/plain": [
       "<Figure size 432x288 with 1 Axes>"
      ]
     },
     "metadata": {
      "needs_background": "light"
     },
     "output_type": "display_data"
    }
   ],
   "source": [
    "# Fuzzy decision simulation\n",
    "decision_ctrl = ctrl.ControlSystem([rule01, rule02, rule03, \\\n",
    "                                    rule11, rule12, rule13, rule14, rule15, rule16, rule17, rule18, rule19, \\\n",
    "                                    rule21, rule22, rule23, rule24, rule25, rule26, rule27, rule28, rule29, \\\n",
    "                                    rule31, rule32, rule33, rule34, rule35, rule36, rule37, rule38, rule39, \\\n",
    "                                   ])\n",
    "decision = ctrl.ControlSystemSimulation(decision_ctrl)\n",
    "# Pass inputs to the ControlSystem using Antecedent labels with Pythonic API\n",
    "# Note: if you like passing many inputs all at once, use .inputs(dict_of_data)\n",
    "# the avg price ratio\n",
    "# new/old: the cheaper, the better\n",
    "# ratio: close to 0 is better, close to 1 is worse\n",
    "# the total fee ratio\n",
    "# new total fee is always larger than old total fee\n",
    "# ratio is larger than 1, the larger the worse\n",
    "# the reciproval is between o and 1. the closer to 0, the worse\n",
    "# the closer to 1, the better\n",
    "dict_of_data = {'avg_vcpu': 38.9, 'avg_ram': 38.9, 'avg_volume': 38.9, 'total_fee': 100.0}\n",
    "#dict_of_data = {'avg_vcpu':input_avg_vcpu,'avg_ram':input_avg_ram,'avg_volume':input_avg_volume,'total_fee':input_total_fee}\n",
    "decision.inputs(dict_of_data)\n",
    "\n",
    "# Crunch the numbers\n",
    "decision.compute()\n",
    "print(decision.output['tendency'])\n",
    "tendency.view(sim=decision)"
   ]
  },
  {
   "cell_type": "markdown",
   "metadata": {},
   "source": [
    "# Compute the scores of ML results"
   ]
  },
  {
   "cell_type": "code",
   "execution_count": 67,
   "metadata": {},
   "outputs": [],
   "source": [
    "predict_test = pd.read_csv('./data/predict_test_200.csv',index_col=0).reset_index(drop=True)\n",
    "x_test = pd.read_csv('./data/x_test_200.csv',index_col=0).reset_index(drop=True)\n",
    "x_pre_test = x_test.join(predict_test)"
   ]
  },
  {
   "cell_type": "code",
   "execution_count": 68,
   "metadata": {},
   "outputs": [
    {
     "data": {
      "text/html": [
       "<div>\n",
       "<style scoped>\n",
       "    .dataframe tbody tr th:only-of-type {\n",
       "        vertical-align: middle;\n",
       "    }\n",
       "\n",
       "    .dataframe tbody tr th {\n",
       "        vertical-align: top;\n",
       "    }\n",
       "\n",
       "    .dataframe thead th {\n",
       "        text-align: right;\n",
       "    }\n",
       "</style>\n",
       "<table border=\"1\" class=\"dataframe\">\n",
       "  <thead>\n",
       "    <tr style=\"text-align: right;\">\n",
       "      <th></th>\n",
       "      <th>vcpu</th>\n",
       "      <th>ram</th>\n",
       "      <th>volume</th>\n",
       "      <th>0</th>\n",
       "      <th>1</th>\n",
       "      <th>2</th>\n",
       "    </tr>\n",
       "  </thead>\n",
       "  <tbody>\n",
       "    <tr>\n",
       "      <th>0</th>\n",
       "      <td>12</td>\n",
       "      <td>56</td>\n",
       "      <td>730</td>\n",
       "      <td>27.076933</td>\n",
       "      <td>84.052811</td>\n",
       "      <td>730.542236</td>\n",
       "    </tr>\n",
       "    <tr>\n",
       "      <th>1</th>\n",
       "      <td>11</td>\n",
       "      <td>41</td>\n",
       "      <td>580</td>\n",
       "      <td>22.533453</td>\n",
       "      <td>65.287308</td>\n",
       "      <td>580.478333</td>\n",
       "    </tr>\n",
       "    <tr>\n",
       "      <th>2</th>\n",
       "      <td>1</td>\n",
       "      <td>14</td>\n",
       "      <td>200</td>\n",
       "      <td>5.764062</td>\n",
       "      <td>22.563353</td>\n",
       "      <td>200.364716</td>\n",
       "    </tr>\n",
       "    <tr>\n",
       "      <th>3</th>\n",
       "      <td>4</td>\n",
       "      <td>6</td>\n",
       "      <td>530</td>\n",
       "      <td>14.633893</td>\n",
       "      <td>42.128548</td>\n",
       "      <td>530.359009</td>\n",
       "    </tr>\n",
       "    <tr>\n",
       "      <th>4</th>\n",
       "      <td>14</td>\n",
       "      <td>41</td>\n",
       "      <td>800</td>\n",
       "      <td>29.439795</td>\n",
       "      <td>81.310028</td>\n",
       "      <td>800.492126</td>\n",
       "    </tr>\n",
       "    <tr>\n",
       "      <th>...</th>\n",
       "      <td>...</td>\n",
       "      <td>...</td>\n",
       "      <td>...</td>\n",
       "      <td>...</td>\n",
       "      <td>...</td>\n",
       "      <td>...</td>\n",
       "    </tr>\n",
       "    <tr>\n",
       "      <th>195</th>\n",
       "      <td>12</td>\n",
       "      <td>47</td>\n",
       "      <td>900</td>\n",
       "      <td>30.254133</td>\n",
       "      <td>91.318550</td>\n",
       "      <td>900.523987</td>\n",
       "    </tr>\n",
       "    <tr>\n",
       "      <th>196</th>\n",
       "      <td>1</td>\n",
       "      <td>12</td>\n",
       "      <td>580</td>\n",
       "      <td>13.634610</td>\n",
       "      <td>48.451141</td>\n",
       "      <td>580.388000</td>\n",
       "    </tr>\n",
       "    <tr>\n",
       "      <th>197</th>\n",
       "      <td>46</td>\n",
       "      <td>74</td>\n",
       "      <td>760</td>\n",
       "      <td>54.541744</td>\n",
       "      <td>100.507950</td>\n",
       "      <td>760.565857</td>\n",
       "    </tr>\n",
       "    <tr>\n",
       "      <th>198</th>\n",
       "      <td>6</td>\n",
       "      <td>14</td>\n",
       "      <td>380</td>\n",
       "      <td>13.366685</td>\n",
       "      <td>36.027946</td>\n",
       "      <td>380.372864</td>\n",
       "    </tr>\n",
       "    <tr>\n",
       "      <th>199</th>\n",
       "      <td>15</td>\n",
       "      <td>39</td>\n",
       "      <td>460</td>\n",
       "      <td>23.003805</td>\n",
       "      <td>56.269051</td>\n",
       "      <td>460.456604</td>\n",
       "    </tr>\n",
       "  </tbody>\n",
       "</table>\n",
       "<p>200 rows × 6 columns</p>\n",
       "</div>"
      ],
      "text/plain": [
       "     vcpu  ram  volume          0           1           2\n",
       "0      12   56     730  27.076933   84.052811  730.542236\n",
       "1      11   41     580  22.533453   65.287308  580.478333\n",
       "2       1   14     200   5.764062   22.563353  200.364716\n",
       "3       4    6     530  14.633893   42.128548  530.359009\n",
       "4      14   41     800  29.439795   81.310028  800.492126\n",
       "..    ...  ...     ...        ...         ...         ...\n",
       "195    12   47     900  30.254133   91.318550  900.523987\n",
       "196     1   12     580  13.634610   48.451141  580.388000\n",
       "197    46   74     760  54.541744  100.507950  760.565857\n",
       "198     6   14     380  13.366685   36.027946  380.372864\n",
       "199    15   39     460  23.003805   56.269051  460.456604\n",
       "\n",
       "[200 rows x 6 columns]"
      ]
     },
     "execution_count": 68,
     "metadata": {},
     "output_type": "execute_result"
    }
   ],
   "source": [
    "x_pre_test"
   ]
  },
  {
   "cell_type": "code",
   "execution_count": 72,
   "metadata": {},
   "outputs": [
    {
     "name": "stderr",
     "output_type": "stream",
     "text": [
      "100%|███████████████████████████████████████████████████████████████████████████████| 200/200 [00:00<00:00, 443.67it/s]\n"
     ]
    }
   ],
   "source": [
    "predict_offer_score_list = []\n",
    "# Client\n",
    "client = client_base((0,0,0))\n",
    "client_decision,tendency = client.fuzzy_decision()\n",
    "for index,row in tqdm(x_pre_test.iterrows(),total=x_pre_test.shape[0]):\n",
    "    requirement = (row[0],row[1],row[2])\n",
    "    offer = (int(row[3]),int(row[4]),int(row[5]))\n",
    "    #print(offer)\n",
    "    vcpu_avg_old,ram_avg_old,volume_avg_old,total_fee_old = client.related_fee(requirement)\n",
    "    vcpu_avg_new,ram_avg_new,volume_avg_new,total_fee_new = client.related_fee(offer)\n",
    "    # input of fuzzy system\n",
    "    input_avg_vcpu = 100*client.scale2one_avg('avg', vcpu_avg_old, vcpu_avg_new)\n",
    "    input_avg_ram = 100*client.scale2one_avg('avg', ram_avg_old, ram_avg_new)\n",
    "    input_avg_volume = 100*client.scale2one_avg('avg', volume_avg_old, volume_avg_new)\n",
    "    input_total_fee = 100*client.scale2one_avg('total', total_fee_old, total_fee_new)\n",
    "    dict_of_data = {'avg_vcpu':input_avg_vcpu,'avg_ram':input_avg_ram,'avg_volume':input_avg_volume,'total_fee':input_total_fee}\n",
    "\n",
    "    # Client makes decision\n",
    "    client_decision.inputs(dict_of_data)\n",
    "    # Crunch the numbers\n",
    "    client_decision.compute()\n",
    "    decision_score = client_decision.output['tendency']\n",
    "    predict_offer_score_list.append(decision_score)"
   ]
  },
  {
   "cell_type": "code",
   "execution_count": 73,
   "metadata": {},
   "outputs": [
    {
     "data": {
      "text/plain": [
       "[56.05025336562855,\n",
       " 54.13362402487654,\n",
       " 41.97937323395505,\n",
       " 44.94956174419432,\n",
       " 52.47689663707086,\n",
       " 49.986804503600005,\n",
       " 54.98996845633671,\n",
       " 51.680067955449346,\n",
       " 56.24210881645374,\n",
       " 50.89483230649729,\n",
       " 55.190495711618254,\n",
       " 52.404053124522456,\n",
       " 51.9816495486352,\n",
       " 58.11385699159843,\n",
       " 54.71249792701401,\n",
       " 53.42582462201195,\n",
       " 49.64183374284887,\n",
       " 52.70079546485676,\n",
       " 53.5446514952111,\n",
       " 54.10096309839815,\n",
       " 53.02255635707219,\n",
       " 56.907790640290614,\n",
       " 50.91567217524455,\n",
       " 50.72702784136778,\n",
       " 51.28566155667574,\n",
       " 55.59954111200012,\n",
       " 52.3154064511056,\n",
       " 55.22463144101512,\n",
       " 45.962853096485645,\n",
       " 48.44493322374302,\n",
       " 55.34873123478196,\n",
       " 49.93672659473157,\n",
       " 53.18376376756664,\n",
       " 57.18355557515691,\n",
       " 53.05938105870169,\n",
       " 53.87846732289511,\n",
       " 51.47798819486073,\n",
       " 53.821292342596074,\n",
       " 45.62565503293935,\n",
       " 52.18247315703367,\n",
       " 58.75285300767961,\n",
       " 49.34494144253886,\n",
       " 45.79733948756687,\n",
       " 60.26512131344024,\n",
       " 53.853704595062744,\n",
       " 50.40126538114907,\n",
       " 52.9097101604683,\n",
       " 47.54306964377607,\n",
       " 50.94953678282299,\n",
       " 48.74522739318768,\n",
       " 51.611730848873954,\n",
       " 56.103662392074774,\n",
       " 55.463205495620635,\n",
       " 56.58059129190878,\n",
       " 58.1483118167241,\n",
       " 52.303512943691786,\n",
       " 49.566313789395636,\n",
       " 58.11379550789028,\n",
       " 49.91730134625916,\n",
       " 42.241211951287134,\n",
       " 49.74734633286164,\n",
       " 51.76670744723715,\n",
       " 60.656348956914876,\n",
       " 45.71024602587219,\n",
       " 55.89866358936483,\n",
       " 55.076976231355474,\n",
       " 52.102183626050426,\n",
       " 51.15365969061113,\n",
       " 47.10265567091793,\n",
       " 54.960931818136665,\n",
       " 53.444262684559305,\n",
       " 50.42624223293762,\n",
       " 57.75472241365264,\n",
       " 51.00301246727726,\n",
       " 54.70541355595963,\n",
       " 47.60162474657727,\n",
       " 53.43095592040368,\n",
       " 41.58569915689335,\n",
       " 49.41126267771805,\n",
       " 50.899507837897744,\n",
       " 51.39746031193449,\n",
       " 42.945543936109985,\n",
       " 47.14960825194085,\n",
       " 55.94006899567516,\n",
       " 49.30750232049323,\n",
       " 50.95851408075364,\n",
       " 54.990649611720706,\n",
       " 55.177491165867906,\n",
       " 48.87419392023578,\n",
       " 58.018888037507196,\n",
       " 49.13060734176911,\n",
       " 57.29798368173652,\n",
       " 51.21687634068003,\n",
       " 55.02472660506467,\n",
       " 51.429963168741914,\n",
       " 50.482149294108204,\n",
       " 58.75898467474085,\n",
       " 46.090060172326794,\n",
       " 46.33953107085454,\n",
       " 57.7537177240469,\n",
       " 47.52536445179022,\n",
       " 53.529711896336664,\n",
       " 50.17424353452195,\n",
       " 52.24434331214661,\n",
       " 61.33867334278344,\n",
       " 51.82285403839085,\n",
       " 50.7506661470278,\n",
       " 55.20612871773156,\n",
       " 50.922160489637044,\n",
       " 53.15297228933875,\n",
       " 51.708047242893784,\n",
       " 52.70571960387108,\n",
       " 45.393482615404544,\n",
       " 56.904288598607096,\n",
       " 46.6302631178099,\n",
       " 52.60334022258486,\n",
       " 49.38049867657131,\n",
       " 54.970911883117296,\n",
       " 55.67219641401442,\n",
       " 56.367753448604645,\n",
       " 47.934138086597564,\n",
       " 61.2363667779124,\n",
       " 46.90472050456687,\n",
       " 49.60879187203144,\n",
       " 49.2219176207962,\n",
       " 59.09424855801073,\n",
       " 58.03853615994305,\n",
       " 44.53981161841162,\n",
       " 51.61090870545999,\n",
       " 45.33831868310375,\n",
       " 53.13871412508559,\n",
       " 55.84272129888267,\n",
       " 49.45395047984867,\n",
       " 47.45842768686479,\n",
       " 47.485603393857225,\n",
       " 58.630826086838546,\n",
       " 44.969254656217004,\n",
       " 54.15574058776779,\n",
       " 50.70535445693298,\n",
       " 50.8055310364321,\n",
       " 50.38618365172714,\n",
       " 58.36112851998738,\n",
       " 56.049559681376756,\n",
       " 47.8657299680992,\n",
       " 53.17701314642109,\n",
       " 50.439721348816455,\n",
       " 49.82479418118265,\n",
       " 56.81780970213762,\n",
       " 53.814567660722375,\n",
       " 44.57587875051267,\n",
       " 54.59791883977691,\n",
       " 53.18821335761377,\n",
       " 55.91110973940585,\n",
       " 40.43955705295192,\n",
       " 58.010429626972076,\n",
       " 45.048734407742614,\n",
       " 44.758985593550726,\n",
       " 38.758704091809484,\n",
       " 54.3630687335867,\n",
       " 52.17788558215502,\n",
       " 49.952915736057406,\n",
       " 52.93171360006504,\n",
       " 54.1898481486084,\n",
       " 54.543435187149505,\n",
       " 56.22087072062578,\n",
       " 42.56540576900288,\n",
       " 50.6238717878345,\n",
       " 53.32243863271741,\n",
       " 50.11360882154407,\n",
       " 55.46185905985797,\n",
       " 53.48009872271188,\n",
       " 47.38713360856923,\n",
       " 58.343099585339075,\n",
       " 45.69568795173391,\n",
       " 56.67496156420847,\n",
       " 55.26683819371497,\n",
       " 56.87674606860143,\n",
       " 51.21473347426624,\n",
       " 49.33450193830278,\n",
       " 46.914345884588386,\n",
       " 44.061484728627605,\n",
       " 54.66794845255375,\n",
       " 50.906514822716105,\n",
       " 54.02796171357683,\n",
       " 56.48736234216471,\n",
       " 52.099584358759365,\n",
       " 56.73124423242952,\n",
       " 45.848645144599885,\n",
       " 59.36526013364592,\n",
       " 51.366941115756696,\n",
       " 46.00443531096389,\n",
       " 48.58440173997436,\n",
       " 53.82622766556011,\n",
       " 50.05214596945333,\n",
       " 50.526655720894794,\n",
       " 53.06979028358602,\n",
       " 43.458487058834585,\n",
       " 53.20550142056786,\n",
       " 46.81871839322298,\n",
       " 49.492200399398804]"
      ]
     },
     "execution_count": 73,
     "metadata": {},
     "output_type": "execute_result"
    }
   ],
   "source": [
    "predict_offer_score_list"
   ]
  },
  {
   "cell_type": "code",
   "execution_count": 74,
   "metadata": {},
   "outputs": [],
   "source": [
    "accept_score = list(filter(lambda x:x>50,predict_offer_score_list))"
   ]
  }
 ],
 "metadata": {
  "kernelspec": {
   "display_name": "Python 3",
   "language": "python",
   "name": "python3"
  },
  "language_info": {
   "codemirror_mode": {
    "name": "ipython",
    "version": 3
   },
   "file_extension": ".py",
   "mimetype": "text/x-python",
   "name": "python",
   "nbconvert_exporter": "python",
   "pygments_lexer": "ipython3",
   "version": "3.8.3"
  }
 },
 "nbformat": 4,
 "nbformat_minor": 5
}
