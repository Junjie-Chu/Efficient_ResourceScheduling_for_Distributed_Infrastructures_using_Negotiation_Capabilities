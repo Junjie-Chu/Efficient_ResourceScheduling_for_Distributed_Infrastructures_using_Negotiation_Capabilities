{
 "cells": [
  {
   "cell_type": "code",
   "execution_count": 88,
   "metadata": {},
   "outputs": [
    {
     "name": "stdout",
     "output_type": "stream",
     "text": [
      "Defaulting to user installation because normal site-packages is not writeable\n",
      "Collecting scikit-fuzzy\n",
      "  Downloading scikit-fuzzy-0.4.2.tar.gz (993 kB)\n",
      "\u001b[2K     \u001b[38;2;114;156;31m━━━━━━━━━━━━━━━━━━━━━━━━━━━━━━━━━━━━━━━\u001b[0m \u001b[32m994.0/994.0 KB\u001b[0m \u001b[31m6.9 MB/s\u001b[0m eta \u001b[36m0:00:00\u001b[0mm eta \u001b[36m0:00:01\u001b[0m[36m0:00:01\u001b[0m\n",
      "\u001b[?25h  Preparing metadata (setup.py) ... \u001b[?25ldone\n",
      "\u001b[?25hRequirement already satisfied: networkx>=1.9.0 in /home/junjie_chu/.local/lib/python3.9/site-packages (from scikit-fuzzy) (2.6.3)\n",
      "Requirement already satisfied: numpy>=1.6.0 in /home/junjie_chu/.local/lib/python3.9/site-packages (from scikit-fuzzy) (1.21.5)\n",
      "Requirement already satisfied: scipy>=0.9.0 in /home/junjie_chu/.local/lib/python3.9/site-packages (from scikit-fuzzy) (1.7.3)\n",
      "Building wheels for collected packages: scikit-fuzzy\n",
      "  Building wheel for scikit-fuzzy (setup.py) ... \u001b[?25ldone\n",
      "\u001b[?25h  Created wheel for scikit-fuzzy: filename=scikit_fuzzy-0.4.2-py3-none-any.whl size=894068 sha256=89ce3da5a2a61862abbde947ee16118ae62821b0b8755cc6de0ffbbe9d463f5c\n",
      "  Stored in directory: /home/junjie_chu/.cache/pip/wheels/32/2c/a1/a90a7d7dd8448ec029f298a61f3490275e99b17aa348be675c\n",
      "Successfully built scikit-fuzzy\n",
      "Installing collected packages: scikit-fuzzy\n",
      "Successfully installed scikit-fuzzy-0.4.2\n"
     ]
    }
   ],
   "source": [
    "!pip3 install -U scikit-fuzzy"
   ]
  },
  {
   "cell_type": "code",
   "execution_count": 1,
   "metadata": {},
   "outputs": [],
   "source": [
    "import random\n",
    "import time\n",
    "from tqdm import tqdm\n",
    "import numpy as np\n",
    "import pandas as pd\n",
    "import skfuzzy as fuzz\n",
    "from skfuzzy import control as ctrl\n",
    "import matplotlib.pyplot as plt"
   ]
  },
  {
   "cell_type": "code",
   "execution_count": 2,
   "metadata": {},
   "outputs": [],
   "source": [
    "# the simulated price table\n",
    "# VCPU \n",
    "# 0-10: 0.2€/st 1 month\n",
    "# 11-30: 0.1\n",
    "# 31-90: 0.05\n",
    "# RAM \n",
    "# 0-20: 0.1€/per GB month\n",
    "# 21-60: 0.05\n",
    "# 61-180: 0.025\n",
    "# VOLUME：\n",
    "# 0-100：0.02€/per GB 1 month\n",
    "# 101-300：0.01€/per GB 1 month\n",
    "# 301-900：0.005€/per GB 1 month"
   ]
  },
  {
   "cell_type": "code",
   "execution_count": 3,
   "metadata": {},
   "outputs": [],
   "source": [
    "def visualize_parameter(x_range,y_range,requirement,ylabel):\n",
    "    plt.figure()\n",
    "    x = x_range\n",
    "    y = y_range\n",
    "    l1 = plt.plot(x, y, color='b',marker='o',linestyle='dashed',label='Provider proposal')\n",
    "    #plt.axis([-5, x_range[-1]+5, requirement-10,  y_range[0]+10])\n",
    "    plt.xlabel('round')\n",
    "    plt.ylabel(ylabel)\n",
    "    y_requirement = [requirement]*len(x_range)\n",
    "    l2 = plt.plot(x, y_requirement, color='r',linestyle='dashed',label='Client requirement')\n",
    "    plt.annotate('Last offer', xy=(x_range[-1],y_range[-1]), xytext=(x_range[-1],y_range[-1]-3),\n",
    "            arrowprops=dict(facecolor='black',width=0.5, headwidth=7, shrink=0.005),\n",
    "            )\n",
    "    plt.legend()\n",
    "    plt.show()"
   ]
  },
  {
   "cell_type": "code",
   "execution_count": 4,
   "metadata": {},
   "outputs": [],
   "source": [
    "# Class for provider\n",
    "class provider_base:\n",
    "    min_change = [1, 1, 10]\n",
    "    # input the initial number of vcpu,ram,volume\n",
    "    def __init__(self, n_vcpu0 = 0, n_ram0 = 0, n_volume0 = 0):\n",
    "        self.n_vcpu0 = n_vcpu0\n",
    "        self.n_ram0 = n_ram0\n",
    "        self.n_volume0 = n_volume0\n",
    "        \n",
    "    # Functions for controlling the value range of issues\n",
    "    def vcpu_range(self,n):\n",
    "        n_initial = 0\n",
    "        if 0 < n <= 10:\n",
    "            n_initial = 10+n\n",
    "        elif 11 <= n <= 30:\n",
    "            n_initial = 30+n\n",
    "        elif 31 <= n <= 90:\n",
    "            n_initial = n\n",
    "        else:\n",
    "            print('Out of Range!')\n",
    "            return -1\n",
    "        return n_initial\n",
    "\n",
    "    def ram_range(self,n):\n",
    "        n_initial = 0\n",
    "        if 0 < n <= 20:\n",
    "            n_initial = 20+n\n",
    "        elif 21 <= n <= 60:\n",
    "            n_initial = 60+n\n",
    "        elif 61 <= n <= 180:\n",
    "            n_initial = n\n",
    "        else:\n",
    "            print('Out of Range!')\n",
    "            return -1\n",
    "        return n_initial\n",
    "\n",
    "    def volume_range(self,n):\n",
    "        n_initial = 0\n",
    "        if 0 < n <= 100:\n",
    "            n_initial = 100+n\n",
    "        elif 101 <= n <= 300:\n",
    "            n_initial = 300+n\n",
    "        elif 301 <= n <= 900:\n",
    "            n_initial = n\n",
    "        else:\n",
    "            print('Out of Range!')\n",
    "            return -1\n",
    "        return n_initial\n",
    "\n",
    "    def initial_offer(self,client_requirement):\n",
    "        n_vcpu0 = self.vcpu_range(client_requirement[0])\n",
    "        n_ram0 = self.ram_range(client_requirement[1])\n",
    "        n_volume0 = self.volume_range(client_requirement[2])\n",
    "        return n_vcpu0,n_ram0,n_volume0\n",
    "    \n",
    "    def compute_ratio(self,client_requirement):\n",
    "        ratio = [int(i/client_requirement[0]) for i in client_requirement]\n",
    "        times1round_vcpu = int(ratio[0]/provider_base.min_change[0])\n",
    "        times1round_ram = int(ratio[1]/provider_base.min_change[1])\n",
    "        times1round_volume = int(ratio[2]/provider_base.min_change[2])\n",
    "        times1round = times1round_vcpu+times1round_ram+times1round_volume\n",
    "        \n",
    "        return times1round_vcpu,times1round_ram,times1round_volume,times1round\n",
    "               \n",
    "    def update_offer(self,times1round_vcpu,times1round_ram,times1round_volume,times1round,\n",
    "                     n_vcpu0,n_ram0,n_volume0,\n",
    "                     client_requirement):\n",
    "        # like random gradient decent\n",
    "        rand_int = random.randint(1,times1round)\n",
    "        t1 = times1round_vcpu\n",
    "        t2 = t1+times1round_ram\n",
    "        t3 = t2+times1round_volume\n",
    "        \n",
    "        if 1<=rand_int<=t1:\n",
    "            if n_vcpu0 > client_requirement[0]:\n",
    "                n_vcpu0=n_vcpu0-provider_base.min_change[0]\n",
    "            elif n_ram0 > client_requirement[1]:\n",
    "                n_ram0=n_ram0-provider_base.min_change[1]\n",
    "            elif n_volume0 > client_requirement[2]:\n",
    "                n_volume0=n_volume0-provider_base.min_change[2]\n",
    "                \n",
    "        elif t1+1<=rand_int<=t2:\n",
    "            if n_ram0 > client_requirement[1]:\n",
    "                n_ram0=n_ram0-provider_base.min_change[1]\n",
    "            elif n_volume0 > client_requirement[2]:\n",
    "                n_volume0=n_volume0-provider_base.min_change[2]\n",
    "            elif n_vcpu0 > client_requirement[0]:\n",
    "                n_vcpu0=n_vcpu0-provider_base.min_change[0]\n",
    "            \n",
    "        elif t2+1<=rand_int<=t3:\n",
    "            if n_volume0 > client_requirement[2]:\n",
    "                n_volume0=n_volume0-provider_base.min_change[2]\n",
    "            elif n_vcpu0 > client_requirement[0]:\n",
    "                n_vcpu0=n_vcpu0-provider_base.min_change[0]\n",
    "            elif n_ram0 > client_requirement[1]:\n",
    "                n_ram0=n_ram0-provider_base.min_change[1]            \n",
    "            \n",
    "        return n_vcpu0,n_ram0,n_volume0        "
   ]
  },
  {
   "cell_type": "code",
   "execution_count": 5,
   "metadata": {},
   "outputs": [],
   "source": [
    "# Class for client\n",
    "class client_base:\n",
    "    def __init__(self, client_requirement):\n",
    "        self.requirement = client_requirement\n",
    "              \n",
    "    def compute_fee(self, p1, p2, p3, t1, t2, n):\n",
    "        fee = 0\n",
    "        if 0 < n <= t1:\n",
    "            fee = p1*n\n",
    "        elif t1 < n <= t2:\n",
    "            fee = p1*t1+p2*(n-t1)\n",
    "        elif t2 < n :\n",
    "            fee = p1*t1+p2*(t2-t1)+p3*(n-t2)\n",
    "        else:\n",
    "            print('Out of Range!')\n",
    "            return -1\n",
    "        return fee\n",
    "    \n",
    "    def compute_avg_price(self, fee, num):\n",
    "        return fee/num\n",
    "    \n",
    "    def compute_total_fee(self, f1, f2, f3):\n",
    "        return f1+f2+f3\n",
    "    \n",
    "    def scale2one_avg(self, obj, old, new):\n",
    "        ratio = new/old\n",
    "        # the avg price ratio\n",
    "        # new/old: the cheaper, the better\n",
    "        # ratio: close to 0 is better, close to 1 is worse\n",
    "        if obj == 'avg':\n",
    "            return ratio\n",
    "        # the total fee ratio\n",
    "        # new total fee is always larger than old total fee\n",
    "        # ratio is larger than 1, the larger the worse\n",
    "        # the reciproval is between o and 1. the closer to 0, the worse\n",
    "        # the closer to 1, the better\n",
    "        elif obj == 'total':\n",
    "            return 1/ratio\n",
    "    \n",
    "    def related_fee(self, client_requirement = None):\n",
    "        \n",
    "        if client_requirement == None:\n",
    "            client_requirement = self.requirement\n",
    "            \n",
    "        vcpu_fee_r = self.compute_fee(0.2,0.1,0.05,10,30,client_requirement[0])\n",
    "        vcpu_avg_r = self.compute_avg_price(vcpu_fee_r,client_requirement[0])\n",
    "        ram_fee_r = self.compute_fee(0.1,0.05,0.025,20,60,client_requirement[1])\n",
    "        ram_avg_r = self.compute_avg_price(ram_fee_r,client_requirement[1])\n",
    "        volume_fee_r = self.compute_fee(0.02,0.01,0.005,100,300,client_requirement[2])\n",
    "        volume_avg_r = self.compute_avg_price(volume_fee_r,client_requirement[2])\n",
    "        total_fee_r = vcpu_fee_r+ram_fee_r+volume_fee_r\n",
    "        return vcpu_avg_r,ram_avg_r,volume_avg_r,total_fee_r\n",
    "    \n",
    "    def fuzzy_decision(self):\n",
    "        # Fuzzy logic\n",
    "\n",
    "        # New Antecedent/Consequent objects hold universe variables and membership functions\n",
    "        avg_vcpu = ctrl.Antecedent(np.arange(0, 11, 0.001), 'avg_vcpu')\n",
    "        avg_ram = ctrl.Antecedent(np.arange(0, 11, 0.001), 'avg_ram')\n",
    "        avg_volume = ctrl.Antecedent(np.arange(0, 11, 0.001), 'avg_volume')\n",
    "        total_fee = ctrl.Antecedent(np.arange(0, 11, 0.001), 'total_fee')\n",
    "\n",
    "        tendency = ctrl.Consequent(np.arange(0, 101, 0.01), 'tendency')\n",
    "\n",
    "        # Auto-membership function population is possible with .automf(3, 5, or 7)\n",
    "        # poor average good, automatically\n",
    "        names_avg = ['cheap','medium','expensive']\n",
    "        avg_vcpu.automf(names = names_avg)\n",
    "        avg_ram.automf(names = names_avg)\n",
    "        avg_volume.automf(names = names_avg)\n",
    "\n",
    "        names_total = ['high','medium','low']\n",
    "        total_fee.automf(names = names_total)\n",
    "\n",
    "        # Custom membership functions can be built interactively with a familiar,\n",
    "        # Pythonic API\n",
    "        tendency['low'] = fuzz.trimf(tendency.universe, [0, 0, 50])\n",
    "        tendency['medium'] = fuzz.trimf(tendency.universe, [0, 50, 100])\n",
    "        tendency['high'] = fuzz.trimf(tendency.universe, [50, 100, 100])\n",
    "        \n",
    "        # Rules\n",
    "        rule1 = ctrl.Rule(total_fee['high'], tendency['low'])\n",
    "        rule2 = ctrl.Rule(total_fee['medium'], tendency['medium'])\n",
    "        rule3 = ctrl.Rule(total_fee['low'], tendency['high'])\n",
    "        rule4 = ctrl.Rule(avg_vcpu['cheap']&avg_volume['cheap']&avg_ram['cheap'], tendency['high'])\n",
    "        rule5 = ctrl.Rule(avg_vcpu['expensive'], tendency['medium'])\n",
    "        rule6 = ctrl.Rule(avg_ram['expensive'], tendency['medium'])\n",
    "        rule7 = ctrl.Rule(avg_volume['expensive'], tendency['medium'])\n",
    "        \n",
    "        # Fuzzy decision simulation\n",
    "        decision_ctrl = ctrl.ControlSystem([rule1, rule2, rule3, rule4, rule5, rule6, rule7])\n",
    "        decision = ctrl.ControlSystemSimulation(decision_ctrl)\n",
    "        \n",
    "        return decision\n",
    "        "
   ]
  },
  {
   "cell_type": "markdown",
   "metadata": {},
   "source": [
    "# The simulated price table\n",
    "## VCPU \n",
    "0-10: 0.2€/st 1 day  \n",
    "11-30: 0.1  \n",
    "31-90: 0.05  \n",
    "## RAM \n",
    "0-20: 0.1€/per GB day  \n",
    "21-60: 0.05  \n",
    "61-180: 0.025  \n",
    "## VOLUME：\n",
    "0-100：0.02€/per GB 1 day  \n",
    "101-300：0.01€/per GB 1 day  \n",
    "301-900：0.005€/per GB 1 day  "
   ]
  },
  {
   "cell_type": "code",
   "execution_count": 6,
   "metadata": {},
   "outputs": [],
   "source": [
    "def negotiation_client_bool(client_requirements):\n",
    "    max_rounds = 150\n",
    "    \n",
    "    # Client\n",
    "    # order: CPU-st, RAM-GB, VOLUME-GB\n",
    "    #client_requirement = [10, 20, 200] \n",
    "    client = client_base(client_requirement)\n",
    "    client_decision = client.fuzzy_decision()\n",
    "    # Provider\n",
    "    provider = provider_base()\n",
    "    offer = provider.initial_offer(client_requirement)\n",
    "    times1round_vcpu,times1round_ram,times1round_volume,times1round = provider.compute_ratio(client_requirement)\n",
    "\n",
    "    # Original price, i.e. baseline\n",
    "    vcpu_avg_old,ram_avg_old,volume_avg_old,total_fee_old = client.related_fee()\n",
    "    #print('*********************************************************************')\n",
    "    #print('Client requirement: ', client_requirement)\n",
    "    #print('vcpu_avg_price: %f, ram_avg_price: %f, volume_avg_price: %f'%(vcpu_avg_old,ram_avg_old,volume_avg_old))\n",
    "    #print('total_fee: %f'%total_fee_old)\n",
    "    #print('*********************************************************************')\n",
    "    # For plotting\n",
    "    steps = [];vcpu = [];ram = [];volume = [];avg_vcpu = [];avg_ram = [];avg_volume = [];total_fee = []\n",
    "    #print('Provider first offer: ',offer)\n",
    "    i = 0\n",
    "    while True:\n",
    "        steps.append(i)\n",
    "        vcpu.append(offer[0])\n",
    "        ram.append(offer[1])\n",
    "        volume.append(offer[2])\n",
    "        # New fees\n",
    "        vcpu_avg_new,ram_avg_new,volume_avg_new,total_fee_new = client.related_fee(offer)\n",
    "        avg_vcpu.append(vcpu_avg_new);avg_ram.append(ram_avg_new);avg_volume.append(volume_avg_new);total_fee.append(total_fee_new)\n",
    "        # input of fuzzy system\n",
    "        input_avg_vcpu = 10*client.scale2one_avg('avg', vcpu_avg_old, vcpu_avg_new)\n",
    "        input_avg_ram = 10*client.scale2one_avg('avg', ram_avg_old, ram_avg_new)\n",
    "        input_avg_volume = 10*client.scale2one_avg('avg', volume_avg_old, volume_avg_new)\n",
    "        input_total_fee = 10*client.scale2one_avg('total', total_fee_old, total_fee_new)\n",
    "        dict_of_data = {'avg_vcpu':input_avg_vcpu,'avg_ram':input_avg_ram,'avg_volume':input_avg_volume,'total_fee':input_total_fee}\n",
    "        #dict_of_data = {'avg_vcpu':5,'avg_ram':5,'avg_volume':5,'total_fee':2}\n",
    "        #print(dict_of_data)\n",
    "\n",
    "        # Client makes decision\n",
    "        client_decision.inputs(dict_of_data)\n",
    "        # Crunch the numbers\n",
    "        client_decision.compute()\n",
    "        decision_score = client_decision.output['tendency']\n",
    "        #print('---------------------------------------------------------------')\n",
    "        #print('offer %d: '%i , offer, ' its score: ',decision_score)\n",
    "        #print('vcpu_avg_price: %f, ram_avg_price: %f, volume_avg_price: %f'%(vcpu_avg_new,ram_avg_new,volume_avg_new))\n",
    "        #print('total_fee: %f'%total_fee_new)\n",
    "        #print('---------------------------------------------------------------')\n",
    "\n",
    "        # if accepet\n",
    "        if decision_score >= 55:\n",
    "            final_offer = offer\n",
    "            #print('This final offer is ',final_offer)\n",
    "            break\n",
    "        # if reject  \n",
    "        else:\n",
    "            if offer[0]>=client_requirement[0] and offer[1]>=client_requirement[1] and offer[2]>=client_requirement[2]:\n",
    "                offer = provider.update_offer(times1round_vcpu,times1round_ram,times1round_volume,times1round,\n",
    "                                              offer[0],offer[1],offer[2],\n",
    "                                             client_requirement)\n",
    "                #print(offer)\n",
    "            else:\n",
    "                final_offer = offer\n",
    "                #print('Round:',i,'break!')\n",
    "                #print('The final offer is the last offer!')\n",
    "                break\n",
    "        \n",
    "        i = i+1\n",
    "        if i > max_rounds:\n",
    "            final_offer = offer\n",
    "            #print('Round %d'%i,' . Reach the MAX round!')\n",
    "            #print('Last offer (also the final offer): ' , final_offer, ' its score: ',decision_score)\n",
    "            #print('vcpu_avg_price: %f, ram_avg_price: %f, volume_avg_price: %f'%(vcpu_avg_new,ram_avg_new,volume_avg_new))\n",
    "            #print('total_fee: %f'%total_fee_new)       \n",
    "            break\n",
    "        \n",
    "    #print(i,' rounds')\n",
    "                \n",
    "    return steps,vcpu,ram,volume,vcpu_avg_old,ram_avg_old,volume_avg_old,total_fee_old,avg_vcpu,avg_ram,avg_volume,total_fee,final_offer"
   ]
  },
  {
   "cell_type": "markdown",
   "metadata": {},
   "source": [
    "# Single test"
   ]
  },
  {
   "cell_type": "code",
   "execution_count": 11,
   "metadata": {},
   "outputs": [
    {
     "name": "stdout",
     "output_type": "stream",
     "text": [
      "time cost 1.325490951538086 s\n"
     ]
    }
   ],
   "source": [
    "random.seed(19260817)\n",
    "vcpu = 10\n",
    "ram = 20\n",
    "volume = 200\n",
    "client_requirement = [vcpu, ram, volume]\n",
    "time_start=time.time()\n",
    "steps,vcpu,ram,volume,\\\n",
    "vcpu_avg_old,ram_avg_old,volume_avg_old,total_fee_old,\\\n",
    "avg_vcpu,avg_ram,avg_volume,total_fee,\\\n",
    "final_offer = negotiation_client_bool(client_requirement)\n",
    "time_end=time.time()\n",
    "print('time cost',time_end-time_start,'s')"
   ]
  },
  {
   "cell_type": "markdown",
   "metadata": {},
   "source": [
    "# Generate test data set"
   ]
  },
  {
   "cell_type": "code",
   "execution_count": 8,
   "metadata": {},
   "outputs": [],
   "source": [
    "random.seed(19260817)\n",
    "x_test = pd.read_csv('./data/offer_ML/x_test_200_v1.csv',index_col=0).reset_index(drop=True)"
   ]
  },
  {
   "cell_type": "code",
   "execution_count": 9,
   "metadata": {},
   "outputs": [
    {
     "name": "stderr",
     "output_type": "stream",
     "text": [
      "  0%|▍                                                                                 | 1/200 [00:01<04:14,  1.28s/it]"
     ]
    },
    {
     "name": "stdout",
     "output_type": "stream",
     "text": [
      "40  rounds\n"
     ]
    },
    {
     "name": "stderr",
     "output_type": "stream",
     "text": [
      "\r",
      "  1%|▊                                                                                 | 2/200 [00:03<05:25,  1.65s/it]"
     ]
    },
    {
     "name": "stdout",
     "output_type": "stream",
     "text": [
      "78  rounds\n"
     ]
    },
    {
     "name": "stderr",
     "output_type": "stream",
     "text": [
      "\r",
      "  2%|█▏                                                                                | 3/200 [00:04<04:23,  1.34s/it]"
     ]
    },
    {
     "name": "stdout",
     "output_type": "stream",
     "text": [
      "18  rounds\n"
     ]
    },
    {
     "name": "stderr",
     "output_type": "stream",
     "text": [
      "\r",
      "  2%|█▋                                                                                | 4/200 [00:05<03:56,  1.21s/it]"
     ]
    },
    {
     "name": "stdout",
     "output_type": "stream",
     "text": [
      "27  rounds\n"
     ]
    },
    {
     "name": "stderr",
     "output_type": "stream",
     "text": [
      "\r",
      "  2%|██                                                                                | 5/200 [00:05<03:03,  1.06it/s]"
     ]
    },
    {
     "name": "stdout",
     "output_type": "stream",
     "text": [
      "9  rounds\n"
     ]
    },
    {
     "name": "stderr",
     "output_type": "stream",
     "text": [
      "\r",
      "  3%|██▍                                                                               | 6/200 [00:06<03:21,  1.04s/it]"
     ]
    },
    {
     "name": "stdout",
     "output_type": "stream",
     "text": [
      "37  rounds\n"
     ]
    },
    {
     "name": "stderr",
     "output_type": "stream",
     "text": [
      "\r",
      "  4%|██▊                                                                               | 7/200 [00:07<02:49,  1.14it/s]"
     ]
    },
    {
     "name": "stdout",
     "output_type": "stream",
     "text": [
      "14  rounds\n"
     ]
    },
    {
     "name": "stderr",
     "output_type": "stream",
     "text": [
      "\r",
      "  4%|███▎                                                                              | 8/200 [00:09<04:05,  1.28s/it]"
     ]
    },
    {
     "name": "stdout",
     "output_type": "stream",
     "text": [
      "65  rounds\n"
     ]
    },
    {
     "name": "stderr",
     "output_type": "stream",
     "text": [
      "\r",
      "  4%|███▋                                                                              | 9/200 [00:10<03:27,  1.09s/it]"
     ]
    },
    {
     "name": "stdout",
     "output_type": "stream",
     "text": [
      "18  rounds\n"
     ]
    },
    {
     "name": "stderr",
     "output_type": "stream",
     "text": [
      "\r",
      "  5%|████                                                                             | 10/200 [00:11<03:26,  1.09s/it]"
     ]
    },
    {
     "name": "stdout",
     "output_type": "stream",
     "text": [
      "33  rounds\n"
     ]
    },
    {
     "name": "stderr",
     "output_type": "stream",
     "text": [
      "\r",
      "  6%|████▍                                                                            | 11/200 [00:13<04:37,  1.47s/it]"
     ]
    },
    {
     "name": "stdout",
     "output_type": "stream",
     "text": [
      "74  rounds\n",
      "0  rounds\n",
      "0  rounds\n"
     ]
    },
    {
     "name": "stderr",
     "output_type": "stream",
     "text": [
      "\r",
      "  7%|█████▋                                                                           | 14/200 [00:16<03:59,  1.29s/it]"
     ]
    },
    {
     "name": "stdout",
     "output_type": "stream",
     "text": [
      "78  rounds\n"
     ]
    },
    {
     "name": "stderr",
     "output_type": "stream",
     "text": [
      "\r",
      "  8%|██████                                                                           | 15/200 [00:16<03:02,  1.01it/s]"
     ]
    },
    {
     "name": "stdout",
     "output_type": "stream",
     "text": [
      "8  rounds\n",
      "0  rounds\n",
      "0  rounds\n"
     ]
    },
    {
     "name": "stderr",
     "output_type": "stream",
     "text": [
      "\r",
      "  9%|███████▎                                                                         | 18/200 [00:17<02:24,  1.26it/s]"
     ]
    },
    {
     "name": "stdout",
     "output_type": "stream",
     "text": [
      "28  rounds\n",
      "0  rounds\n"
     ]
    },
    {
     "name": "stderr",
     "output_type": "stream",
     "text": [
      "\r",
      " 10%|████████                                                                         | 20/200 [00:17<01:45,  1.70it/s]"
     ]
    },
    {
     "name": "stdout",
     "output_type": "stream",
     "text": [
      "5  rounds\n",
      "0  rounds\n"
     ]
    },
    {
     "name": "stderr",
     "output_type": "stream",
     "text": [
      "\r",
      " 11%|████████▉                                                                        | 22/200 [00:19<01:48,  1.63it/s]"
     ]
    },
    {
     "name": "stdout",
     "output_type": "stream",
     "text": [
      "39  rounds\n"
     ]
    },
    {
     "name": "stderr",
     "output_type": "stream",
     "text": [
      "\r",
      " 12%|█████████▎                                                                       | 23/200 [00:22<04:20,  1.47s/it]"
     ]
    },
    {
     "name": "stdout",
     "output_type": "stream",
     "text": [
      "104  rounds\n"
     ]
    },
    {
     "name": "stderr",
     "output_type": "stream",
     "text": [
      "\r",
      " 12%|█████████▋                                                                       | 24/200 [00:25<05:49,  1.98s/it]"
     ]
    },
    {
     "name": "stdout",
     "output_type": "stream",
     "text": [
      "100  rounds\n"
     ]
    },
    {
     "name": "stderr",
     "output_type": "stream",
     "text": [
      "\r",
      " 12%|██████████▏                                                                      | 25/200 [00:27<05:13,  1.79s/it]"
     ]
    },
    {
     "name": "stdout",
     "output_type": "stream",
     "text": [
      "42  rounds\n"
     ]
    },
    {
     "name": "stderr",
     "output_type": "stream",
     "text": [
      "\r",
      " 13%|██████████▌                                                                      | 26/200 [00:28<04:46,  1.65s/it]"
     ]
    },
    {
     "name": "stdout",
     "output_type": "stream",
     "text": [
      "41  rounds\n"
     ]
    },
    {
     "name": "stderr",
     "output_type": "stream",
     "text": [
      "\r",
      " 14%|██████████▉                                                                      | 27/200 [00:29<04:33,  1.58s/it]"
     ]
    },
    {
     "name": "stdout",
     "output_type": "stream",
     "text": [
      "43  rounds\n"
     ]
    },
    {
     "name": "stderr",
     "output_type": "stream",
     "text": [
      "\r",
      " 14%|███████████▎                                                                     | 28/200 [00:31<04:13,  1.48s/it]"
     ]
    },
    {
     "name": "stdout",
     "output_type": "stream",
     "text": [
      "38  rounds\n"
     ]
    },
    {
     "name": "stderr",
     "output_type": "stream",
     "text": [
      "\r",
      " 14%|███████████▋                                                                     | 29/200 [00:32<03:57,  1.39s/it]"
     ]
    },
    {
     "name": "stdout",
     "output_type": "stream",
     "text": [
      "37  rounds\n",
      "0  rounds\n",
      "0  rounds\n"
     ]
    },
    {
     "name": "stderr",
     "output_type": "stream",
     "text": [
      "\r",
      " 16%|████████████▉                                                                    | 32/200 [00:32<02:47,  1.01it/s]"
     ]
    },
    {
     "name": "stdout",
     "output_type": "stream",
     "text": [
      "3  rounds\n"
     ]
    },
    {
     "name": "stderr",
     "output_type": "stream",
     "text": [
      "\r",
      " 16%|█████████████▎                                                                   | 33/200 [00:34<03:12,  1.16s/it]"
     ]
    },
    {
     "name": "stdout",
     "output_type": "stream",
     "text": [
      "48  rounds\n"
     ]
    },
    {
     "name": "stderr",
     "output_type": "stream",
     "text": [
      " 18%|██████████████▏                                                                  | 35/200 [00:35<02:18,  1.19it/s]"
     ]
    },
    {
     "name": "stdout",
     "output_type": "stream",
     "text": [
      "32  rounds\n",
      "4  rounds\n",
      "0  rounds\n"
     ]
    },
    {
     "name": "stderr",
     "output_type": "stream",
     "text": [
      "\r",
      " 19%|███████████████▍                                                                 | 38/200 [00:35<01:37,  1.67it/s]"
     ]
    },
    {
     "name": "stdout",
     "output_type": "stream",
     "text": [
      "0  rounds\n",
      "0  rounds\n"
     ]
    },
    {
     "name": "stderr",
     "output_type": "stream",
     "text": [
      "\r",
      " 20%|███████████████▊                                                                 | 39/200 [00:36<02:18,  1.16it/s]"
     ]
    },
    {
     "name": "stdout",
     "output_type": "stream",
     "text": [
      "45  rounds\n"
     ]
    },
    {
     "name": "stderr",
     "output_type": "stream",
     "text": [
      " 22%|█████████████████▍                                                               | 43/200 [00:40<02:50,  1.08s/it]"
     ]
    },
    {
     "name": "stdout",
     "output_type": "stream",
     "text": [
      "102  rounds\n",
      "0  rounds\n",
      "0  rounds\n",
      "0  rounds\n",
      "93  rounds\n"
     ]
    },
    {
     "name": "stderr",
     "output_type": "stream",
     "text": [
      "\r",
      " 22%|██████████████████▏                                                              | 45/200 [00:43<03:27,  1.34s/it]"
     ]
    },
    {
     "name": "stdout",
     "output_type": "stream",
     "text": [
      "31  rounds\n",
      "0  rounds\n"
     ]
    },
    {
     "name": "stderr",
     "output_type": "stream",
     "text": [
      "\r",
      " 24%|███████████████████                                                              | 47/200 [00:44<02:47,  1.09s/it]"
     ]
    },
    {
     "name": "stdout",
     "output_type": "stream",
     "text": [
      "32  rounds\n"
     ]
    },
    {
     "name": "stderr",
     "output_type": "stream",
     "text": [
      " 26%|████████████████████▋                                                            | 51/200 [00:46<01:51,  1.34it/s]"
     ]
    },
    {
     "name": "stdout",
     "output_type": "stream",
     "text": [
      "31  rounds\n",
      "0  rounds\n",
      "0  rounds\n",
      "0  rounds\n",
      "0  rounds\n"
     ]
    },
    {
     "name": "stderr",
     "output_type": "stream",
     "text": [
      "\r",
      " 26%|█████████████████████▍                                                           | 53/200 [00:47<01:50,  1.33it/s]"
     ]
    },
    {
     "name": "stdout",
     "output_type": "stream",
     "text": [
      "48  rounds\n"
     ]
    },
    {
     "name": "stderr",
     "output_type": "stream",
     "text": [
      "\r",
      " 27%|█████████████████████▊                                                           | 54/200 [00:48<02:07,  1.15it/s]"
     ]
    },
    {
     "name": "stdout",
     "output_type": "stream",
     "text": [
      "37  rounds\n"
     ]
    },
    {
     "name": "stderr",
     "output_type": "stream",
     "text": [
      " 29%|███████████████████████▍                                                         | 58/200 [00:51<02:31,  1.07s/it]"
     ]
    },
    {
     "name": "stdout",
     "output_type": "stream",
     "text": [
      "100  rounds\n",
      "0  rounds\n",
      "0  rounds\n",
      "0  rounds\n",
      "0  rounds\n",
      "0  rounds\n"
     ]
    },
    {
     "name": "stderr",
     "output_type": "stream",
     "text": [
      "\r",
      " 30%|████████████████████████▋                                                        | 61/200 [00:52<01:59,  1.16it/s]"
     ]
    },
    {
     "name": "stdout",
     "output_type": "stream",
     "text": [
      "33  rounds\n"
     ]
    },
    {
     "name": "stderr",
     "output_type": "stream",
     "text": [
      "\r",
      " 31%|█████████████████████████                                                        | 62/200 [00:53<02:02,  1.12it/s]"
     ]
    },
    {
     "name": "stdout",
     "output_type": "stream",
     "text": [
      "28  rounds\n"
     ]
    },
    {
     "name": "stderr",
     "output_type": "stream",
     "text": [
      " 33%|██████████████████████████▋                                                      | 66/200 [00:54<01:21,  1.64it/s]"
     ]
    },
    {
     "name": "stdout",
     "output_type": "stream",
     "text": [
      "23  rounds\n",
      "0  rounds\n",
      "0  rounds\n",
      "0  rounds\n",
      "0  rounds\n",
      "0  rounds\n"
     ]
    },
    {
     "name": "stderr",
     "output_type": "stream",
     "text": [
      "\r",
      " 34%|███████████████████████████▉                                                     | 69/200 [00:57<01:29,  1.47it/s]"
     ]
    },
    {
     "name": "stdout",
     "output_type": "stream",
     "text": [
      "84  rounds\n",
      "0  rounds\n"
     ]
    },
    {
     "name": "stderr",
     "output_type": "stream",
     "text": [
      "\r",
      " 36%|████████████████████████████▊                                                    | 71/200 [00:58<01:15,  1.71it/s]"
     ]
    },
    {
     "name": "stdout",
     "output_type": "stream",
     "text": [
      "22  rounds\n"
     ]
    },
    {
     "name": "stderr",
     "output_type": "stream",
     "text": [
      " 38%|██████████████████████████████▍                                                  | 75/200 [00:58<00:54,  2.28it/s]"
     ]
    },
    {
     "name": "stdout",
     "output_type": "stream",
     "text": [
      "21  rounds\n",
      "0  rounds\n",
      "0  rounds\n",
      "0  rounds\n",
      "0  rounds\n",
      "0  rounds\n"
     ]
    },
    {
     "name": "stderr",
     "output_type": "stream",
     "text": [
      "\r",
      " 39%|███████████████████████████████▌                                                 | 78/200 [00:59<00:48,  2.52it/s]"
     ]
    },
    {
     "name": "stdout",
     "output_type": "stream",
     "text": [
      "26  rounds\n"
     ]
    },
    {
     "name": "stderr",
     "output_type": "stream",
     "text": [
      " 41%|█████████████████████████████████▏                                               | 82/200 [01:01<01:04,  1.84it/s]"
     ]
    },
    {
     "name": "stdout",
     "output_type": "stream",
     "text": [
      "52  rounds\n",
      "0  rounds\n",
      "0  rounds\n",
      "0  rounds\n",
      "0  rounds\n"
     ]
    },
    {
     "name": "stderr",
     "output_type": "stream",
     "text": [
      "\r",
      " 42%|██████████████████████████████████▍                                              | 85/200 [01:01<00:45,  2.55it/s]"
     ]
    },
    {
     "name": "stdout",
     "output_type": "stream",
     "text": [
      "0  rounds\n",
      "0  rounds\n",
      "0  rounds\n",
      "0  rounds\n"
     ]
    },
    {
     "name": "stderr",
     "output_type": "stream",
     "text": [
      "\r",
      " 44%|███████████████████████████████████▋                                             | 88/200 [01:02<00:39,  2.84it/s]"
     ]
    },
    {
     "name": "stdout",
     "output_type": "stream",
     "text": [
      "22  rounds\n"
     ]
    },
    {
     "name": "stderr",
     "output_type": "stream",
     "text": [
      " 46%|█████████████████████████████████████▋                                           | 93/200 [01:03<00:26,  4.11it/s]"
     ]
    },
    {
     "name": "stdout",
     "output_type": "stream",
     "text": [
      "16  rounds\n",
      "0  rounds\n",
      "0  rounds\n",
      "0  rounds\n",
      "0  rounds\n"
     ]
    },
    {
     "name": "stderr",
     "output_type": "stream",
     "text": [
      "\r",
      " 48%|██████████████████████████████████████▉                                          | 96/200 [01:03<00:19,  5.46it/s]"
     ]
    },
    {
     "name": "stdout",
     "output_type": "stream",
     "text": [
      "0  rounds\n",
      "0  rounds\n",
      "0  rounds\n"
     ]
    },
    {
     "name": "stderr",
     "output_type": "stream",
     "text": [
      "\r",
      " 49%|███████████████████████████████████████▋                                         | 98/200 [01:03<00:22,  4.55it/s]"
     ]
    },
    {
     "name": "stdout",
     "output_type": "stream",
     "text": [
      "18  rounds\n",
      "0  rounds\n"
     ]
    },
    {
     "name": "stderr",
     "output_type": "stream",
     "text": [
      " 52%|█████████████████████████████████████████▏                                      | 103/200 [01:04<00:17,  5.52it/s]"
     ]
    },
    {
     "name": "stdout",
     "output_type": "stream",
     "text": [
      "17  rounds\n",
      "0  rounds\n",
      "0  rounds\n",
      "0  rounds\n",
      "0  rounds\n",
      "0  rounds\n"
     ]
    },
    {
     "name": "stderr",
     "output_type": "stream",
     "text": [
      "\r",
      " 52%|██████████████████████████████████████████                                      | 105/200 [01:05<00:19,  4.96it/s]"
     ]
    },
    {
     "name": "stdout",
     "output_type": "stream",
     "text": [
      "14  rounds\n"
     ]
    },
    {
     "name": "stderr",
     "output_type": "stream",
     "text": [
      " 55%|████████████████████████████████████████████                                    | 110/200 [01:05<00:15,  5.71it/s]"
     ]
    },
    {
     "name": "stdout",
     "output_type": "stream",
     "text": [
      "18  rounds\n",
      "0  rounds\n",
      "0  rounds\n",
      "0  rounds\n",
      "0  rounds\n",
      "0  rounds\n"
     ]
    },
    {
     "name": "stderr",
     "output_type": "stream",
     "text": [
      " 58%|██████████████████████████████████████████████▍                                 | 116/200 [01:06<00:09,  9.22it/s]"
     ]
    },
    {
     "name": "stdout",
     "output_type": "stream",
     "text": [
      "0  rounds\n",
      "0  rounds\n",
      "0  rounds\n",
      "0  rounds\n",
      "0  rounds\n"
     ]
    },
    {
     "name": "stderr",
     "output_type": "stream",
     "text": [
      "\r",
      " 60%|███████████████████████████████████████████████▌                                | 119/200 [01:06<00:07, 11.27it/s]"
     ]
    },
    {
     "name": "stdout",
     "output_type": "stream",
     "text": [
      "0  rounds\n",
      "0  rounds\n",
      "0  rounds\n",
      "0  rounds\n",
      "0  rounds\n"
     ]
    },
    {
     "name": "stderr",
     "output_type": "stream",
     "text": [
      " 62%|██████████████████████████████████████████████████                              | 125/200 [01:06<00:04, 15.34it/s]"
     ]
    },
    {
     "name": "stdout",
     "output_type": "stream",
     "text": [
      "0  rounds\n",
      "0  rounds\n",
      "0  rounds\n",
      "0  rounds\n",
      "0  rounds\n"
     ]
    },
    {
     "name": "stderr",
     "output_type": "stream",
     "text": [
      " 66%|████████████████████████████████████████████████████▍                           | 131/200 [01:06<00:03, 18.40it/s]"
     ]
    },
    {
     "name": "stdout",
     "output_type": "stream",
     "text": [
      "0  rounds\n",
      "0  rounds\n",
      "0  rounds\n",
      "0  rounds\n",
      "0  rounds\n"
     ]
    },
    {
     "name": "stderr",
     "output_type": "stream",
     "text": [
      "\r",
      " 67%|█████████████████████████████████████████████████████▌                          | 134/200 [01:06<00:03, 19.49it/s]"
     ]
    },
    {
     "name": "stdout",
     "output_type": "stream",
     "text": [
      "0  rounds\n",
      "0  rounds\n",
      "0  rounds\n",
      "0  rounds\n",
      "0  rounds\n"
     ]
    },
    {
     "name": "stderr",
     "output_type": "stream",
     "text": [
      " 70%|████████████████████████████████████████████████████████                        | 140/200 [01:07<00:02, 20.82it/s]"
     ]
    },
    {
     "name": "stdout",
     "output_type": "stream",
     "text": [
      "0  rounds\n",
      "0  rounds\n",
      "0  rounds\n",
      "0  rounds\n",
      "0  rounds\n"
     ]
    },
    {
     "name": "stderr",
     "output_type": "stream",
     "text": [
      "\r",
      " 72%|█████████████████████████████████████████████████████████▏                      | 143/200 [01:07<00:02, 21.61it/s]"
     ]
    },
    {
     "name": "stdout",
     "output_type": "stream",
     "text": [
      "0  rounds\n",
      "0  rounds\n",
      "0  rounds\n",
      "0  rounds\n",
      "0"
     ]
    },
    {
     "name": "stderr",
     "output_type": "stream",
     "text": [
      " 74%|███████████████████████████████████████████████████████████▌                    | 149/200 [01:07<00:02, 21.13it/s]"
     ]
    },
    {
     "name": "stdout",
     "output_type": "stream",
     "text": [
      "  rounds\n",
      "0  rounds\n",
      "0  rounds\n",
      "0  rounds\n",
      "0  rounds\n"
     ]
    },
    {
     "name": "stderr",
     "output_type": "stream",
     "text": [
      " 78%|██████████████████████████████████████████████████████████████                  | 155/200 [01:07<00:02, 21.33it/s]"
     ]
    },
    {
     "name": "stdout",
     "output_type": "stream",
     "text": [
      "0  rounds\n",
      "0  rounds\n",
      "0  rounds\n",
      "0  rounds\n",
      "0  rounds\n"
     ]
    },
    {
     "name": "stderr",
     "output_type": "stream",
     "text": [
      "\r",
      " 79%|███████████████████████████████████████████████████████████████▏                | 158/200 [01:07<00:01, 21.80it/s]"
     ]
    },
    {
     "name": "stdout",
     "output_type": "stream",
     "text": [
      "0  rounds\n",
      "0  rounds\n",
      "0  rounds\n",
      "0  rounds\n",
      "0  rounds\n"
     ]
    },
    {
     "name": "stderr",
     "output_type": "stream",
     "text": [
      " 82%|█████████████████████████████████████████████████████████████████▌              | 164/200 [01:08<00:01, 22.23it/s]"
     ]
    },
    {
     "name": "stdout",
     "output_type": "stream",
     "text": [
      "0  rounds\n",
      "0  rounds\n",
      "0  rounds\n",
      "0  rounds\n",
      "0  rounds\n"
     ]
    },
    {
     "name": "stderr",
     "output_type": "stream",
     "text": [
      " 85%|████████████████████████████████████████████████████████████████████            | 170/200 [01:08<00:01, 22.49it/s]"
     ]
    },
    {
     "name": "stdout",
     "output_type": "stream",
     "text": [
      "0  rounds\n",
      "0  rounds\n",
      "0  rounds\n",
      "0  rounds\n",
      "0  rounds\n"
     ]
    },
    {
     "name": "stderr",
     "output_type": "stream",
     "text": [
      "\r",
      " 86%|█████████████████████████████████████████████████████████████████████▏          | 173/200 [01:08<00:01, 22.53it/s]"
     ]
    },
    {
     "name": "stdout",
     "output_type": "stream",
     "text": [
      "0  rounds\n",
      "0  rounds\n",
      "0  rounds\n",
      "0  rounds\n",
      "0  rounds\n"
     ]
    },
    {
     "name": "stderr",
     "output_type": "stream",
     "text": [
      " 90%|███████████████████████████████████████████████████████████████████████▌        | 179/200 [01:08<00:00, 22.57it/s]"
     ]
    },
    {
     "name": "stdout",
     "output_type": "stream",
     "text": [
      "0  rounds\n",
      "0  rounds\n",
      "0  rounds\n",
      "0  rounds\n",
      "0  rounds\n"
     ]
    },
    {
     "name": "stderr",
     "output_type": "stream",
     "text": [
      " 92%|██████████████████████████████████████████████████████████████████████████      | 185/200 [01:09<00:00, 21.95it/s]"
     ]
    },
    {
     "name": "stdout",
     "output_type": "stream",
     "text": [
      "0  rounds\n",
      "0  rounds\n",
      "0  rounds\n",
      "0  rounds\n",
      "0  rounds\n"
     ]
    },
    {
     "name": "stderr",
     "output_type": "stream",
     "text": [
      "\r",
      " 94%|███████████████████████████████████████████████████████████████████████████▏    | 188/200 [01:09<00:00, 22.00it/s]"
     ]
    },
    {
     "name": "stdout",
     "output_type": "stream",
     "text": [
      "0  rounds\n",
      "0  rounds\n",
      "0  rounds\n",
      "0  rounds\n",
      "0  rounds\n"
     ]
    },
    {
     "name": "stderr",
     "output_type": "stream",
     "text": [
      " 97%|█████████████████████████████████████████████████████████████████████████████▌  | 194/200 [01:09<00:00, 21.55it/s]"
     ]
    },
    {
     "name": "stdout",
     "output_type": "stream",
     "text": [
      "0  rounds\n",
      "0  rounds\n",
      "0  rounds\n",
      "0  rounds\n"
     ]
    },
    {
     "name": "stderr",
     "output_type": "stream",
     "text": [
      "\r",
      " 98%|██████████████████████████████████████████████████████████████████████████████▊ | 197/200 [01:09<00:00, 20.99it/s]"
     ]
    },
    {
     "name": "stdout",
     "output_type": "stream",
     "text": [
      "0  rounds\n",
      "0  rounds\n",
      "0  rounds\n",
      "0  rounds\n"
     ]
    },
    {
     "name": "stderr",
     "output_type": "stream",
     "text": [
      "100%|████████████████████████████████████████████████████████████████████████████████| 200/200 [01:09<00:00,  2.86it/s]"
     ]
    },
    {
     "name": "stdout",
     "output_type": "stream",
     "text": [
      "0  rounds\n",
      "0  rounds\n"
     ]
    },
    {
     "name": "stderr",
     "output_type": "stream",
     "text": [
      "\n"
     ]
    }
   ],
   "source": [
    "test_final_offer_list = []\n",
    "for index,row in tqdm(x_test.iterrows(),total=x_test.shape[0]):\n",
    "    vcpu=row['vcpu']\n",
    "    ram=row['ram']\n",
    "    volume=row['volume']    \n",
    "    client_requirement = [vcpu, ram, volume]\n",
    "    steps,vcpu,ram,volume,\\\n",
    "    vcpu_avg_old,ram_avg_old,volume_avg_old,total_fee_old,\\\n",
    "    avg_vcpu,avg_ram,avg_volume,total_fee,\\\n",
    "    final_offer = negotiation_client_bool(client_requirement)\n",
    "    final_offer_dict = {'final_vcpu':final_offer[0], 'final_ram':final_offer[1], 'final_volume':final_offer[2]}\n",
    "    test_final_offer_list.append(final_offer_dict)\n",
    "y_test = pd.DataFrame(test_final_offer_list)"
   ]
  },
  {
   "cell_type": "code",
   "execution_count": 10,
   "metadata": {},
   "outputs": [],
   "source": [
    "y_test.to_csv('./data/offer_ML/v0_y_test_200_v1.csv')"
   ]
  },
  {
   "cell_type": "markdown",
   "metadata": {},
   "source": [
    "## Train size = 10000"
   ]
  },
  {
   "cell_type": "code",
   "execution_count": 18,
   "metadata": {},
   "outputs": [],
   "source": [
    "x_train_104 = pd.read_csv('./data/offer_ML/x_train_104_v1.csv',index_col=0).reset_index(drop=True)"
   ]
  },
  {
   "cell_type": "code",
   "execution_count": 19,
   "metadata": {},
   "outputs": [
    {
     "name": "stderr",
     "output_type": "stream",
     "text": [
      "100%|████████████████████████████████████████████████████████████████████████████| 10000/10000 [55:10<00:00,  3.02it/s]\n"
     ]
    }
   ],
   "source": [
    "train_final_offer_list = []\n",
    "for index,row in tqdm(x_train_104.iterrows(),total=x_train_104.shape[0]):\n",
    "    vcpu=row['vcpu']\n",
    "    ram=row['ram']\n",
    "    volume=row['volume']    \n",
    "    client_requirement = [vcpu, ram, volume]\n",
    "    steps,vcpu,ram,volume,\\\n",
    "    vcpu_avg_old,ram_avg_old,volume_avg_old,total_fee_old,\\\n",
    "    avg_vcpu,avg_ram,avg_volume,total_fee,\\\n",
    "    final_offer = negotiation_client_bool(client_requirement)\n",
    "    final_offer_dict = {'final_vcpu':final_offer[0], 'final_ram':final_offer[1], 'final_volume':final_offer[2]}\n",
    "    train_final_offer_list.append(final_offer_dict)\n",
    "y_train_104 = pd.DataFrame(train_final_offer_list)"
   ]
  },
  {
   "cell_type": "code",
   "execution_count": 20,
   "metadata": {},
   "outputs": [],
   "source": [
    "y_train_104.to_csv('./data/offer_ML/v0_y_train_104_v1.csv')"
   ]
  },
  {
   "cell_type": "code",
   "execution_count": 83,
   "metadata": {},
   "outputs": [
    {
     "data": {
      "image/png": "[encoded data removed]",
      "text/plain": [
       "<Figure size 432x288 with 1 Axes>"
      ]
     },
     "metadata": {
      "needs_background": "light"
     },
     "output_type": "display_data"
    }
   ],
   "source": [
    "visualize_parameter(steps,vcpu,client_requirement[0],'vcpu')"
   ]
  },
  {
   "cell_type": "code",
   "execution_count": 84,
   "metadata": {},
   "outputs": [
    {
     "data": {
      "image/png": "[encoded data removed]",
      "text/plain": [
       "<Figure size 432x288 with 1 Axes>"
      ]
     },
     "metadata": {
      "needs_background": "light"
     },
     "output_type": "display_data"
    }
   ],
   "source": [
    "visualize_parameter(steps,ram,client_requirement[1],'ram')"
   ]
  },
  {
   "cell_type": "code",
   "execution_count": 85,
   "metadata": {},
   "outputs": [
    {
     "data": {
      "image/png": "[encoded data removed]",
      "text/plain": [
       "<Figure size 432x288 with 1 Axes>"
      ]
     },
     "metadata": {
      "needs_background": "light"
     },
     "output_type": "display_data"
    }
   ],
   "source": [
    "visualize_parameter(steps,volume,client_requirement[2],'volume')"
   ]
  },
  {
   "cell_type": "code",
   "execution_count": null,
   "metadata": {},
   "outputs": [],
   "source": []
  }
 ],
 "metadata": {
  "kernelspec": {
   "display_name": "Python 3",
   "language": "python",
   "name": "python3"
  },
  "language_info": {
   "codemirror_mode": {
    "name": "ipython",
    "version": 3
   },
   "file_extension": ".py",
   "mimetype": "text/x-python",
   "name": "python",
   "nbconvert_exporter": "python",
   "pygments_lexer": "ipython3",
   "version": "3.8.3"
  }
 },
 "nbformat": 4,
 "nbformat_minor": 5
}
