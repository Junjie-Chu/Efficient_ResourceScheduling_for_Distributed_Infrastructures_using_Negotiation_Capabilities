{
 "cells": [
  {
   "cell_type": "code",
   "execution_count": 1,
   "metadata": {},
   "outputs": [
    {
     "name": "stdout",
     "output_type": "stream",
     "text": [
      "Collecting scikit-fuzzy\n",
      "Successfully installed scikit-fuzzy-0.4.2\n"
     ]
    }
   ],
   "source": [
    "!pip3 install -U scikit-fuzzy"
   ]
  },
  {
   "cell_type": "code",
   "execution_count": 1,
   "metadata": {},
   "outputs": [],
   "source": [
    "import random\n",
    "import time\n",
    "from tqdm import tqdm\n",
    "import numpy as np\n",
    "import pandas as pd\n",
    "import skfuzzy as fuzz\n",
    "from skfuzzy import control as ctrl\n",
    "import matplotlib.pyplot as plt"
   ]
  },
  {
   "cell_type": "code",
   "execution_count": 2,
   "metadata": {},
   "outputs": [],
   "source": [
    "# the simulated price table\n",
    "# VCPU \n",
    "# 0-10: 0.2€/st 1 month\n",
    "# 11-30: 0.1\n",
    "# 31-90: 0.05\n",
    "# RAM \n",
    "# 0-20: 0.1€/per GB month\n",
    "# 21-60: 0.05\n",
    "# 61-180: 0.025\n",
    "# VOLUME：\n",
    "# 0-100：0.02€/per GB 1 month\n",
    "# 101-300：0.01€/per GB 1 month\n",
    "# 301-900：0.005€/per GB 1 month"
   ]
  },
  {
   "cell_type": "code",
   "execution_count": 3,
   "metadata": {},
   "outputs": [],
   "source": [
    "def visualize_parameter(x_range,y_range,requirement,ylabel):\n",
    "    plt.figure(figsize=[15, 5])\n",
    "    x = x_range\n",
    "    y = y_range\n",
    "    x_diff = x_range[-1] - x_range[0]\n",
    "    plt.xlim((x_range[0]-0.1*x_diff, x_range[-1]+0.1*x_diff))\n",
    "    l1 = plt.plot(x, y, color='b',marker='o',linestyle='dashed',label='Provider proposal')\n",
    "    #plt.axis([-5, x_range[-1]+5, requirement-10,  y_range[0]+10])\n",
    "    plt.xlabel('round')\n",
    "    plt.ylabel(ylabel)\n",
    "    y_requirement = [requirement]*len(x_range)\n",
    "    l2 = plt.plot(x, y_requirement, color='r',linestyle='dashed',label='Client requirement')\n",
    "    plt.annotate('Last offer', xy=(x_range[-1],y_range[-1]), xytext=(x_range[-1],y_range[-1]-(y_range[0]-y_range[-1])*0.2),\n",
    "            arrowprops=dict(facecolor='black',width=0.5, headwidth=7, shrink=0.005),\n",
    "            )\n",
    "    plt.legend()\n",
    "    plt.show()"
   ]
  },
  {
   "cell_type": "code",
   "execution_count": 4,
   "metadata": {},
   "outputs": [],
   "source": [
    "# Class for provider\n",
    "class provider_base:\n",
    "    min_change = [1, 1, 10]\n",
    "    # input the initial number of vcpu,ram,volume\n",
    "    def __init__(self, n_vcpu0 = 0, n_ram0 = 0, n_volume0 = 0):\n",
    "        self.n_vcpu0 = n_vcpu0\n",
    "        self.n_ram0 = n_ram0\n",
    "        self.n_volume0 = n_volume0\n",
    "        \n",
    "    # Functions for controlling the value range of issues\n",
    "    def vcpu_range(self,n):\n",
    "        n_initial = 0\n",
    "        if 0 < n <= 10:\n",
    "            n_initial = 10+n\n",
    "        elif 11 <= n <= 30:\n",
    "            n_initial = 30+n\n",
    "        elif 31 <= n <= 90:\n",
    "            n_initial = n\n",
    "        else:\n",
    "            print('Out of Range!')\n",
    "            return -1\n",
    "        return n_initial\n",
    "\n",
    "    def ram_range(self,n):\n",
    "        n_initial = 0\n",
    "        if 0 < n <= 20:\n",
    "            n_initial = 20+n\n",
    "        elif 21 <= n <= 60:\n",
    "            n_initial = 60+n\n",
    "        elif 61 <= n <= 180:\n",
    "            n_initial = n\n",
    "        else:\n",
    "            print('Out of Range!')\n",
    "            return -1\n",
    "        return n_initial\n",
    "\n",
    "    def volume_range(self,n):\n",
    "        n_initial = 0\n",
    "        if 0 < n <= 100:\n",
    "            n_initial = 100+n\n",
    "        elif 101 <= n <= 300:\n",
    "            n_initial = 300+n\n",
    "        elif 301 <= n <= 900:\n",
    "            n_initial = n\n",
    "        else:\n",
    "            print('Out of Range!')\n",
    "            return -1\n",
    "        return n_initial\n",
    "\n",
    "    def initial_offer(self,client_requirement):\n",
    "        n_vcpu0 = self.vcpu_range(client_requirement[0])\n",
    "        n_ram0 = self.ram_range(client_requirement[1])\n",
    "        n_volume0 = self.volume_range(client_requirement[2])\n",
    "        return n_vcpu0,n_ram0,n_volume0\n",
    "    \n",
    "    def compute_ratio(self,client_requirement):\n",
    "        ratio = [int(i/client_requirement[0]) for i in client_requirement]\n",
    "        times1round_vcpu = int(ratio[0]/provider_base.min_change[0])\n",
    "        times1round_ram = int(ratio[1]/provider_base.min_change[1])\n",
    "        times1round_volume = int(ratio[2]/provider_base.min_change[2])\n",
    "        times1round = times1round_vcpu+times1round_ram+times1round_volume\n",
    "        \n",
    "        return times1round_vcpu,times1round_ram,times1round_volume,times1round\n",
    "               \n",
    "    def update_offer(self,times1round_vcpu,times1round_ram,times1round_volume,times1round,\n",
    "                     n_vcpu0,n_ram0,n_volume0,\n",
    "                     client_requirement,client_advice):\n",
    "        if client_advice == 'random':\n",
    "            # like random gradient decent\n",
    "            rand_int = random.randint(1,times1round)\n",
    "            t1 = times1round_vcpu\n",
    "            t2 = t1+times1round_ram\n",
    "            t3 = t2+times1round_volume\n",
    "\n",
    "            if 1<=rand_int<=t1:\n",
    "                if n_vcpu0 > client_requirement[0]:\n",
    "                    n_vcpu0=n_vcpu0-provider_base.min_change[0]\n",
    "                elif n_ram0 > client_requirement[1]:\n",
    "                    n_ram0=n_ram0-provider_base.min_change[1]\n",
    "                elif n_volume0 > client_requirement[2]:\n",
    "                    n_volume0=n_volume0-provider_base.min_change[2]\n",
    "\n",
    "            elif t1+1<=rand_int<=t2:\n",
    "                if n_ram0 > client_requirement[1]:\n",
    "                    n_ram0=n_ram0-provider_base.min_change[1]\n",
    "                elif n_volumcjj19e0 > client_requirement[2]:\n",
    "                    n_volume0=n_volume0-provider_base.min_change[2]\n",
    "                elif n_vcpu0 > client_requirement[0]:\n",
    "                    n_vcpu0=n_vcpu0-provider_base.min_change[0]\n",
    "\n",
    "            elif t2+1<=rand_int<=t3:\n",
    "                if n_volume0 > client_requirement[2]:\n",
    "                    n_volume0=n_volume0-provider_base.min_change[2]\n",
    "                elif n_vcpu0 > client_requirement[0]:\n",
    "                    n_vcpu0=n_vcpu0-provider_base.min_change[0]\n",
    "                elif n_ram0 > client_requirement[1]:\n",
    "                    n_ram0=n_ram0-provider_base.min_change[1]\n",
    "        else:\n",
    "            if client_advice == 'vcpu':\n",
    "                n_vcpu0=n_vcpu0-provider_base.min_change[0]\n",
    "                #print('reduce vcpu')\n",
    "            elif client_advice == 'ram':\n",
    "                n_ram0=n_ram0-provider_base.min_change[1]\n",
    "                #print('reduce ram')\n",
    "            elif client_advice == 'volume':\n",
    "                n_volume0=n_volume0-provider_base.min_change[2]\n",
    "                #print('reduce volume')\n",
    "            else:\n",
    "                print('Wrong!')\n",
    "                return -1\n",
    "            \n",
    "        return n_vcpu0,n_ram0,n_volume0        "
   ]
  },
  {
   "cell_type": "code",
   "execution_count": 5,
   "metadata": {},
   "outputs": [],
   "source": [
    "# Class for client\n",
    "class client_base:\n",
    "    def __init__(self, client_requirement):\n",
    "        self.requirement = client_requirement\n",
    "              \n",
    "    def compute_fee(self, p1, p2, p3, t1, t2, n):\n",
    "        fee = 0\n",
    "        if 0 < n <= t1:\n",
    "            fee = p1*n\n",
    "        elif t1 < n <= t2:\n",
    "            fee = p1*t1+p2*(n-t1)\n",
    "        elif t2 < n :\n",
    "            fee = p1*t1+p2*(t2-t1)+p3*(n-t2)\n",
    "        else:\n",
    "            print('Out of Range!')\n",
    "            return -1\n",
    "        return fee\n",
    "    \n",
    "    def compute_avg_price(self, fee, num):\n",
    "        return fee/num\n",
    "    \n",
    "    def compute_total_fee(self, f1, f2, f3):\n",
    "        return f1+f2+f3\n",
    "    \n",
    "    def scale2one_avg(self, obj, old, new):\n",
    "        ratio = new/old\n",
    "        # the avg price ratio\n",
    "        # new/old: the cheaper, the better\n",
    "        # ratio: close to 0 is better, close to 1 is worse\n",
    "        if obj == 'avg':\n",
    "            return ratio\n",
    "        # the total fee ratio\n",
    "        # new total fee is always larger than old total fee\n",
    "        # ratio is larger than 1, the larger the worse\n",
    "        # the reciproval is between o and 1. the closer to 0, the worse\n",
    "        # the closer to 1, the better\n",
    "        elif obj == 'total':\n",
    "            return 1/ratio\n",
    "    \n",
    "    def related_fee(self, client_requirement = None):\n",
    "        \n",
    "        if client_requirement == None:\n",
    "            client_requirement = self.requirement\n",
    "            \n",
    "        vcpu_fee_r = self.compute_fee(0.2,0.1,0.05,10,30,client_requirement[0])\n",
    "        vcpu_avg_r = self.compute_avg_price(vcpu_fee_r,client_requirement[0])\n",
    "        ram_fee_r = self.compute_fee(0.1,0.05,0.025,20,60,client_requirement[1])\n",
    "        ram_avg_r = self.compute_avg_price(ram_fee_r,client_requirement[1])\n",
    "        volume_fee_r = self.compute_fee(0.02,0.01,0.005,100,300,client_requirement[2])\n",
    "        volume_avg_r = self.compute_avg_price(volume_fee_r,client_requirement[2])\n",
    "        total_fee_r = vcpu_fee_r+ram_fee_r+volume_fee_r\n",
    "        return vcpu_avg_r,ram_avg_r,volume_avg_r,total_fee_r\n",
    "    \n",
    "    def fuzzy_decision(self):\n",
    "        # Fuzzy logic\n",
    "\n",
    "        # New Antecedent/Consequent objects hold universe variables and membership functions\n",
    "        avg_vcpu = ctrl.Antecedent(np.arange(0, 11, 0.001), 'avg_vcpu')\n",
    "        avg_ram = ctrl.Antecedent(np.arange(0, 11, 0.001), 'avg_ram')\n",
    "        avg_volume = ctrl.Antecedent(np.arange(0, 11, 0.001), 'avg_volume')\n",
    "        total_fee = ctrl.Antecedent(np.arange(0, 11, 0.001), 'total_fee')\n",
    "\n",
    "        tendency = ctrl.Consequent(np.arange(0, 101, 0.01), 'tendency')\n",
    "\n",
    "        # Auto-membership function population is possible with .automf(3, 5, or 7)\n",
    "        # poor average good, automatically\n",
    "        names_avg = ['cheap','medium','expensive']\n",
    "        avg_vcpu.automf(names = names_avg)\n",
    "        avg_ram.automf(names = names_avg)\n",
    "        avg_volume.automf(names = names_avg)\n",
    "\n",
    "        names_total = ['high','medium','low']\n",
    "        total_fee.automf(names = names_total)\n",
    "\n",
    "        # Custom membership functions can be built interactively with a familiar,\n",
    "        # Pythonic API\n",
    "        tendency['low'] = fuzz.trimf(tendency.universe, [0, 0, 50])\n",
    "        tendency['medium'] = fuzz.trimf(tendency.universe, [0, 50, 100])\n",
    "        tendency['high'] = fuzz.trimf(tendency.universe, [50, 100, 100])\n",
    "        \n",
    "        # Rules\n",
    "        rule1 = ctrl.Rule(total_fee['high'], tendency['low'])\n",
    "        rule2 = ctrl.Rule(total_fee['medium'], tendency['medium'])\n",
    "        rule3 = ctrl.Rule(total_fee['low'], tendency['high'])\n",
    "        rule4 = ctrl.Rule(avg_vcpu['cheap']&avg_volume['cheap']&avg_ram['cheap'], tendency['high'])\n",
    "        rule5 = ctrl.Rule(avg_vcpu['expensive'], tendency['medium'])\n",
    "        rule6 = ctrl.Rule(avg_ram['expensive'], tendency['medium'])\n",
    "        rule7 = ctrl.Rule(avg_volume['expensive'], tendency['medium'])\n",
    "        \n",
    "        # Fuzzy decision simulation\n",
    "        decision_ctrl = ctrl.ControlSystem([rule1, rule2, rule3, rule4, rule5, rule6, rule7])\n",
    "        decision = ctrl.ControlSystemSimulation(decision_ctrl)\n",
    "        \n",
    "        return decision\n",
    "    \n",
    "    def advice(self, offer, client_requirement, threshold):\n",
    "        # we would like to keep the original ratio\n",
    "        # if the offer ratio is the same as the requirement\n",
    "        # the following ratio should be the same\n",
    "        vcpu_ratio = offer[0]/client_requirement[0]\n",
    "        ram_ratio = offer[1]/client_requirement[1]\n",
    "        volume_ratio = offer[2]/client_requirement[2]\n",
    "        ratio_dict ={'vcpu':vcpu_ratio, 'ram':ram_ratio, 'volume':volume_ratio}\n",
    "        max_item = max(ratio_dict, key=ratio_dict.get)\n",
    "        min_item = min(ratio_dict, key=ratio_dict.get)\n",
    "        difference_ratio = ratio_dict[max_item]/ratio_dict[min_item]\n",
    "        if difference_ratio > threshold:\n",
    "            return max_item\n",
    "        else:\n",
    "            return 'random'"
   ]
  },
  {
   "cell_type": "markdown",
   "metadata": {},
   "source": [
    "# The simulated price table\n",
    "## VCPU \n",
    "0-10: 0.2€/st 1 day  \n",
    "11-30: 0.1  \n",
    "31-90: 0.05  \n",
    "## RAM \n",
    "0-20: 0.1€/per GB day  \n",
    "21-60: 0.05  \n",
    "61-180: 0.025  \n",
    "## VOLUME：\n",
    "0-100：0.02€/per GB 1 day  \n",
    "101-300：0.01€/per GB 1 day  \n",
    "301-900：0.005€/per GB 1 day  "
   ]
  },
  {
   "cell_type": "code",
   "execution_count": 6,
   "metadata": {},
   "outputs": [],
   "source": [
    "# Negotiation\n",
    "\n",
    "# order: CPU-st, RAM-GB, VOLUME-GB\n",
    "# client_requirement = [15, 30, 225] \n",
    "def negotiation_client_advice(client_requirement):\n",
    "    \n",
    "    # Client\n",
    "    client = client_base(client_requirement)\n",
    "    client_decision = client.fuzzy_decision()\n",
    "    # Provider\n",
    "    provider = provider_base()\n",
    "    offer = provider.initial_offer(client_requirement)\n",
    "    times1round_vcpu,times1round_ram,times1round_volume,times1round = provider.compute_ratio(client_requirement)\n",
    "\n",
    "    # Original price, i.e. baseline\n",
    "    vcpu_avg_old,ram_avg_old,volume_avg_old,total_fee_old = client.related_fee()\n",
    "    #print('*********************************************************************')\n",
    "    #print('Client requirement: ', client_requirement)\n",
    "    #print('vcpu_avg_price: %f, ram_avg_price: %f, volume_avg_price: %f'%(vcpu_avg_old,ram_avg_old,volume_avg_old))\n",
    "    #print('total_fee: %f'%total_fee_old)\n",
    "    #print('*********************************************************************')\n",
    "    # For plotting\n",
    "    steps = [];vcpu = [];ram = [];volume = [];avg_vcpu = [];avg_ram = [];avg_volume = [];total_fee = []\n",
    "    #print('Provider first offer: ',offer)\n",
    "    max_rounds = 120\n",
    "    i = 0;\n",
    "    while True:\n",
    "        steps.append(i)\n",
    "        vcpu.append(offer[0])\n",
    "        ram.append(offer[1])\n",
    "        volume.append(offer[2])\n",
    "        # New fees\n",
    "        vcpu_avg_new,ram_avg_new,volume_avg_new,total_fee_new = client.related_fee(offer)\n",
    "        avg_vcpu.append(vcpu_avg_new);avg_ram.append(ram_avg_new);avg_volume.append(volume_avg_new);total_fee.append(total_fee_new)\n",
    "        # input of fuzzy system\n",
    "        input_avg_vcpu = 10*client.scale2one_avg('avg', vcpu_avg_old, vcpu_avg_new)\n",
    "        input_avg_ram = 10*client.scale2one_avg('avg', ram_avg_old, ram_avg_new)\n",
    "        input_avg_volume = 10*client.scale2one_avg('avg', volume_avg_old, volume_avg_new)\n",
    "        input_total_fee = 10*client.scale2one_avg('total', total_fee_old, total_fee_new)\n",
    "        dict_of_data = {'avg_vcpu':input_avg_vcpu,'avg_ram':input_avg_ram,'avg_volume':input_avg_volume,'total_fee':input_total_fee}\n",
    "        #dict_of_data = {'avg_vcpu':5,'avg_ram':5,'avg_volume':5,'total_fee':2}\n",
    "        #print(dict_of_data)\n",
    "\n",
    "        # Client makes decision\n",
    "        client_decision.inputs(dict_of_data)\n",
    "        # Crunch the numbers\n",
    "        client_decision.compute()\n",
    "        decision_score = client_decision.output['tendency']\n",
    "        #print('---------------------------------------------------------------')\n",
    "        #print('offer %d: '%i , offer, ' its score: ',decision_score)\n",
    "        #print('vcpu_avg_price: %f, ram_avg_price: %f, volume_avg_price: %f'%(vcpu_avg_new,ram_avg_new,volume_avg_new))\n",
    "        #print('total_fee: %f'%total_fee_new)\n",
    "        #print('---------------------------------------------------------------')\n",
    "\n",
    "        # if accepet\n",
    "        if decision_score >= 55:\n",
    "            final_offer = offer\n",
    "            #print('-*-*-*-*-*-*-*-*-*-*-*-*-*-*-*-*-*-*-*-*-*-*-*-*-*-*-*-*-*-*-*-*-*-*-*-*-*-*-*-')\n",
    "            #print('This final offer is ',final_offer)\n",
    "            #print('vcpu_avg_price: %f, ram_avg_price: %f, volume_avg_price: %f'%(vcpu_avg_new,ram_avg_new,volume_avg_new))\n",
    "            #print('total_fee: %f'%total_fee_new)\n",
    "            #print('-*-*-*-*-*-*-*-*-*-*-*-*-*-*-*-*-*-*-*-*-*-*-*-*-*-*-*-*-*-*-*-*-*-*-*-*-*-*-*-')\n",
    "            break\n",
    "        # if reject  \n",
    "        else:\n",
    "            if offer[0]>client_requirement[0] or offer[1]>client_requirement[1] or offer[2]>client_requirement[2]:\n",
    "                client_advice = client.advice(offer,client_requirement,1.05)\n",
    "                #print('client advice: ',client_advice)\n",
    "                #print('           ')\n",
    "                offer = provider.update_offer(times1round_vcpu,times1round_ram,times1round_volume,times1round,\n",
    "                                              offer[0],offer[1],offer[2],\n",
    "                                             client_requirement,client_advice)\n",
    "                #print(offer)\n",
    "            else:\n",
    "                final_offer = offer\n",
    "                #print('Round:',i,'break!')\n",
    "                #print('Last offer: ' , offer, ' its score: ',decision_score)\n",
    "                #print('vcpu_avg_price: %f, ram_avg_price: %f, volume_avg_price: %f'%(vcpu_avg_new,ram_avg_new,volume_avg_new))\n",
    "                #print('total_fee: %f'%total_fee_new) \n",
    "                break\n",
    "        i = i+1\n",
    "        if i > max_rounds:\n",
    "            final_offer = offer\n",
    "            #print('Round %d'%i,' . Reach the MAX round!')\n",
    "            #print('Last offer: ' , offer, ' its score: ',decision_score)\n",
    "            #print('vcpu_avg_price: %f, ram_avg_price: %f, volume_avg_price: %f'%(vcpu_avg_new,ram_avg_new,volume_avg_new))\n",
    "            #print('total_fee: %f'%total_fee_new)       \n",
    "            break\n",
    "    return steps,vcpu,ram,volume,vcpu_avg_old,ram_avg_old,volume_avg_old,total_fee_old,avg_vcpu,avg_ram,avg_volume,total_fee,final_offer\n"
   ]
  },
  {
   "cell_type": "markdown",
   "metadata": {},
   "source": [
    "# Generate test data set"
   ]
  },
  {
   "cell_type": "code",
   "execution_count": 7,
   "metadata": {},
   "outputs": [],
   "source": [
    "random.seed(19260817)\n",
    "x_test = pd.read_csv('./data/offer_ML/x_test_200_v1.csv',index_col=0).reset_index(drop=True)"
   ]
  },
  {
   "cell_type": "code",
   "execution_count": 8,
   "metadata": {},
   "outputs": [
    {
     "name": "stderr",
     "output_type": "stream",
     "text": [
      "100%|████████████████████████████████████████████████████████████████████████████████| 200/200 [01:12<00:00,  2.75it/s]\n"
     ]
    }
   ],
   "source": [
    "test_final_offer_list = []\n",
    "for index,row in tqdm(x_test.iterrows(),total=x_test.shape[0]):\n",
    "    vcpu=row['vcpu']\n",
    "    ram=row['ram']\n",
    "    volume=row['volume']    \n",
    "    client_requirement = [vcpu, ram, volume]\n",
    "    steps,vcpu,ram,volume,\\\n",
    "    vcpu_avg_old,ram_avg_old,volume_avg_old,total_fee_old,\\\n",
    "    avg_vcpu,avg_ram,avg_volume,total_fee,\\\n",
    "    final_offer = negotiation_client_advice(client_requirement)\n",
    "    final_offer_dict = {'final_vcpu':final_offer[0], 'final_ram':final_offer[1], 'final_volume':final_offer[2]}\n",
    "    test_final_offer_list.append(final_offer_dict)\n",
    "y_test = pd.DataFrame(test_final_offer_list)"
   ]
  },
  {
   "cell_type": "code",
   "execution_count": 9,
   "metadata": {},
   "outputs": [
    {
     "data": {
      "text/html": [
       "<div>\n",
       "<style scoped>\n",
       "    .dataframe tbody tr th:only-of-type {\n",
       "        vertical-align: middle;\n",
       "    }\n",
       "\n",
       "    .dataframe tbody tr th {\n",
       "        vertical-align: top;\n",
       "    }\n",
       "\n",
       "    .dataframe thead th {\n",
       "        text-align: right;\n",
       "    }\n",
       "</style>\n",
       "<table border=\"1\" class=\"dataframe\">\n",
       "  <thead>\n",
       "    <tr style=\"text-align: right;\">\n",
       "      <th></th>\n",
       "      <th>final_vcpu</th>\n",
       "      <th>final_ram</th>\n",
       "      <th>final_volume</th>\n",
       "    </tr>\n",
       "  </thead>\n",
       "  <tbody>\n",
       "    <tr>\n",
       "      <th>0</th>\n",
       "      <td>8</td>\n",
       "      <td>43</td>\n",
       "      <td>400</td>\n",
       "    </tr>\n",
       "    <tr>\n",
       "      <th>1</th>\n",
       "      <td>9</td>\n",
       "      <td>44</td>\n",
       "      <td>280</td>\n",
       "    </tr>\n",
       "    <tr>\n",
       "      <th>2</th>\n",
       "      <td>12</td>\n",
       "      <td>92</td>\n",
       "      <td>400</td>\n",
       "    </tr>\n",
       "    <tr>\n",
       "      <th>3</th>\n",
       "      <td>11</td>\n",
       "      <td>96</td>\n",
       "      <td>320</td>\n",
       "    </tr>\n",
       "    <tr>\n",
       "      <th>4</th>\n",
       "      <td>12</td>\n",
       "      <td>102</td>\n",
       "      <td>520</td>\n",
       "    </tr>\n",
       "    <tr>\n",
       "      <th>...</th>\n",
       "      <td>...</td>\n",
       "      <td>...</td>\n",
       "      <td>...</td>\n",
       "    </tr>\n",
       "    <tr>\n",
       "      <th>195</th>\n",
       "      <td>47</td>\n",
       "      <td>122</td>\n",
       "      <td>660</td>\n",
       "    </tr>\n",
       "    <tr>\n",
       "      <th>196</th>\n",
       "      <td>47</td>\n",
       "      <td>138</td>\n",
       "      <td>700</td>\n",
       "    </tr>\n",
       "    <tr>\n",
       "      <th>197</th>\n",
       "      <td>47</td>\n",
       "      <td>164</td>\n",
       "      <td>720</td>\n",
       "    </tr>\n",
       "    <tr>\n",
       "      <th>198</th>\n",
       "      <td>48</td>\n",
       "      <td>111</td>\n",
       "      <td>820</td>\n",
       "    </tr>\n",
       "    <tr>\n",
       "      <th>199</th>\n",
       "      <td>48</td>\n",
       "      <td>144</td>\n",
       "      <td>690</td>\n",
       "    </tr>\n",
       "  </tbody>\n",
       "</table>\n",
       "<p>200 rows × 3 columns</p>\n",
       "</div>"
      ],
      "text/plain": [
       "     final_vcpu  final_ram  final_volume\n",
       "0             8         43           400\n",
       "1             9         44           280\n",
       "2            12         92           400\n",
       "3            11         96           320\n",
       "4            12        102           520\n",
       "..          ...        ...           ...\n",
       "195          47        122           660\n",
       "196          47        138           700\n",
       "197          47        164           720\n",
       "198          48        111           820\n",
       "199          48        144           690\n",
       "\n",
       "[200 rows x 3 columns]"
      ]
     },
     "execution_count": 9,
     "metadata": {},
     "output_type": "execute_result"
    }
   ],
   "source": [
    "y_test"
   ]
  },
  {
   "cell_type": "code",
   "execution_count": 10,
   "metadata": {},
   "outputs": [
    {
     "data": {
      "text/html": [
       "<div>\n",
       "<style scoped>\n",
       "    .dataframe tbody tr th:only-of-type {\n",
       "        vertical-align: middle;\n",
       "    }\n",
       "\n",
       "    .dataframe tbody tr th {\n",
       "        vertical-align: top;\n",
       "    }\n",
       "\n",
       "    .dataframe thead th {\n",
       "        text-align: right;\n",
       "    }\n",
       "</style>\n",
       "<table border=\"1\" class=\"dataframe\">\n",
       "  <thead>\n",
       "    <tr style=\"text-align: right;\">\n",
       "      <th></th>\n",
       "      <th>vcpu</th>\n",
       "      <th>ram</th>\n",
       "      <th>volume</th>\n",
       "    </tr>\n",
       "  </thead>\n",
       "  <tbody>\n",
       "    <tr>\n",
       "      <th>0</th>\n",
       "      <td>5</td>\n",
       "      <td>25</td>\n",
       "      <td>400</td>\n",
       "    </tr>\n",
       "    <tr>\n",
       "      <th>1</th>\n",
       "      <td>7</td>\n",
       "      <td>35</td>\n",
       "      <td>220</td>\n",
       "    </tr>\n",
       "    <tr>\n",
       "      <th>2</th>\n",
       "      <td>7</td>\n",
       "      <td>54</td>\n",
       "      <td>400</td>\n",
       "    </tr>\n",
       "    <tr>\n",
       "      <th>3</th>\n",
       "      <td>7</td>\n",
       "      <td>56</td>\n",
       "      <td>320</td>\n",
       "    </tr>\n",
       "    <tr>\n",
       "      <th>4</th>\n",
       "      <td>7</td>\n",
       "      <td>56</td>\n",
       "      <td>520</td>\n",
       "    </tr>\n",
       "    <tr>\n",
       "      <th>...</th>\n",
       "      <td>...</td>\n",
       "      <td>...</td>\n",
       "      <td>...</td>\n",
       "    </tr>\n",
       "    <tr>\n",
       "      <th>195</th>\n",
       "      <td>47</td>\n",
       "      <td>122</td>\n",
       "      <td>660</td>\n",
       "    </tr>\n",
       "    <tr>\n",
       "      <th>196</th>\n",
       "      <td>47</td>\n",
       "      <td>138</td>\n",
       "      <td>700</td>\n",
       "    </tr>\n",
       "    <tr>\n",
       "      <th>197</th>\n",
       "      <td>47</td>\n",
       "      <td>164</td>\n",
       "      <td>720</td>\n",
       "    </tr>\n",
       "    <tr>\n",
       "      <th>198</th>\n",
       "      <td>48</td>\n",
       "      <td>111</td>\n",
       "      <td>820</td>\n",
       "    </tr>\n",
       "    <tr>\n",
       "      <th>199</th>\n",
       "      <td>48</td>\n",
       "      <td>144</td>\n",
       "      <td>690</td>\n",
       "    </tr>\n",
       "  </tbody>\n",
       "</table>\n",
       "<p>200 rows × 3 columns</p>\n",
       "</div>"
      ],
      "text/plain": [
       "     vcpu  ram  volume\n",
       "0       5   25     400\n",
       "1       7   35     220\n",
       "2       7   54     400\n",
       "3       7   56     320\n",
       "4       7   56     520\n",
       "..    ...  ...     ...\n",
       "195    47  122     660\n",
       "196    47  138     700\n",
       "197    47  164     720\n",
       "198    48  111     820\n",
       "199    48  144     690\n",
       "\n",
       "[200 rows x 3 columns]"
      ]
     },
     "execution_count": 10,
     "metadata": {},
     "output_type": "execute_result"
    }
   ],
   "source": [
    "x_test"
   ]
  },
  {
   "cell_type": "code",
   "execution_count": 11,
   "metadata": {},
   "outputs": [],
   "source": [
    "y_test.to_csv('./data/offer_ML/v1_y_test_200_v1.csv')"
   ]
  },
  {
   "cell_type": "markdown",
   "metadata": {},
   "source": [
    "## Train size = 10000"
   ]
  },
  {
   "cell_type": "code",
   "execution_count": 7,
   "metadata": {},
   "outputs": [],
   "source": [
    "x_train_104 = pd.read_csv('./data/offer_ML/x_train_104_v1.csv',index_col=0).reset_index(drop=True)"
   ]
  },
  {
   "cell_type": "code",
   "execution_count": 8,
   "metadata": {},
   "outputs": [
    {
     "name": "stderr",
     "output_type": "stream",
     "text": [
      "100%|██████████████████████████████████████████████████████████████████████████| 10000/10000 [1:06:24<00:00,  2.51it/s]\n"
     ]
    }
   ],
   "source": [
    "train_final_offer_list = []\n",
    "for index,row in tqdm(x_train_104.iterrows(),total=x_train_104.shape[0]):\n",
    "    vcpu=row['vcpu']\n",
    "    ram=row['ram']\n",
    "    volume=row['volume']    \n",
    "    client_requirement = [vcpu, ram, volume]\n",
    "    steps,vcpu,ram,volume,\\\n",
    "    vcpu_avg_old,ram_avg_old,volume_avg_old,total_fee_old,\\\n",
    "    avg_vcpu,avg_ram,avg_volume,total_fee,\\\n",
    "    final_offer = negotiation_client_advice(client_requirement)\n",
    "    final_offer_dict = {'final_vcpu':final_offer[0], 'final_ram':final_offer[1], 'final_volume':final_offer[2]}\n",
    "    train_final_offer_list.append(final_offer_dict)\n",
    "y_train_104 = pd.DataFrame(train_final_offer_list)"
   ]
  },
  {
   "cell_type": "code",
   "execution_count": 9,
   "metadata": {},
   "outputs": [],
   "source": [
    "y_train_104.to_csv('./data/offer_ML/v1_y_train_104_v1.csv')"
   ]
  },
  {
   "cell_type": "markdown",
   "metadata": {},
   "source": [
    "# Single test"
   ]
  },
  {
   "cell_type": "code",
   "execution_count": 7,
   "metadata": {},
   "outputs": [
    {
     "name": "stdout",
     "output_type": "stream",
     "text": [
      "time cost 1.1569054126739502 s\n"
     ]
    }
   ],
   "source": [
    "random.seed(19260817)\n",
    "vcpu = 10\n",
    "ram = 20\n",
    "volume = 200  \n",
    "client_requirement = [vcpu, ram, volume]\n",
    "time_start=time.time()\n",
    "steps,vcpu,ram,volume,\\\n",
    "vcpu_avg_old,ram_avg_old,volume_avg_old,total_fee_old,\\\n",
    "avg_vcpu,avg_ram,avg_volume,total_fee,\\\n",
    "final_offer = negotiation_client_advice(client_requirement)\n",
    "time_end=time.time()\n",
    "print('time cost',time_end-time_start,'s')"
   ]
  },
  {
   "cell_type": "code",
   "execution_count": 8,
   "metadata": {},
   "outputs": [
    {
     "data": {
      "text/plain": [
       "42"
      ]
     },
     "execution_count": 8,
     "metadata": {},
     "output_type": "execute_result"
    }
   ],
   "source": [
    "len(steps)"
   ]
  },
  {
   "cell_type": "code",
   "execution_count": 89,
   "metadata": {},
   "outputs": [
    {
     "data": {
      "image/png": "[encoded data removed]",
      "text/plain": [
       "<Figure size 1080x360 with 1 Axes>"
      ]
     },
     "metadata": {
      "needs_background": "light"
     },
     "output_type": "display_data"
    }
   ],
   "source": [
    "visualize_parameter(steps,vcpu,client_requirement[0],'vcpu')"
   ]
  },
  {
   "cell_type": "code",
   "execution_count": 88,
   "metadata": {},
   "outputs": [
    {
     "data": {
      "image/png": "[encoded data removed]",
      "text/plain": [
       "<Figure size 1080x360 with 1 Axes>"
      ]
     },
     "metadata": {
      "needs_background": "light"
     },
     "output_type": "display_data"
    }
   ],
   "source": [
    "visualize_parameter(steps,ram,client_requirement[1],'ram')"
   ]
  },
  {
   "cell_type": "code",
   "execution_count": 87,
   "metadata": {},
   "outputs": [
    {
     "data": {
      "image/png": "[encoded data removed]",
      "text/plain": [
       "<Figure size 1080x360 with 1 Axes>"
      ]
     },
     "metadata": {
      "needs_background": "light"
     },
     "output_type": "display_data"
    }
   ],
   "source": [
    "visualize_parameter(steps,volume,client_requirement[2],'volume')"
   ]
  }
 ],
 "metadata": {
  "kernelspec": {
   "display_name": "Python 3",
   "language": "python",
   "name": "python3"
  },
  "language_info": {
   "codemirror_mode": {
    "name": "ipython",
    "version": 3
   },
   "file_extension": ".py",
   "mimetype": "text/x-python",
   "name": "python",
   "nbconvert_exporter": "python",
   "pygments_lexer": "ipython3",
   "version": "3.8.3"
  }
 },
 "nbformat": 4,
 "nbformat_minor": 5
}
