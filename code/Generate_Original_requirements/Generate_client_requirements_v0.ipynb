{
 "cells": [
  {
   "cell_type": "code",
   "execution_count": 1,
   "metadata": {},
   "outputs": [],
   "source": [
    "import itertools as it\n",
    "import numpy as np\n",
    "import pandas as pd"
   ]
  },
  {
   "cell_type": "markdown",
   "metadata": {},
   "source": [
    "# Generate and save original client requirements"
   ]
  },
  {
   "cell_type": "code",
   "execution_count": 2,
   "metadata": {},
   "outputs": [],
   "source": [
    "up_bound = [90, 180, 900]\n",
    "min_change = [1, 1, 10]\n",
    "array_vcpu = np.arange(start=1,stop=up_bound[0]+1,step=min_change[0])\n",
    "array_ram = np.arange(start=1,stop=up_bound[1]+1,step=min_change[1])\n",
    "array_volume = np.arange(start=10,stop=up_bound[2]+1,step=min_change[2])"
   ]
  },
  {
   "cell_type": "code",
   "execution_count": 3,
   "metadata": {},
   "outputs": [],
   "source": [
    "rows_list = []\n",
    "client_requirements = it.product(array_vcpu,array_ram,array_volume)\n",
    "for element in client_requirements:\n",
    "    # ram>vcpu, storage>10vcpu, storage>10ram\n",
    "    if element[1]>=element[0] and element[2]>=10*element[0] and element[2]>=10*element[1]:\n",
    "        rows_dict = {'vcpu':element[0], 'ram':element[1], 'volume':element[2]}\n",
    "        rows_list.append(rows_dict)\n",
    "    else:\n",
    "        #print('pass')\n",
    "        continue\n",
    "        \n",
    "df_client_requirements = pd.DataFrame(rows_list)\n"
   ]
  },
  {
   "cell_type": "code",
   "execution_count": 4,
   "metadata": {},
   "outputs": [],
   "source": [
    "df_client_requirements.to_csv('./data/offer_ML/client_requirement.csv')"
   ]
  },
  {
   "cell_type": "markdown",
   "metadata": {},
   "source": [
    "# Read and create training/test client requirements"
   ]
  },
  {
   "cell_type": "code",
   "execution_count": 5,
   "metadata": {},
   "outputs": [],
   "source": [
    "df = pd.read_csv('./data/offer_ML/client_requirement.csv',index_col=0)"
   ]
  },
  {
   "cell_type": "code",
   "execution_count": 6,
   "metadata": {},
   "outputs": [],
   "source": [
    "# generate x test\n",
    "x_test = df.sample(n=200)\n",
    "# remove x test\n",
    "x_train = df.drop(x_test.index)"
   ]
  },
  {
   "cell_type": "code",
   "execution_count": 7,
   "metadata": {},
   "outputs": [],
   "source": [
    "x_train_104 = x_train.sample(random_state=19260817,n=10000)\n",
    "x_train_204 = x_train.sample(random_state=19260817,n=20000)\n",
    "x_train_404 = x_train.sample(random_state=19260817,n=40000)"
   ]
  },
  {
   "cell_type": "code",
   "execution_count": 8,
   "metadata": {},
   "outputs": [],
   "source": [
    "x_test.to_csv('./data/offer_ML/x_test_200.csv')\n",
    "x_train_104.to_csv('./data/offer_ML/x_train_104.csv')\n",
    "x_train_204.to_csv('./data/offer_ML/x_train_204.csv')\n",
    "x_train_404.to_csv('./data/offer_ML/x_train_404.csv')"
   ]
  }
 ],
 "metadata": {
  "kernelspec": {
   "display_name": "Python 3",
   "language": "python",
   "name": "python3"
  },
  "language_info": {
   "codemirror_mode": {
    "name": "ipython",
    "version": 3
   },
   "file_extension": ".py",
   "mimetype": "text/x-python",
   "name": "python",
   "nbconvert_exporter": "python",
   "pygments_lexer": "ipython3",
   "version": "3.8.3"
  }
 },
 "nbformat": 4,
 "nbformat_minor": 5
}
