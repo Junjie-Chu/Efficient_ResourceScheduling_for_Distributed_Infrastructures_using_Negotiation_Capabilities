{
 "cells": [
  {
   "cell_type": "code",
   "execution_count": 1,
   "metadata": {},
   "outputs": [],
   "source": [
    "import itertools as it\n",
    "import numpy as np\n",
    "import pandas as pd"
   ]
  },
  {
   "cell_type": "markdown",
   "metadata": {},
   "source": [
    "# Generate and save original client requirements"
   ]
  },
  {
   "cell_type": "code",
   "execution_count": 3,
   "metadata": {},
   "outputs": [],
   "source": [
    "up_bound = [90, 180, 900]\n",
    "min_change = [1, 1, 10]\n",
    "array_vcpu = np.arange(start=4,stop=up_bound[0]-42+1,step=min_change[0])\n",
    "array_ram = np.arange(start=1,stop=up_bound[1]+1,step=min_change[1])\n",
    "array_volume = np.arange(start=10,stop=up_bound[2]+1,step=min_change[2])"
   ]
  },
  {
   "cell_type": "code",
   "execution_count": 11,
   "metadata": {},
   "outputs": [],
   "source": [
    "rows_list = []\n",
    "client_requirements = it.product(array_vcpu,array_ram,array_volume)\n",
    "for element in client_requirements:\n",
    "    # ram>vcpu, storage>10vcpu, storage>10ram\n",
    "    if 8>=element[1]/element[0]>=2 and 80>=element[2]/element[0]>=10:\n",
    "        rows_dict = {'vcpu':element[0], 'ram':element[1], 'volume':element[2]}\n",
    "        rows_list.append(rows_dict)\n",
    "    else:\n",
    "        #print('pass')\n",
    "        continue\n",
    "        \n",
    "df_client_requirements = pd.DataFrame(rows_list)\n"
   ]
  },
  {
   "cell_type": "code",
   "execution_count": 12,
   "metadata": {},
   "outputs": [
    {
     "data": {
      "text/html": [
       "<div>\n",
       "<style scoped>\n",
       "    .dataframe tbody tr th:only-of-type {\n",
       "        vertical-align: middle;\n",
       "    }\n",
       "\n",
       "    .dataframe tbody tr th {\n",
       "        vertical-align: top;\n",
       "    }\n",
       "\n",
       "    .dataframe thead th {\n",
       "        text-align: right;\n",
       "    }\n",
       "</style>\n",
       "<table border=\"1\" class=\"dataframe\">\n",
       "  <thead>\n",
       "    <tr style=\"text-align: right;\">\n",
       "      <th></th>\n",
       "      <th>vcpu</th>\n",
       "      <th>ram</th>\n",
       "      <th>volume</th>\n",
       "    </tr>\n",
       "  </thead>\n",
       "  <tbody>\n",
       "    <tr>\n",
       "      <th>0</th>\n",
       "      <td>4</td>\n",
       "      <td>8</td>\n",
       "      <td>40</td>\n",
       "    </tr>\n",
       "    <tr>\n",
       "      <th>1</th>\n",
       "      <td>4</td>\n",
       "      <td>8</td>\n",
       "      <td>50</td>\n",
       "    </tr>\n",
       "    <tr>\n",
       "      <th>2</th>\n",
       "      <td>4</td>\n",
       "      <td>8</td>\n",
       "      <td>60</td>\n",
       "    </tr>\n",
       "    <tr>\n",
       "      <th>3</th>\n",
       "      <td>4</td>\n",
       "      <td>8</td>\n",
       "      <td>70</td>\n",
       "    </tr>\n",
       "    <tr>\n",
       "      <th>4</th>\n",
       "      <td>4</td>\n",
       "      <td>8</td>\n",
       "      <td>80</td>\n",
       "    </tr>\n",
       "    <tr>\n",
       "      <th>...</th>\n",
       "      <td>...</td>\n",
       "      <td>...</td>\n",
       "      <td>...</td>\n",
       "    </tr>\n",
       "    <tr>\n",
       "      <th>266284</th>\n",
       "      <td>48</td>\n",
       "      <td>180</td>\n",
       "      <td>860</td>\n",
       "    </tr>\n",
       "    <tr>\n",
       "      <th>266285</th>\n",
       "      <td>48</td>\n",
       "      <td>180</td>\n",
       "      <td>870</td>\n",
       "    </tr>\n",
       "    <tr>\n",
       "      <th>266286</th>\n",
       "      <td>48</td>\n",
       "      <td>180</td>\n",
       "      <td>880</td>\n",
       "    </tr>\n",
       "    <tr>\n",
       "      <th>266287</th>\n",
       "      <td>48</td>\n",
       "      <td>180</td>\n",
       "      <td>890</td>\n",
       "    </tr>\n",
       "    <tr>\n",
       "      <th>266288</th>\n",
       "      <td>48</td>\n",
       "      <td>180</td>\n",
       "      <td>900</td>\n",
       "    </tr>\n",
       "  </tbody>\n",
       "</table>\n",
       "<p>266289 rows × 3 columns</p>\n",
       "</div>"
      ],
      "text/plain": [
       "        vcpu  ram  volume\n",
       "0          4    8      40\n",
       "1          4    8      50\n",
       "2          4    8      60\n",
       "3          4    8      70\n",
       "4          4    8      80\n",
       "...      ...  ...     ...\n",
       "266284    48  180     860\n",
       "266285    48  180     870\n",
       "266286    48  180     880\n",
       "266287    48  180     890\n",
       "266288    48  180     900\n",
       "\n",
       "[266289 rows x 3 columns]"
      ]
     },
     "execution_count": 12,
     "metadata": {},
     "output_type": "execute_result"
    }
   ],
   "source": [
    "df_client_requirements"
   ]
  },
  {
   "cell_type": "code",
   "execution_count": 14,
   "metadata": {},
   "outputs": [],
   "source": [
    "df_client_requirements.to_csv('./data/offer_ML/client_requirement_v1.csv')"
   ]
  },
  {
   "cell_type": "markdown",
   "metadata": {},
   "source": [
    "# Read and create training/test client requirements"
   ]
  },
  {
   "cell_type": "code",
   "execution_count": 15,
   "metadata": {},
   "outputs": [],
   "source": [
    "df = pd.read_csv('./data/offer_ML/client_requirement_v1.csv',index_col=0)"
   ]
  },
  {
   "cell_type": "code",
   "execution_count": 16,
   "metadata": {},
   "outputs": [],
   "source": [
    "# generate x test\n",
    "x_test = df.sample(n=200)\n",
    "# remove x test\n",
    "x_train = df.drop(x_test.index)"
   ]
  },
  {
   "cell_type": "code",
   "execution_count": 19,
   "metadata": {},
   "outputs": [],
   "source": [
    "x_test.sort_index(inplace=True)"
   ]
  },
  {
   "cell_type": "code",
   "execution_count": 21,
   "metadata": {},
   "outputs": [],
   "source": [
    "x_train_104 = x_train.sample(random_state=19260817,n=10000)\n",
    "x_train_204 = x_train.sample(random_state=19260817,n=20000)\n",
    "x_train_404 = x_train.sample(random_state=19260817,n=40000)"
   ]
  },
  {
   "cell_type": "code",
   "execution_count": 22,
   "metadata": {},
   "outputs": [],
   "source": [
    "x_test.to_csv('./data/offer_ML/x_test_200_v1.csv')\n",
    "x_train_104.to_csv('./data/offer_ML/x_train_104_v1.csv')\n",
    "x_train_204.to_csv('./data/offer_ML/x_train_204_v1.csv')\n",
    "x_train_404.to_csv('./data/offer_ML/x_train_404_v1.csv')"
   ]
  },
  {
   "cell_type": "code",
   "execution_count": null,
   "metadata": {},
   "outputs": [],
   "source": []
  }
 ],
 "metadata": {
  "kernelspec": {
   "display_name": "Python 3",
   "language": "python",
   "name": "python3"
  },
  "language_info": {
   "codemirror_mode": {
    "name": "ipython",
    "version": 3
   },
   "file_extension": ".py",
   "mimetype": "text/x-python",
   "name": "python",
   "nbconvert_exporter": "python",
   "pygments_lexer": "ipython3",
   "version": "3.8.3"
  }
 },
 "nbformat": 4,
 "nbformat_minor": 5
}
